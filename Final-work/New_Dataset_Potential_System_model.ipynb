{
  "nbformat": 4,
  "nbformat_minor": 0,
  "metadata": {
    "colab": {
      "provenance": []
    },
    "kernelspec": {
      "name": "python3",
      "display_name": "Python 3"
    },
    "language_info": {
      "name": "python"
    }
  },
  "cells": [
    {
      "cell_type": "code",
      "execution_count": null,
      "metadata": {
        "id": "XO1YFCgT49Yk"
      },
      "outputs": [],
      "source": [
        "import pandas as pd\n",
        "\n",
        "df = pd.read_csv(\"/content/breast_cancer_abstracts_FINAL.txt\", sep=\"\\t\")"
      ]
    },
    {
      "cell_type": "code",
      "source": [
        "import re # regex\n",
        "import numpy as np\n",
        "import pandas as pd\n",
        "import matplotlib.pyplot as plt\n",
        "import seaborn as sns\n",
        "\n",
        "\n",
        "import tensorflow as tf\n",
        "import tensorflow_hub as hub\n",
        "from tensorflow import keras \n",
        "from keras import layers\n",
        "from keras.utils import plot_model\n",
        "\n",
        "\n",
        "from sklearn.preprocessing import OneHotEncoder, LabelEncoder \n",
        "from sklearn.metrics import (\n",
        "    accuracy_score, top_k_accuracy_score, f1_score, matthews_corrcoef, \n",
        "    classification_report, precision_recall_fscore_support, \n",
        "    confusion_matrix, ConfusionMatrixDisplay\n",
        ")"
      ],
      "metadata": {
        "id": "GA-pOWYylg5C"
      },
      "execution_count": null,
      "outputs": []
    },
    {
      "cell_type": "code",
      "source": [
        "df.head()"
      ],
      "metadata": {
        "id": "xIhZG9NP5Nas",
        "colab": {
          "base_uri": "https://localhost:8080/",
          "height": 206
        },
        "outputId": "0113578c-9ecf-4068-804e-aa12db3d1116"
      },
      "execution_count": null,
      "outputs": [
        {
          "output_type": "execute_result",
          "data": {
            "text/plain": [
              "       PMID                                           Abstract\n",
              "0  37010907  1. J Particip Med. 2023 Apr 3;15:e42704. doi: ...\n",
              "1  37008540  1. Asia Pac J Oncol Nurs. 2023 Feb 1;10(3):100...\n",
              "2  37007104  1. Front Oncol. 2023 Mar 17;13:1144021. doi: 1...\n",
              "3  37002189  1. Jpn J Clin Oncol. 2023 Mar 31:hyad026. doi:...\n",
              "4  37000800  1. PLoS One. 2023 Mar 31;18(3):e0283849. doi: ..."
            ],
            "text/html": [
              "\n",
              "  <div id=\"df-d1d5764d-a49f-4450-a0c5-e56773a27e94\">\n",
              "    <div class=\"colab-df-container\">\n",
              "      <div>\n",
              "<style scoped>\n",
              "    .dataframe tbody tr th:only-of-type {\n",
              "        vertical-align: middle;\n",
              "    }\n",
              "\n",
              "    .dataframe tbody tr th {\n",
              "        vertical-align: top;\n",
              "    }\n",
              "\n",
              "    .dataframe thead th {\n",
              "        text-align: right;\n",
              "    }\n",
              "</style>\n",
              "<table border=\"1\" class=\"dataframe\">\n",
              "  <thead>\n",
              "    <tr style=\"text-align: right;\">\n",
              "      <th></th>\n",
              "      <th>PMID</th>\n",
              "      <th>Abstract</th>\n",
              "    </tr>\n",
              "  </thead>\n",
              "  <tbody>\n",
              "    <tr>\n",
              "      <th>0</th>\n",
              "      <td>37010907</td>\n",
              "      <td>1. J Particip Med. 2023 Apr 3;15:e42704. doi: ...</td>\n",
              "    </tr>\n",
              "    <tr>\n",
              "      <th>1</th>\n",
              "      <td>37008540</td>\n",
              "      <td>1. Asia Pac J Oncol Nurs. 2023 Feb 1;10(3):100...</td>\n",
              "    </tr>\n",
              "    <tr>\n",
              "      <th>2</th>\n",
              "      <td>37007104</td>\n",
              "      <td>1. Front Oncol. 2023 Mar 17;13:1144021. doi: 1...</td>\n",
              "    </tr>\n",
              "    <tr>\n",
              "      <th>3</th>\n",
              "      <td>37002189</td>\n",
              "      <td>1. Jpn J Clin Oncol. 2023 Mar 31:hyad026. doi:...</td>\n",
              "    </tr>\n",
              "    <tr>\n",
              "      <th>4</th>\n",
              "      <td>37000800</td>\n",
              "      <td>1. PLoS One. 2023 Mar 31;18(3):e0283849. doi: ...</td>\n",
              "    </tr>\n",
              "  </tbody>\n",
              "</table>\n",
              "</div>\n",
              "      <button class=\"colab-df-convert\" onclick=\"convertToInteractive('df-d1d5764d-a49f-4450-a0c5-e56773a27e94')\"\n",
              "              title=\"Convert this dataframe to an interactive table.\"\n",
              "              style=\"display:none;\">\n",
              "        \n",
              "  <svg xmlns=\"http://www.w3.org/2000/svg\" height=\"24px\"viewBox=\"0 0 24 24\"\n",
              "       width=\"24px\">\n",
              "    <path d=\"M0 0h24v24H0V0z\" fill=\"none\"/>\n",
              "    <path d=\"M18.56 5.44l.94 2.06.94-2.06 2.06-.94-2.06-.94-.94-2.06-.94 2.06-2.06.94zm-11 1L8.5 8.5l.94-2.06 2.06-.94-2.06-.94L8.5 2.5l-.94 2.06-2.06.94zm10 10l.94 2.06.94-2.06 2.06-.94-2.06-.94-.94-2.06-.94 2.06-2.06.94z\"/><path d=\"M17.41 7.96l-1.37-1.37c-.4-.4-.92-.59-1.43-.59-.52 0-1.04.2-1.43.59L10.3 9.45l-7.72 7.72c-.78.78-.78 2.05 0 2.83L4 21.41c.39.39.9.59 1.41.59.51 0 1.02-.2 1.41-.59l7.78-7.78 2.81-2.81c.8-.78.8-2.07 0-2.86zM5.41 20L4 18.59l7.72-7.72 1.47 1.35L5.41 20z\"/>\n",
              "  </svg>\n",
              "      </button>\n",
              "      \n",
              "  <style>\n",
              "    .colab-df-container {\n",
              "      display:flex;\n",
              "      flex-wrap:wrap;\n",
              "      gap: 12px;\n",
              "    }\n",
              "\n",
              "    .colab-df-convert {\n",
              "      background-color: #E8F0FE;\n",
              "      border: none;\n",
              "      border-radius: 50%;\n",
              "      cursor: pointer;\n",
              "      display: none;\n",
              "      fill: #1967D2;\n",
              "      height: 32px;\n",
              "      padding: 0 0 0 0;\n",
              "      width: 32px;\n",
              "    }\n",
              "\n",
              "    .colab-df-convert:hover {\n",
              "      background-color: #E2EBFA;\n",
              "      box-shadow: 0px 1px 2px rgba(60, 64, 67, 0.3), 0px 1px 3px 1px rgba(60, 64, 67, 0.15);\n",
              "      fill: #174EA6;\n",
              "    }\n",
              "\n",
              "    [theme=dark] .colab-df-convert {\n",
              "      background-color: #3B4455;\n",
              "      fill: #D2E3FC;\n",
              "    }\n",
              "\n",
              "    [theme=dark] .colab-df-convert:hover {\n",
              "      background-color: #434B5C;\n",
              "      box-shadow: 0px 1px 3px 1px rgba(0, 0, 0, 0.15);\n",
              "      filter: drop-shadow(0px 1px 2px rgba(0, 0, 0, 0.3));\n",
              "      fill: #FFFFFF;\n",
              "    }\n",
              "  </style>\n",
              "\n",
              "      <script>\n",
              "        const buttonEl =\n",
              "          document.querySelector('#df-d1d5764d-a49f-4450-a0c5-e56773a27e94 button.colab-df-convert');\n",
              "        buttonEl.style.display =\n",
              "          google.colab.kernel.accessAllowed ? 'block' : 'none';\n",
              "\n",
              "        async function convertToInteractive(key) {\n",
              "          const element = document.querySelector('#df-d1d5764d-a49f-4450-a0c5-e56773a27e94');\n",
              "          const dataTable =\n",
              "            await google.colab.kernel.invokeFunction('convertToInteractive',\n",
              "                                                     [key], {});\n",
              "          if (!dataTable) return;\n",
              "\n",
              "          const docLinkHtml = 'Like what you see? Visit the ' +\n",
              "            '<a target=\"_blank\" href=https://colab.research.google.com/notebooks/data_table.ipynb>data table notebook</a>'\n",
              "            + ' to learn more about interactive tables.';\n",
              "          element.innerHTML = '';\n",
              "          dataTable['output_type'] = 'display_data';\n",
              "          await google.colab.output.renderOutput(dataTable, element);\n",
              "          const docLink = document.createElement('div');\n",
              "          docLink.innerHTML = docLinkHtml;\n",
              "          element.appendChild(docLink);\n",
              "        }\n",
              "      </script>\n",
              "    </div>\n",
              "  </div>\n",
              "  "
            ]
          },
          "metadata": {},
          "execution_count": 3
        }
      ]
    },
    {
      "cell_type": "code",
      "source": [
        "import nltk.data\n",
        "nltk.download('punkt')\n",
        "tokenizer = nltk.data.load('tokenizers/punkt/english.pickle')\n"
      ],
      "metadata": {
        "id": "zEcFNk8tG4Wu",
        "colab": {
          "base_uri": "https://localhost:8080/"
        },
        "outputId": "fbff0abe-f607-49da-ef00-38926a7b9b7b"
      },
      "execution_count": null,
      "outputs": [
        {
          "output_type": "stream",
          "name": "stderr",
          "text": [
            "[nltk_data] Downloading package punkt to /root/nltk_data...\n",
            "[nltk_data]   Unzipping tokenizers/punkt.zip.\n"
          ]
        }
      ]
    },
    {
      "cell_type": "code",
      "source": [
        "print(tokenizer.tokenize(df[\"Abstract\"][0]))"
      ],
      "metadata": {
        "id": "0_uD2Z4WG_Y0",
        "colab": {
          "base_uri": "https://localhost:8080/"
        },
        "outputId": "0667167d-b7dc-4d4a-f4b4-d17a1d928dfb"
      },
      "execution_count": null,
      "outputs": [
        {
          "output_type": "stream",
          "name": "stdout",
          "text": [
            "['1.', 'J Particip Med.', '2023 Apr 3;15:e42704.', 'doi: 10.2196/42704.', 'Acceptability of Automated Robotic Clinical Breast Examination: Survey Study.', 'Jenkinson GP(#)(1), Houghton N(#)(2), van Zalk N(3), Waller J(4), Bello F(2), \\nTzemanaki A(1).', 'Author information:\\n(1)Bristol Robotics Laboratory, Department of Mechanical Engineering, University \\nof Bristol, Bristol, United Kingdom.', '(2)Centre for Engagement and Simulation Science, Department of Surgery and \\nCancer, Imperial College London, London, United Kingdom.', '(3)Dyson School of Design Engineering, Imperial College London, London, United \\nKingdom.', \"(4)Cancer Prevention Group, School of Cancer & Pharmaceutical Sciences, King's \\nCollege London, London, United Kingdom.\", '(#)Contributed equally\\n\\nBACKGROUND: In the United Kingdom, women aged 50 to 70 years are invited to \\nundergo mammography.', 'However, 10% of invasive breast cancers occur in women aged \\n≤45 years, representing an unmet need for young women.', 'Identifying a suitable \\nscreening modality for this population is challenging; mammography is \\ninsufficiently sensitive, whereas alternative diagnostic methods are invasive or \\ncostly.', 'Robotic clinical breast examination (R-CBE)-using soft robotic \\ntechnology and machine learning for fully automated clinical breast \\nexamination-is a theoretically promising screening modality with early \\nprototypes under development.', 'Understanding the perspectives of potential users \\nand partnering with patients in the design process from the outset is essential \\nfor ensuring the patient-centered design and implementation of this technology.', 'OBJECTIVE: This study investigated the attitudes and perspectives of women \\nregarding the use of soft robotics and intelligent systems in breast cancer \\nscreening.', 'It aimed to determine whether such technology is theoretically \\nacceptable to potential users and identify aspects of the technology and \\nimplementation system that are priorities for patients, allowing these to be \\nintegrated into technology design.', 'METHODS: This study used a mixed methods design.', 'We conducted a 30-minute \\nweb-based survey with 155 women in the United Kingdom.', 'The survey comprised an \\noverview of the proposed concept followed by 5 open-ended questions and 17 \\nclosed questions.', \"Respondents were recruited through a web-based survey linked \\nto the Cancer Research United Kingdom patient involvement opportunities web page \\nand distributed through research networks' mailing lists.\", 'Qualitative data \\ngenerated via the open-ended questions were analyzed using thematic analysis.', 'Quantitative data were analyzed using 2-sample Kolmogorov-Smirnov tests, \\n1-tailed t tests, and Pearson coefficients.', 'RESULTS: Most respondents (143/155, 92.3%) indicated that they would definitely \\nor probably use R-CBE, with 82.6% (128/155) willing to be examined for up to 15 \\nminutes.', 'The most popular location for R-CBE was at a primary care setting, \\nwhereas the most accepted method for receiving the results was an on-screen \\ndisplay (with an option to print information) immediately after the examination.', \"Thematic analysis of free-text responses identified the following 7 themes: \\nwomen perceive that R-CBE has the potential to address limitations in current \\nscreening services; R-CBE may facilitate increased user choice and autonomy; \\nethical motivations for supporting R-CBE development; accuracy (and users' \\nperceptions of accuracy) is essential; results management with clear \\ncommunication is a priority for users; device usability is important; and \\nintegration with health services is key.\", 'CONCLUSIONS: There is a high potential for the acceptance of R-CBE in its target \\nuser group and a high concordance between user expectations and technological \\nfeasibility.', 'Early patient participation in the design process allowed the \\nauthors to identify key development priorities for ensuring that this new \\ntechnology meets the needs of users.', 'Ongoing patient and public involvement at \\neach development stage is essential.', '©George P Jenkinson, Natasha Houghton, Nejra van Zalk, Jo Waller, Fernando \\nBello, Antonia Tzemanaki.', 'Originally published in Journal of Participatory \\nMedicine (https://jopm.jmir.org), 03.04.2023.', 'DOI: 10.2196/42704\\nPMID: 37010907']\n"
          ]
        }
      ]
    },
    {
      "cell_type": "markdown",
      "source": [
        "Clearly, there are rogue \"\\n\"s  in the data."
      ],
      "metadata": {
        "id": "w6luCGrmHiKP"
      }
    },
    {
      "cell_type": "code",
      "source": [
        "lines = tokenizer.tokenize(df[\"Abstract\"][0])"
      ],
      "metadata": {
        "id": "udLJHcQBHhG1"
      },
      "execution_count": null,
      "outputs": []
    },
    {
      "cell_type": "code",
      "source": [
        "lines"
      ],
      "metadata": {
        "id": "TqySeeMsHrZc"
      },
      "execution_count": null,
      "outputs": []
    },
    {
      "cell_type": "code",
      "source": [
        "# lines_not_sentences = str(df[\"Abstract\"][0]).splitlines()\n",
        "lines = str(df[\"Abstract\"][0]).splitlines()"
      ],
      "metadata": {
        "id": "4Chv6Hry5kg0"
      },
      "execution_count": null,
      "outputs": []
    },
    {
      "cell_type": "code",
      "source": [
        "TARGET_LABELS = [\"OBJECTIVE:\", \"BACKGROUND:\", \"METHODS:\", \"RESULTS:\", \"CONCLUSIONS:\"]"
      ],
      "metadata": {
        "id": "mmbXOT526i7j"
      },
      "execution_count": null,
      "outputs": []
    },
    {
      "cell_type": "code",
      "source": [
        "NULL_WORDS = [\"Copyright\", \"Published by\", \"All rights reserved\", \"copyright\", \"©\", \"The Author(s)\",\n",
        "              \"For permissions,\"]"
      ],
      "metadata": {
        "id": "yHGNTDwHUrYI"
      },
      "execution_count": null,
      "outputs": []
    },
    {
      "cell_type": "code",
      "source": [
        "# converting unstructured data into a structured format\n",
        "\n",
        "def get_dict_from_text(df):\n",
        "\n",
        "  line_data = {}\n",
        "  first = 0\n",
        "  last = 0\n",
        "\n",
        "  abstract_samples = []\n",
        "\n",
        "  for i, abstract in enumerate(df[\"Abstract\"]):\n",
        "\n",
        "    # get sentences\n",
        "    lines = tokenizer.tokenize(abstract)\n",
        "\n",
        "    for l_no, l in enumerate(lines):\n",
        "      lines[l_no] = lines[l_no].replace(\"\\n\", \" \") # removing random \\n values found in every abstract.\n",
        "     \n",
        "      if any(word in l for word in TARGET_LABELS): # find \"BACKGROUND\", \"METHODS\", etc in sentence\n",
        "\n",
        "        if l.startswith(tuple(TARGET_LABELS)):\n",
        "          target = l.split()[0] # extract target if sentence starts with any target label\n",
        "          \n",
        "        else:\n",
        "          target_loc = [k for k,w in enumerate(l.split()) if w in TARGET_LABELS] # find the position of the word with the target label\n",
        "\n",
        "          try:\n",
        "            target = l.split()[target_loc[0]]\n",
        "\n",
        "          except:\n",
        "            print(\"error in: \", l) # Abstracts with \"BACKGROUND/METHODS\" -> we do not consider them\n",
        "        \n",
        "        first = l_no # where sentence starts\n",
        "\n",
        "        for j in range(first+1, len(lines)):\n",
        "\n",
        "          if any(word in lines[j] for word in TARGET_LABELS):\n",
        "\n",
        "            last = j # find next instance of keyword\n",
        "            break\n",
        "\n",
        "          elif any(null_word in lines[j] for null_word in NULL_WORDS) or (j == len(lines)-1): \n",
        "            last = j-1 # removing words like \"copyright\" etc found after the conclusion\n",
        "            break\n",
        "\n",
        "          else:\n",
        "            last = j # last word in the sentence\n",
        "            break\n",
        "        \n",
        "        for j in range(first, last):\n",
        "          line_data[\"abstract_id\"] = df[\"PMID\"][i] \n",
        "          line_data[\"line_id\"] = f'{df[\"PMID\"][i]}_{first}_{len(lines)}' # unique line id\n",
        "          \n",
        "          if lines[j].startswith(tuple(TARGET_LABELS)):\n",
        "            \n",
        "            # Removing target variable from the original string\n",
        "\n",
        "            words = lines[j].split()[1:]\n",
        "            sents = \" \".join(words)\n",
        "            line_data[\"abstract_text\"] = sents.replace(\"\\n\", \"\")\n",
        "\n",
        "          elif any(word in l for word in TARGET_LABELS):\n",
        "            words = lines[j].split()\n",
        "            result = [k for k,w in enumerate(words) if w in TARGET_LABELS] # find position of result\n",
        "            # print(result)\n",
        "            try:\n",
        "              sents = \" \".join(words[result[0]+1:])\n",
        "              line_data[\"abstract_text\"] = sents.replace(\"\\n\", \"\")\n",
        "            except:\n",
        "              print(\"error 2 in: \", lines[j])\n",
        "\n",
        "          else:\n",
        "              line_data[\"abstract_text\"] = lines[j].replace(\"\\n\", \"\")\n",
        "\n",
        "          line_data[\"line_number\"] = j\n",
        "          line_data[\"total_lines\"] = len(lines) # total num of lines (may need to change?)\n",
        "          # line_data[\"current_line\"]\n",
        "          line_data[\"current_line\"] = f'{first}_{len(lines)}'\n",
        "\n",
        "          line_data[\"target\"] = target\n",
        "\n",
        "          dictionary = dict(line_data).copy()\n",
        "          abstract_samples.append(dictionary)\n",
        "\n",
        "  return abstract_samples"
      ],
      "metadata": {
        "id": "uTgrY2_ri991"
      },
      "execution_count": null,
      "outputs": []
    },
    {
      "cell_type": "code",
      "source": [
        "# train_df, val_df, test_df = np.split(df.sample(frac=1, random_state=42), [int(.8*len(df)), int(.9*len(df))]) #80/10/10\n",
        "train_df, val_df, test_df = np.split(df.sample(frac=1, random_state=42), [int(.6*len(df)), int(.8*len(df))]) #60/20/20"
      ],
      "metadata": {
        "id": "wtwKnxPmi0hI"
      },
      "execution_count": null,
      "outputs": []
    },
    {
      "cell_type": "code",
      "source": [
        "train_df.shape, val_df.shape, test_df.shape"
      ],
      "metadata": {
        "id": "nQGv8nwGj3Mo",
        "colab": {
          "base_uri": "https://localhost:8080/"
        },
        "outputId": "3ce03042-beee-485b-a6f6-dcf42560f6b6"
      },
      "execution_count": null,
      "outputs": [
        {
          "output_type": "execute_result",
          "data": {
            "text/plain": [
              "((5641, 2), (1880, 2), (1881, 2))"
            ]
          },
          "metadata": {},
          "execution_count": 13
        }
      ]
    },
    {
      "cell_type": "code",
      "source": [
        "train_df = train_df.reset_index(drop=True)\n",
        "val_df = val_df.reset_index(drop=True)\n",
        "test_df = test_df.reset_index(drop=True)"
      ],
      "metadata": {
        "id": "wNB44WHPktLV"
      },
      "execution_count": null,
      "outputs": []
    },
    {
      "cell_type": "code",
      "source": [
        "train_df.head()"
      ],
      "metadata": {
        "id": "J8C3Wtx2k-pY",
        "colab": {
          "base_uri": "https://localhost:8080/",
          "height": 206
        },
        "outputId": "a0d5d553-5021-45ec-8c73-be5147a524ab"
      },
      "execution_count": null,
      "outputs": [
        {
          "output_type": "execute_result",
          "data": {
            "text/plain": [
              "       PMID                                           Abstract\n",
              "0  21055153  1. Zhonghua Bing Li Xue Za Zhi. 2010 Jun;39(6)...\n",
              "1  35594581  1. Comput Methods Programs Biomed. 2022 Jun;22...\n",
              "2   8487323  1. J Natl Cancer Inst. 1993 May 19;85(10):785-...\n",
              "3  29554468  1. Med Decis Making. 2018 Apr;38(1_suppl):140S...\n",
              "4  30656783  1. Psychooncology. 2019 Mar;28(3):600-606. doi..."
            ],
            "text/html": [
              "\n",
              "  <div id=\"df-d15af91f-e9a5-4c16-94e6-a1de9a5b815a\">\n",
              "    <div class=\"colab-df-container\">\n",
              "      <div>\n",
              "<style scoped>\n",
              "    .dataframe tbody tr th:only-of-type {\n",
              "        vertical-align: middle;\n",
              "    }\n",
              "\n",
              "    .dataframe tbody tr th {\n",
              "        vertical-align: top;\n",
              "    }\n",
              "\n",
              "    .dataframe thead th {\n",
              "        text-align: right;\n",
              "    }\n",
              "</style>\n",
              "<table border=\"1\" class=\"dataframe\">\n",
              "  <thead>\n",
              "    <tr style=\"text-align: right;\">\n",
              "      <th></th>\n",
              "      <th>PMID</th>\n",
              "      <th>Abstract</th>\n",
              "    </tr>\n",
              "  </thead>\n",
              "  <tbody>\n",
              "    <tr>\n",
              "      <th>0</th>\n",
              "      <td>21055153</td>\n",
              "      <td>1. Zhonghua Bing Li Xue Za Zhi. 2010 Jun;39(6)...</td>\n",
              "    </tr>\n",
              "    <tr>\n",
              "      <th>1</th>\n",
              "      <td>35594581</td>\n",
              "      <td>1. Comput Methods Programs Biomed. 2022 Jun;22...</td>\n",
              "    </tr>\n",
              "    <tr>\n",
              "      <th>2</th>\n",
              "      <td>8487323</td>\n",
              "      <td>1. J Natl Cancer Inst. 1993 May 19;85(10):785-...</td>\n",
              "    </tr>\n",
              "    <tr>\n",
              "      <th>3</th>\n",
              "      <td>29554468</td>\n",
              "      <td>1. Med Decis Making. 2018 Apr;38(1_suppl):140S...</td>\n",
              "    </tr>\n",
              "    <tr>\n",
              "      <th>4</th>\n",
              "      <td>30656783</td>\n",
              "      <td>1. Psychooncology. 2019 Mar;28(3):600-606. doi...</td>\n",
              "    </tr>\n",
              "  </tbody>\n",
              "</table>\n",
              "</div>\n",
              "      <button class=\"colab-df-convert\" onclick=\"convertToInteractive('df-d15af91f-e9a5-4c16-94e6-a1de9a5b815a')\"\n",
              "              title=\"Convert this dataframe to an interactive table.\"\n",
              "              style=\"display:none;\">\n",
              "        \n",
              "  <svg xmlns=\"http://www.w3.org/2000/svg\" height=\"24px\"viewBox=\"0 0 24 24\"\n",
              "       width=\"24px\">\n",
              "    <path d=\"M0 0h24v24H0V0z\" fill=\"none\"/>\n",
              "    <path d=\"M18.56 5.44l.94 2.06.94-2.06 2.06-.94-2.06-.94-.94-2.06-.94 2.06-2.06.94zm-11 1L8.5 8.5l.94-2.06 2.06-.94-2.06-.94L8.5 2.5l-.94 2.06-2.06.94zm10 10l.94 2.06.94-2.06 2.06-.94-2.06-.94-.94-2.06-.94 2.06-2.06.94z\"/><path d=\"M17.41 7.96l-1.37-1.37c-.4-.4-.92-.59-1.43-.59-.52 0-1.04.2-1.43.59L10.3 9.45l-7.72 7.72c-.78.78-.78 2.05 0 2.83L4 21.41c.39.39.9.59 1.41.59.51 0 1.02-.2 1.41-.59l7.78-7.78 2.81-2.81c.8-.78.8-2.07 0-2.86zM5.41 20L4 18.59l7.72-7.72 1.47 1.35L5.41 20z\"/>\n",
              "  </svg>\n",
              "      </button>\n",
              "      \n",
              "  <style>\n",
              "    .colab-df-container {\n",
              "      display:flex;\n",
              "      flex-wrap:wrap;\n",
              "      gap: 12px;\n",
              "    }\n",
              "\n",
              "    .colab-df-convert {\n",
              "      background-color: #E8F0FE;\n",
              "      border: none;\n",
              "      border-radius: 50%;\n",
              "      cursor: pointer;\n",
              "      display: none;\n",
              "      fill: #1967D2;\n",
              "      height: 32px;\n",
              "      padding: 0 0 0 0;\n",
              "      width: 32px;\n",
              "    }\n",
              "\n",
              "    .colab-df-convert:hover {\n",
              "      background-color: #E2EBFA;\n",
              "      box-shadow: 0px 1px 2px rgba(60, 64, 67, 0.3), 0px 1px 3px 1px rgba(60, 64, 67, 0.15);\n",
              "      fill: #174EA6;\n",
              "    }\n",
              "\n",
              "    [theme=dark] .colab-df-convert {\n",
              "      background-color: #3B4455;\n",
              "      fill: #D2E3FC;\n",
              "    }\n",
              "\n",
              "    [theme=dark] .colab-df-convert:hover {\n",
              "      background-color: #434B5C;\n",
              "      box-shadow: 0px 1px 3px 1px rgba(0, 0, 0, 0.15);\n",
              "      filter: drop-shadow(0px 1px 2px rgba(0, 0, 0, 0.3));\n",
              "      fill: #FFFFFF;\n",
              "    }\n",
              "  </style>\n",
              "\n",
              "      <script>\n",
              "        const buttonEl =\n",
              "          document.querySelector('#df-d15af91f-e9a5-4c16-94e6-a1de9a5b815a button.colab-df-convert');\n",
              "        buttonEl.style.display =\n",
              "          google.colab.kernel.accessAllowed ? 'block' : 'none';\n",
              "\n",
              "        async function convertToInteractive(key) {\n",
              "          const element = document.querySelector('#df-d15af91f-e9a5-4c16-94e6-a1de9a5b815a');\n",
              "          const dataTable =\n",
              "            await google.colab.kernel.invokeFunction('convertToInteractive',\n",
              "                                                     [key], {});\n",
              "          if (!dataTable) return;\n",
              "\n",
              "          const docLinkHtml = 'Like what you see? Visit the ' +\n",
              "            '<a target=\"_blank\" href=https://colab.research.google.com/notebooks/data_table.ipynb>data table notebook</a>'\n",
              "            + ' to learn more about interactive tables.';\n",
              "          element.innerHTML = '';\n",
              "          dataTable['output_type'] = 'display_data';\n",
              "          await google.colab.output.renderOutput(dataTable, element);\n",
              "          const docLink = document.createElement('div');\n",
              "          docLink.innerHTML = docLinkHtml;\n",
              "          element.appendChild(docLink);\n",
              "        }\n",
              "      </script>\n",
              "    </div>\n",
              "  </div>\n",
              "  "
            ]
          },
          "metadata": {},
          "execution_count": 15
        }
      ]
    },
    {
      "cell_type": "code",
      "source": [
        "train_samples = get_dict_from_text(train_df)\n",
        "val_samples = get_dict_from_text(val_df)\n",
        "test_samples = get_dict_from_text(test_df)"
      ],
      "metadata": {
        "id": "wZjs48wuj6xg"
      },
      "execution_count": null,
      "outputs": []
    },
    {
      "cell_type": "code",
      "source": [
        "train_samples[:2]"
      ],
      "metadata": {
        "colab": {
          "base_uri": "https://localhost:8080/"
        },
        "id": "Rfd79m-gkLEK",
        "outputId": "b987adf8-b262-4d02-c9dd-191f60c1d2d0"
      },
      "execution_count": null,
      "outputs": [
        {
          "output_type": "execute_result",
          "data": {
            "text/plain": [
              "[{'abstract_id': 21055153,\n",
              "  'line_id': '21055153_6_18',\n",
              "  'abstract_text': '(1) To investigate the promoter methylation status of gene p16(INK4a) and gene RB in breast carcinoma and the adjacent non-neoplastic hyperplastic epithelial tissue.',\n",
              "  'line_number': 6,\n",
              "  'total_lines': 18,\n",
              "  'current_line': '6_18',\n",
              "  'target': 'OBJECTIVE:'},\n",
              " {'abstract_id': 21055153,\n",
              "  'line_id': '21055153_8_18',\n",
              "  'abstract_text': 'Methylation status of promoters of p16(INK4a) gene and RB gene was detected by using methylation specific PCR in 46 cases of breast cancer, 22 cases of the adjacent non-neoplastic hyperplastic epithelium tissue and 7 cases of normal breast tissue.',\n",
              "  'line_number': 8,\n",
              "  'total_lines': 18,\n",
              "  'current_line': '8_18',\n",
              "  'target': 'METHODS:'}]"
            ]
          },
          "metadata": {},
          "execution_count": 17
        }
      ]
    },
    {
      "cell_type": "markdown",
      "source": [
        "To ensure that pmids are separate in train, dev, and test we split from the original df"
      ],
      "metadata": {
        "id": "x--KMf6HnJoe"
      }
    },
    {
      "cell_type": "code",
      "source": [
        "# back to df but now with appropriate cols\n",
        "train_df = pd.DataFrame(train_samples)\n",
        "val_df = pd.DataFrame(val_samples)\n",
        "test_df = pd.DataFrame(test_samples)"
      ],
      "metadata": {
        "id": "VpJUqBuOlI2T"
      },
      "execution_count": null,
      "outputs": []
    },
    {
      "cell_type": "code",
      "source": [
        "train_df.head(10)"
      ],
      "metadata": {
        "colab": {
          "base_uri": "https://localhost:8080/",
          "height": 965
        },
        "id": "xQ2yAKH8lPsb",
        "outputId": "b6de535b-2e92-4675-b700-79ba5a9d9750"
      },
      "execution_count": null,
      "outputs": [
        {
          "output_type": "execute_result",
          "data": {
            "text/plain": [
              "   abstract_id         line_id  \\\n",
              "0     21055153   21055153_6_18   \n",
              "1     21055153   21055153_8_18   \n",
              "2     21055153  21055153_10_18   \n",
              "3     21055153  21055153_15_18   \n",
              "4     35594581  35594581_24_41   \n",
              "5     35594581  35594581_32_41   \n",
              "6     35594581  35594581_34_41   \n",
              "7     35594581  35594581_36_41   \n",
              "8      8487323    8487323_8_22   \n",
              "9      8487323   8487323_12_22   \n",
              "\n",
              "                                       abstract_text  line_number  \\\n",
              "0  (1) To investigate the promoter methylation st...            6   \n",
              "1  Methylation status of promoters of p16(INK4a) ...            8   \n",
              "2  The methylation rate of p16(INK4a) gene was 23...           10   \n",
              "3  The abnormal methylation of p16(INK4a) gene ma...           15   \n",
              "4  Breast density assessed from digital mammogram...           24   \n",
              "5  A multi-center study composed of 1395 women wh...           32   \n",
              "6  The combination of five networks implementing ...           34   \n",
              "7  The proposed methodology has a similar perform...           36   \n",
              "8  Studies in animals and geographic correlations...            8   \n",
              "9  Aspirates of subcutaneous fat from the buttock...           12   \n",
              "\n",
              "   total_lines current_line        target  \n",
              "0           18         6_18    OBJECTIVE:  \n",
              "1           18         8_18      METHODS:  \n",
              "2           18        10_18      RESULTS:  \n",
              "3           18        15_18  CONCLUSIONS:  \n",
              "4           41        24_41    OBJECTIVE:  \n",
              "5           41        32_41      METHODS:  \n",
              "6           41        34_41      RESULTS:  \n",
              "7           41        36_41  CONCLUSIONS:  \n",
              "8           22         8_22   BACKGROUND:  \n",
              "9           22        12_22      METHODS:  "
            ],
            "text/html": [
              "\n",
              "  <div id=\"df-cc8eba69-2101-4ade-80a7-d11eb26ab3b5\">\n",
              "    <div class=\"colab-df-container\">\n",
              "      <div>\n",
              "<style scoped>\n",
              "    .dataframe tbody tr th:only-of-type {\n",
              "        vertical-align: middle;\n",
              "    }\n",
              "\n",
              "    .dataframe tbody tr th {\n",
              "        vertical-align: top;\n",
              "    }\n",
              "\n",
              "    .dataframe thead th {\n",
              "        text-align: right;\n",
              "    }\n",
              "</style>\n",
              "<table border=\"1\" class=\"dataframe\">\n",
              "  <thead>\n",
              "    <tr style=\"text-align: right;\">\n",
              "      <th></th>\n",
              "      <th>abstract_id</th>\n",
              "      <th>line_id</th>\n",
              "      <th>abstract_text</th>\n",
              "      <th>line_number</th>\n",
              "      <th>total_lines</th>\n",
              "      <th>current_line</th>\n",
              "      <th>target</th>\n",
              "    </tr>\n",
              "  </thead>\n",
              "  <tbody>\n",
              "    <tr>\n",
              "      <th>0</th>\n",
              "      <td>21055153</td>\n",
              "      <td>21055153_6_18</td>\n",
              "      <td>(1) To investigate the promoter methylation st...</td>\n",
              "      <td>6</td>\n",
              "      <td>18</td>\n",
              "      <td>6_18</td>\n",
              "      <td>OBJECTIVE:</td>\n",
              "    </tr>\n",
              "    <tr>\n",
              "      <th>1</th>\n",
              "      <td>21055153</td>\n",
              "      <td>21055153_8_18</td>\n",
              "      <td>Methylation status of promoters of p16(INK4a) ...</td>\n",
              "      <td>8</td>\n",
              "      <td>18</td>\n",
              "      <td>8_18</td>\n",
              "      <td>METHODS:</td>\n",
              "    </tr>\n",
              "    <tr>\n",
              "      <th>2</th>\n",
              "      <td>21055153</td>\n",
              "      <td>21055153_10_18</td>\n",
              "      <td>The methylation rate of p16(INK4a) gene was 23...</td>\n",
              "      <td>10</td>\n",
              "      <td>18</td>\n",
              "      <td>10_18</td>\n",
              "      <td>RESULTS:</td>\n",
              "    </tr>\n",
              "    <tr>\n",
              "      <th>3</th>\n",
              "      <td>21055153</td>\n",
              "      <td>21055153_15_18</td>\n",
              "      <td>The abnormal methylation of p16(INK4a) gene ma...</td>\n",
              "      <td>15</td>\n",
              "      <td>18</td>\n",
              "      <td>15_18</td>\n",
              "      <td>CONCLUSIONS:</td>\n",
              "    </tr>\n",
              "    <tr>\n",
              "      <th>4</th>\n",
              "      <td>35594581</td>\n",
              "      <td>35594581_24_41</td>\n",
              "      <td>Breast density assessed from digital mammogram...</td>\n",
              "      <td>24</td>\n",
              "      <td>41</td>\n",
              "      <td>24_41</td>\n",
              "      <td>OBJECTIVE:</td>\n",
              "    </tr>\n",
              "    <tr>\n",
              "      <th>5</th>\n",
              "      <td>35594581</td>\n",
              "      <td>35594581_32_41</td>\n",
              "      <td>A multi-center study composed of 1395 women wh...</td>\n",
              "      <td>32</td>\n",
              "      <td>41</td>\n",
              "      <td>32_41</td>\n",
              "      <td>METHODS:</td>\n",
              "    </tr>\n",
              "    <tr>\n",
              "      <th>6</th>\n",
              "      <td>35594581</td>\n",
              "      <td>35594581_34_41</td>\n",
              "      <td>The combination of five networks implementing ...</td>\n",
              "      <td>34</td>\n",
              "      <td>41</td>\n",
              "      <td>34_41</td>\n",
              "      <td>RESULTS:</td>\n",
              "    </tr>\n",
              "    <tr>\n",
              "      <th>7</th>\n",
              "      <td>35594581</td>\n",
              "      <td>35594581_36_41</td>\n",
              "      <td>The proposed methodology has a similar perform...</td>\n",
              "      <td>36</td>\n",
              "      <td>41</td>\n",
              "      <td>36_41</td>\n",
              "      <td>CONCLUSIONS:</td>\n",
              "    </tr>\n",
              "    <tr>\n",
              "      <th>8</th>\n",
              "      <td>8487323</td>\n",
              "      <td>8487323_8_22</td>\n",
              "      <td>Studies in animals and geographic correlations...</td>\n",
              "      <td>8</td>\n",
              "      <td>22</td>\n",
              "      <td>8_22</td>\n",
              "      <td>BACKGROUND:</td>\n",
              "    </tr>\n",
              "    <tr>\n",
              "      <th>9</th>\n",
              "      <td>8487323</td>\n",
              "      <td>8487323_12_22</td>\n",
              "      <td>Aspirates of subcutaneous fat from the buttock...</td>\n",
              "      <td>12</td>\n",
              "      <td>22</td>\n",
              "      <td>12_22</td>\n",
              "      <td>METHODS:</td>\n",
              "    </tr>\n",
              "  </tbody>\n",
              "</table>\n",
              "</div>\n",
              "      <button class=\"colab-df-convert\" onclick=\"convertToInteractive('df-cc8eba69-2101-4ade-80a7-d11eb26ab3b5')\"\n",
              "              title=\"Convert this dataframe to an interactive table.\"\n",
              "              style=\"display:none;\">\n",
              "        \n",
              "  <svg xmlns=\"http://www.w3.org/2000/svg\" height=\"24px\"viewBox=\"0 0 24 24\"\n",
              "       width=\"24px\">\n",
              "    <path d=\"M0 0h24v24H0V0z\" fill=\"none\"/>\n",
              "    <path d=\"M18.56 5.44l.94 2.06.94-2.06 2.06-.94-2.06-.94-.94-2.06-.94 2.06-2.06.94zm-11 1L8.5 8.5l.94-2.06 2.06-.94-2.06-.94L8.5 2.5l-.94 2.06-2.06.94zm10 10l.94 2.06.94-2.06 2.06-.94-2.06-.94-.94-2.06-.94 2.06-2.06.94z\"/><path d=\"M17.41 7.96l-1.37-1.37c-.4-.4-.92-.59-1.43-.59-.52 0-1.04.2-1.43.59L10.3 9.45l-7.72 7.72c-.78.78-.78 2.05 0 2.83L4 21.41c.39.39.9.59 1.41.59.51 0 1.02-.2 1.41-.59l7.78-7.78 2.81-2.81c.8-.78.8-2.07 0-2.86zM5.41 20L4 18.59l7.72-7.72 1.47 1.35L5.41 20z\"/>\n",
              "  </svg>\n",
              "      </button>\n",
              "      \n",
              "  <style>\n",
              "    .colab-df-container {\n",
              "      display:flex;\n",
              "      flex-wrap:wrap;\n",
              "      gap: 12px;\n",
              "    }\n",
              "\n",
              "    .colab-df-convert {\n",
              "      background-color: #E8F0FE;\n",
              "      border: none;\n",
              "      border-radius: 50%;\n",
              "      cursor: pointer;\n",
              "      display: none;\n",
              "      fill: #1967D2;\n",
              "      height: 32px;\n",
              "      padding: 0 0 0 0;\n",
              "      width: 32px;\n",
              "    }\n",
              "\n",
              "    .colab-df-convert:hover {\n",
              "      background-color: #E2EBFA;\n",
              "      box-shadow: 0px 1px 2px rgba(60, 64, 67, 0.3), 0px 1px 3px 1px rgba(60, 64, 67, 0.15);\n",
              "      fill: #174EA6;\n",
              "    }\n",
              "\n",
              "    [theme=dark] .colab-df-convert {\n",
              "      background-color: #3B4455;\n",
              "      fill: #D2E3FC;\n",
              "    }\n",
              "\n",
              "    [theme=dark] .colab-df-convert:hover {\n",
              "      background-color: #434B5C;\n",
              "      box-shadow: 0px 1px 3px 1px rgba(0, 0, 0, 0.15);\n",
              "      filter: drop-shadow(0px 1px 2px rgba(0, 0, 0, 0.3));\n",
              "      fill: #FFFFFF;\n",
              "    }\n",
              "  </style>\n",
              "\n",
              "      <script>\n",
              "        const buttonEl =\n",
              "          document.querySelector('#df-cc8eba69-2101-4ade-80a7-d11eb26ab3b5 button.colab-df-convert');\n",
              "        buttonEl.style.display =\n",
              "          google.colab.kernel.accessAllowed ? 'block' : 'none';\n",
              "\n",
              "        async function convertToInteractive(key) {\n",
              "          const element = document.querySelector('#df-cc8eba69-2101-4ade-80a7-d11eb26ab3b5');\n",
              "          const dataTable =\n",
              "            await google.colab.kernel.invokeFunction('convertToInteractive',\n",
              "                                                     [key], {});\n",
              "          if (!dataTable) return;\n",
              "\n",
              "          const docLinkHtml = 'Like what you see? Visit the ' +\n",
              "            '<a target=\"_blank\" href=https://colab.research.google.com/notebooks/data_table.ipynb>data table notebook</a>'\n",
              "            + ' to learn more about interactive tables.';\n",
              "          element.innerHTML = '';\n",
              "          dataTable['output_type'] = 'display_data';\n",
              "          await google.colab.output.renderOutput(dataTable, element);\n",
              "          const docLink = document.createElement('div');\n",
              "          docLink.innerHTML = docLinkHtml;\n",
              "          element.appendChild(docLink);\n",
              "        }\n",
              "      </script>\n",
              "    </div>\n",
              "  </div>\n",
              "  "
            ]
          },
          "metadata": {},
          "execution_count": 19
        }
      ]
    },
    {
      "cell_type": "code",
      "source": [
        "train_df.target.value_counts()"
      ],
      "metadata": {
        "colab": {
          "base_uri": "https://localhost:8080/"
        },
        "id": "5HL7kKDKlRU4",
        "outputId": "778c5331-0d86-4558-be9d-f050be421f91"
      },
      "execution_count": null,
      "outputs": [
        {
          "output_type": "execute_result",
          "data": {
            "text/plain": [
              "RESULTS:        5300\n",
              "METHODS:        5172\n",
              "OBJECTIVE:      3891\n",
              "CONCLUSIONS:    3762\n",
              "BACKGROUND:     1767\n",
              "Name: target, dtype: int64"
            ]
          },
          "metadata": {},
          "execution_count": 20
        }
      ]
    },
    {
      "cell_type": "code",
      "source": [
        "fig, (ax1, ax2, ax3) = plt.subplots(3, figsize=(16, 14))\n",
        "\n",
        "# Set the spacing between subplots\n",
        "fig.tight_layout(pad=6.0)\n",
        "\n",
        "# Plot Train Labels Distribution\n",
        "ax1.set_title('Train Labels Distribution', fontsize=20)\n",
        "train_distribution = train_df['target'].value_counts().sort_values()\n",
        "sns.barplot(x=train_distribution.values,\n",
        "            y=list(train_distribution.keys()),\n",
        "            orient=\"h\",\n",
        "            ax=ax1)\n",
        "\n",
        "# Plot Validation Labels Distribution\n",
        "ax2.set_title('Validation Labels Distribution', fontsize=20)\n",
        "val_distribution = val_df['target'].value_counts().sort_values()\n",
        "sns.barplot(x=val_distribution.values,\n",
        "            y=list(val_distribution.keys()),\n",
        "            orient=\"h\",\n",
        "            ax=ax2);\n",
        "\n",
        "# Plot Test Labels Distribution\n",
        "ax3.set_title('Test Labels Distribution', fontsize=20)\n",
        "test_distribution = test_df['target'].value_counts().sort_values()\n",
        "sns.barplot(x=test_distribution.values,\n",
        "            y=list(test_distribution.keys()),\n",
        "            orient=\"h\",\n",
        "            ax=ax3);"
      ],
      "metadata": {
        "colab": {
          "base_uri": "https://localhost:8080/",
          "height": 557
        },
        "id": "X8vo0lROlaTA",
        "outputId": "bc35b0e4-40db-4c0a-86a2-eba76e5a6e61"
      },
      "execution_count": null,
      "outputs": [
        {
          "output_type": "display_data",
          "data": {
            "text/plain": [
              "<Figure size 1600x1400 with 3 Axes>"
            ],
            "image/png": "[encoded data removed]"
          },
          "metadata": {}
        }
      ]
    },
    {
      "cell_type": "code",
      "source": [
        "# Convert abstract text lines into lists\n",
        "train_sentences = train_df[\"abstract_text\"].tolist()\n",
        "val_sentences = val_df[\"abstract_text\"].tolist()\n",
        "test_sentences = test_df[\"abstract_text\"].tolist()"
      ],
      "metadata": {
        "id": "DOzB_vxUldUi"
      },
      "execution_count": null,
      "outputs": []
    },
    {
      "cell_type": "code",
      "source": [
        "train_sentences_count = len(train_sentences)\n",
        "val_sentences_count = len(val_sentences)\n",
        "test_sentences_count = len(test_sentences)\n",
        "total_sentences_count = train_sentences_count + val_sentences_count + test_sentences_count\n",
        "\n",
        "print(f'Train samples count:\\t\\t{train_sentences_count}')\n",
        "print(f'Dev/Validation sample count:\\t{val_sentences_count}')\n",
        "print(f'Test sample count:\\t\\t{test_sentences_count}')\n",
        "print(f'Total samples:\\t\\t\\t{total_sentences_count}')"
      ],
      "metadata": {
        "colab": {
          "base_uri": "https://localhost:8080/"
        },
        "id": "YTXI8nWmlr5T",
        "outputId": "4f8adaf1-6df5-40ab-fb10-b11cc1b79466"
      },
      "execution_count": null,
      "outputs": [
        {
          "output_type": "stream",
          "name": "stdout",
          "text": [
            "Train samples count:\t\t19892\n",
            "Dev/Validation sample count:\t6526\n",
            "Test sample count:\t\t6637\n",
            "Total samples:\t\t\t33055\n"
          ]
        }
      ]
    },
    {
      "cell_type": "code",
      "source": [
        "one_hot_encoder = OneHotEncoder(sparse_output=False)"
      ],
      "metadata": {
        "id": "puoYO-RsltVd"
      },
      "execution_count": null,
      "outputs": []
    },
    {
      "cell_type": "code",
      "source": [
        "train_labels_one_hot = one_hot_encoder.fit_transform(train_df[\"target\"].to_numpy().reshape(-1, 1))\n",
        "val_labels_one_hot = one_hot_encoder.transform(val_df[\"target\"].to_numpy().reshape(-1, 1))\n",
        "test_labels_one_hot = one_hot_encoder.transform(test_df[\"target\"].to_numpy().reshape(-1, 1))"
      ],
      "metadata": {
        "id": "rFDKx-zJlvKq"
      },
      "execution_count": null,
      "outputs": []
    },
    {
      "cell_type": "code",
      "source": [
        "train_labels_one_hot"
      ],
      "metadata": {
        "colab": {
          "base_uri": "https://localhost:8080/"
        },
        "id": "B5xBQBUjlwZt",
        "outputId": "f22551bd-7d86-4f0b-e779-bb8b9713bd5e"
      },
      "execution_count": null,
      "outputs": [
        {
          "output_type": "execute_result",
          "data": {
            "text/plain": [
              "array([[0., 0., 0., 1., 0.],\n",
              "       [0., 0., 1., 0., 0.],\n",
              "       [0., 0., 0., 0., 1.],\n",
              "       ...,\n",
              "       [0., 0., 0., 1., 0.],\n",
              "       [0., 0., 1., 0., 0.],\n",
              "       [0., 0., 0., 0., 1.]])"
            ]
          },
          "metadata": {},
          "execution_count": 26
        }
      ]
    },
    {
      "cell_type": "code",
      "source": [
        "label_encoder = LabelEncoder()"
      ],
      "metadata": {
        "id": "lu9WchKdlx-Q"
      },
      "execution_count": null,
      "outputs": []
    },
    {
      "cell_type": "code",
      "source": [
        "train_labels_encoded = label_encoder.fit_transform(train_df[\"target\"].to_numpy())\n",
        "val_labels_encoded = label_encoder.transform(val_df[\"target\"].to_numpy())\n",
        "test_labels_encoded = label_encoder.transform(test_df[\"target\"].to_numpy())\n",
        "\n",
        "# inspect label encoded targets\n",
        "train_labels_encoded"
      ],
      "metadata": {
        "colab": {
          "base_uri": "https://localhost:8080/"
        },
        "id": "gJvNBq2_l2BS",
        "outputId": "dd173af4-077b-44ee-b1e0-2f2c234ff0e2"
      },
      "execution_count": null,
      "outputs": [
        {
          "output_type": "execute_result",
          "data": {
            "text/plain": [
              "array([3, 2, 4, ..., 3, 2, 4])"
            ]
          },
          "metadata": {},
          "execution_count": 28
        }
      ]
    },
    {
      "cell_type": "code",
      "source": [
        "num_classes = len(label_encoder.classes_)\n",
        "class_names = label_encoder.classes_\n",
        "\n",
        "print(f'Number of classes: {num_classes}')\n",
        "print(f'Classes: {class_names}')"
      ],
      "metadata": {
        "colab": {
          "base_uri": "https://localhost:8080/"
        },
        "id": "Ac6J3O6kl3Fn",
        "outputId": "e7ff2bb9-5f9d-4dd9-a6be-9041bbc89f82"
      },
      "execution_count": null,
      "outputs": [
        {
          "output_type": "stream",
          "name": "stdout",
          "text": [
            "Number of classes: 5\n",
            "Classes: ['BACKGROUND:' 'CONCLUSIONS:' 'METHODS:' 'OBJECTIVE:' 'RESULTS:']\n"
          ]
        }
      ]
    },
    {
      "cell_type": "code",
      "source": [
        "line_one_hot_encoder = OneHotEncoder(sparse_output=False, handle_unknown=\"infrequent_if_exist\")"
      ],
      "metadata": {
        "id": "4mNilMtI1Ck0"
      },
      "execution_count": null,
      "outputs": []
    },
    {
      "cell_type": "code",
      "source": [
        "train_lines_encoded = line_one_hot_encoder.fit_transform(train_df[\"current_line\"].to_numpy().reshape(-1, 1)).astype(np.float32)\n",
        "val_lines_encoded = line_one_hot_encoder.transform(val_df[\"current_line\"].to_numpy().reshape(-1, 1)).astype(np.float32)\n",
        "test_lines_encoded = line_one_hot_encoder.transform(test_df[\"current_line\"].to_numpy().reshape(-1, 1)).astype(np.float32)"
      ],
      "metadata": {
        "id": "oABXsWhE1DRw"
      },
      "execution_count": null,
      "outputs": []
    },
    {
      "cell_type": "code",
      "source": [
        "test_lines_encoded.shape"
      ],
      "metadata": {
        "colab": {
          "base_uri": "https://localhost:8080/"
        },
        "id": "0121Qnyq1maE",
        "outputId": "8b343ddb-93de-427d-da36-e2965efd71f2"
      },
      "execution_count": null,
      "outputs": [
        {
          "output_type": "execute_result",
          "data": {
            "text/plain": [
              "(6637, 860)"
            ]
          },
          "metadata": {},
          "execution_count": 32
        }
      ]
    },
    {
      "cell_type": "code",
      "source": [
        "def apply_smoothing(line_one_hot, esp=0.01):\n",
        "    return np.abs(line_one_hot - esp)\n",
        "\n",
        "def revert_smoothing(line_one_hot_smooth, esp=0.01):\n",
        "    unsmooth = line_one_hot_smooth\n",
        "    \n",
        "    unsmooth[unsmooth>esp] = 1.0\n",
        "    unsmooth[unsmooth<=esp] = 0.0\n",
        "    \n",
        "    return unsmooth"
      ],
      "metadata": {
        "id": "yglALnX6l4lj"
      },
      "execution_count": null,
      "outputs": []
    },
    {
      "cell_type": "code",
      "source": [
        "# Only apply smoothing to train lines feature \n",
        "train_lines_encoded = apply_smoothing(train_lines_encoded)"
      ],
      "metadata": {
        "id": "iwMUFAhc1o_T"
      },
      "execution_count": null,
      "outputs": []
    },
    {
      "cell_type": "code",
      "source": [
        "def create_pipeline(features, labels, batch_size=32, shuffle=False, cache=False, prefetch=False) -> tf.data.Dataset:\n",
        "    '''\n",
        "    Generates an input pipeline using the tf.data API for training and inference.\n",
        "    \n",
        "    @params\n",
        "        - features: (tuple) -> tuple containing the feature data \n",
        "        - labels: (tf.Tensor | np.ndarray, default=None) -> target data related to the feature data\n",
        "        - batch_size: (int) -> size for batched (default=32) \n",
        "        - shuffle: (bool) -> condition for data shuffling, data is shuffled when True (default=False)\n",
        "        - cache: (bool) -> condition for caching data, data is cached in memory when True (default=False)\n",
        "        - prefetch: (bool) -> condition for prefeching data, data is prefetched when True (default=False)\n",
        "        \n",
        "    @returns\n",
        "        - dataset: (tf.data.Dataset) -> dataset input pipeline used to train a TensorFlow model\n",
        "    '''\n",
        "    \n",
        "    AUTOTUNE = tf.data.AUTOTUNE\n",
        "    \n",
        "    # Create dataset with features and labels\n",
        "    ds = tf.data.Dataset.from_tensor_slices((features, labels))\n",
        "    \n",
        "    # Apply shuffling based on condition\n",
        "    if shuffle:\n",
        "        ds = ds.shuffle(buffer_size=1000)\n",
        "        \n",
        "    # Apply batching\n",
        "    ds = ds.batch(batch_size)\n",
        "    \n",
        "    # Apply caching based on condition\n",
        "    # Note: Do this if the data is small enough to fit in memory!!!\n",
        "    if cache:\n",
        "        ds = ds.cache(buffer_size=AUTOTUNE)\n",
        "    \n",
        "    # Apply prefetching based on condition\n",
        "    # Note: This will result in memory trade-offs\n",
        "    if prefetch:\n",
        "        ds = ds.prefetch(buffer_size=AUTOTUNE)\n",
        "    \n",
        "    # Return the dataset\n",
        "    return ds"
      ],
      "metadata": {
        "id": "ZaB21g5vl7ml"
      },
      "execution_count": null,
      "outputs": []
    },
    {
      "cell_type": "code",
      "source": [
        "BATCH_SIZE = 32\n",
        "\n",
        "# Create preprocessed training dataset\n",
        "train_features = (train_sentences, train_lines_encoded.astype(np.float32)) \n",
        "train_labels = train_labels_one_hot.astype(np.float32)\n",
        "\n",
        "# Create preprocessed train input data pipeline\n",
        "train_ds = create_pipeline(\n",
        "    train_features, train_labels, \n",
        "    batch_size=BATCH_SIZE, shuffle=True, \n",
        "    cache=False, prefetch=True)"
      ],
      "metadata": {
        "id": "8pJ8Miq6l9BD"
      },
      "execution_count": null,
      "outputs": []
    },
    {
      "cell_type": "code",
      "source": [
        "# Create preprocessed validation dataset\n",
        "val_features = (val_sentences, val_lines_encoded.astype(np.float32)) \n",
        "val_labels = val_labels_one_hot.astype(np.float32)\n",
        "\n",
        "# Create preprocessed validation input data pipeline\n",
        "val_ds = create_pipeline(val_features, val_labels, \n",
        "                         batch_size=BATCH_SIZE, shuffle=False, \n",
        "                         cache=False, prefetch=True)"
      ],
      "metadata": {
        "id": "gnmYNWzrl96S"
      },
      "execution_count": null,
      "outputs": []
    },
    {
      "cell_type": "code",
      "source": [
        "# Create preprocessed test dataset\n",
        "test_features = (test_sentences, test_lines_encoded.astype(np.float32)) \n",
        "test_labels = test_labels_one_hot.astype(np.float32)\n",
        "\n",
        "# Create preprocessed test input data pipeline\n",
        "test_ds = create_pipeline(test_features, test_labels, \n",
        "                          batch_size=BATCH_SIZE, shuffle=False, \n",
        "                          cache=False, prefetch=True)"
      ],
      "metadata": {
        "id": "zG7r4lq4l_aE"
      },
      "execution_count": null,
      "outputs": []
    },
    {
      "cell_type": "code",
      "source": [
        "# View string representation of datasets\n",
        "print('========================================')\n",
        "print('Train Input Data Pipeline:\\n\\n', train_ds)\n",
        "print('========================================')\n",
        "print('Validation Input Data Pipeline:\\n\\n', val_ds)\n",
        "print('========================================')\n",
        "print('Test Input Data Pipeline:\\n\\n', test_ds)\n",
        "print('========================================')"
      ],
      "metadata": {
        "colab": {
          "base_uri": "https://localhost:8080/"
        },
        "id": "liqwUW_-mAeE",
        "outputId": "aad240c8-46dd-4a56-eaf2-73ce63a98687"
      },
      "execution_count": null,
      "outputs": [
        {
          "output_type": "stream",
          "name": "stdout",
          "text": [
            "========================================\n",
            "Train Input Data Pipeline:\n",
            "\n",
            " <_PrefetchDataset element_spec=((TensorSpec(shape=(None,), dtype=tf.string, name=None), TensorSpec(shape=(None, 860), dtype=tf.float32, name=None)), TensorSpec(shape=(None, 5), dtype=tf.float32, name=None))>\n",
            "========================================\n",
            "Validation Input Data Pipeline:\n",
            "\n",
            " <_PrefetchDataset element_spec=((TensorSpec(shape=(None,), dtype=tf.string, name=None), TensorSpec(shape=(None, 860), dtype=tf.float32, name=None)), TensorSpec(shape=(None, 5), dtype=tf.float32, name=None))>\n",
            "========================================\n",
            "Test Input Data Pipeline:\n",
            "\n",
            " <_PrefetchDataset element_spec=((TensorSpec(shape=(None,), dtype=tf.string, name=None), TensorSpec(shape=(None, 860), dtype=tf.float32, name=None)), TensorSpec(shape=(None, 5), dtype=tf.float32, name=None))>\n",
            "========================================\n"
          ]
        }
      ]
    },
    {
      "cell_type": "code",
      "source": [
        "!pip install tensorflow-text"
      ],
      "metadata": {
        "id": "n6fKBujAmB8q"
      },
      "execution_count": null,
      "outputs": []
    },
    {
      "cell_type": "code",
      "source": [
        "def get_tfhub_model(model_link, model_name, model_trainable=False):\n",
        "    return hub.KerasLayer(model_link,\n",
        "                          trainable=model_trainable,\n",
        "                          name=model_name)"
      ],
      "metadata": {
        "id": "3yMa5_BAmDrE"
      },
      "execution_count": null,
      "outputs": []
    },
    {
      "cell_type": "markdown",
      "source": [
        "# Modelling"
      ],
      "metadata": {
        "id": "3ZWSI-MZmGSt"
      }
    },
    {
      "cell_type": "markdown",
      "source": [
        "CHANGE ENCODER"
      ],
      "metadata": {
        "id": "cnBIcT3UmHlm"
      }
    },
    {
      "cell_type": "code",
      "source": [
        "encoder_link = 'https://tfhub.dev/google/universal-sentence-encoder/4'\n",
        "encoder_name = 'universal_sentence_encoder'\n",
        "encoder_trainable=False # set trainable to False for inference-only  # TRY TRAINABLE = TRUE\n",
        "\n",
        "encoder = get_tfhub_model(encoder_link, encoder_name, model_trainable=encoder_trainable)"
      ],
      "metadata": {
        "id": "HpAppD2PmFWR"
      },
      "execution_count": null,
      "outputs": []
    },
    {
      "cell_type": "code",
      "source": [
        "def build_model():\n",
        "    # Model Inputs\n",
        "    #------------\n",
        "    abstract_input = layers.Input(shape=[], dtype=tf.string, name='abstract_text_input')    \n",
        "    abstract_current_line = layers.Input(shape=(860), dtype=tf.float32, name='abstract_current_line')\n",
        "    \n",
        "    # Define Layer Initializer\n",
        "    #------------\n",
        "    initializer = tf.keras.initializers.GlorotNormal()\n",
        "\n",
        "    # Text Embedding\n",
        "    #------------\n",
        "    abstract_embedding = encoder(abstract_input)\n",
        "    \n",
        "    # Dense layer\n",
        "    abstract_dense = layers.Dense(64, activation='gelu', kernel_initializer=initializer)(abstract_embedding)\n",
        "    \n",
        "    # Current Line Stream\n",
        "    #------------\n",
        "    current_line_dense = layers.Dense(32, activation='gelu', kernel_initializer=initializer)(abstract_current_line)\n",
        "    current_line_dense = layers.Dropout(0.2)(current_line_dense)\n",
        "\n",
        "    # Concatenate Streams\n",
        "    #------------\n",
        "    streams_concat = layers.Concatenate()([\n",
        "        abstract_dense,\n",
        "        current_line_dense\n",
        "    ])\n",
        "\n",
        "    # Output Layer\n",
        "    #------------\n",
        "    output_layer = layers.Dense(64, activation='gelu', kernel_initializer=initializer)(streams_concat)\n",
        "    output_layer = layers.Dense(5, activation='softmax', kernel_initializer=initializer)(output_layer)\n",
        "\n",
        "    return tf.keras.Model(inputs=[abstract_input, \n",
        "                                  abstract_current_line], \n",
        "                          outputs=[output_layer], name=\"use_simple_model\")"
      ],
      "metadata": {
        "id": "GdDE7iXtidvU"
      },
      "execution_count": null,
      "outputs": []
    },
    {
      "cell_type": "code",
      "source": [
        "model = build_model()"
      ],
      "metadata": {
        "id": "-LMxtlp5mXwX"
      },
      "execution_count": null,
      "outputs": []
    },
    {
      "cell_type": "code",
      "source": [
        "# View summary of model\n",
        "model.summary()"
      ],
      "metadata": {
        "colab": {
          "base_uri": "https://localhost:8080/"
        },
        "id": "Dvg3YK0LmMU-",
        "outputId": "34c5892b-0ffa-4fcf-8eb7-085be4cad230"
      },
      "execution_count": null,
      "outputs": [
        {
          "output_type": "stream",
          "name": "stdout",
          "text": [
            "Model: \"use_simple_model\"\n",
            "__________________________________________________________________________________________________\n",
            " Layer (type)                   Output Shape         Param #     Connected to                     \n",
            "==================================================================================================\n",
            " abstract_text_input (InputLaye  [(None,)]           0           []                               \n",
            " r)                                                                                               \n",
            "                                                                                                  \n",
            " abstract_current_line (InputLa  [(None, 860)]       0           []                               \n",
            " yer)                                                                                             \n",
            "                                                                                                  \n",
            " universal_sentence_encoder (Ke  (None, 512)         256797824   ['abstract_text_input[0][0]']    \n",
            " rasLayer)                                                                                        \n",
            "                                                                                                  \n",
            " dense_5 (Dense)                (None, 32)           27552       ['abstract_current_line[0][0]']  \n",
            "                                                                                                  \n",
            " dense_4 (Dense)                (None, 64)           32832       ['universal_sentence_encoder[1][0\n",
            "                                                                 ]']                              \n",
            "                                                                                                  \n",
            " dropout_1 (Dropout)            (None, 32)           0           ['dense_5[0][0]']                \n",
            "                                                                                                  \n",
            " concatenate_1 (Concatenate)    (None, 96)           0           ['dense_4[0][0]',                \n",
            "                                                                  'dropout_1[0][0]']              \n",
            "                                                                                                  \n",
            " dense_6 (Dense)                (None, 64)           6208        ['concatenate_1[0][0]']          \n",
            "                                                                                                  \n",
            " dense_7 (Dense)                (None, 5)            325         ['dense_6[0][0]']                \n",
            "                                                                                                  \n",
            "==================================================================================================\n",
            "Total params: 256,864,741\n",
            "Trainable params: 66,917\n",
            "Non-trainable params: 256,797,824\n",
            "__________________________________________________________________________________________________\n"
          ]
        }
      ]
    },
    {
      "cell_type": "code",
      "source": [
        "# Explore model visually\n",
        "plot_model(\n",
        "    model,\n",
        "    show_shapes=True,\n",
        "    expand_nested=True\n",
        ")"
      ],
      "metadata": {
        "colab": {
          "base_uri": "https://localhost:8080/",
          "height": 544
        },
        "id": "Wnt9lM4jmN5k",
        "outputId": "4f22f947-73e8-46b0-f73c-3a1ab3e1c7ae"
      },
      "execution_count": null,
      "outputs": [
        {
          "output_type": "execute_result",
          "data": {
            "image/png": "[encoded data removed]",
            "text/plain": [
              "<IPython.core.display.Image object>"
            ]
          },
          "metadata": {},
          "execution_count": 48
        }
      ]
    },
    {
      "cell_type": "code",
      "source": [
        "def train_model(model, num_epochs, callbacks_list, tf_train_data, \n",
        "                tf_valid_data=None, shuffling=False):\n",
        "    '''\n",
        "        Trains a TensorFlow model and returns a dict object containing the model metrics history data. \n",
        "        \n",
        "        @params\n",
        "        - model: (tf.keras.model) -> model to be trained \n",
        "        - num_epochs: (int) -> number of epochs to train the model\n",
        "        - callbacks_list: (list) -> list containing callback fuctions for model\n",
        "        - tf_train_data: (tf.data.Dataset) -> dataset for model to be train on \n",
        "        - tf_valid_data: (tf.data.Dataset) -> dataset for model to be validated on (default=None)\n",
        "        - shuffling: (bool) -> condition for data shuffling, data is shuffled when True (default=False)\n",
        "        \n",
        "        @returns\n",
        "        - model_history: (dict) -> dictionary containing loss and metrics values tracked during training\n",
        "    '''\n",
        "    \n",
        "    model_history = {}\n",
        "    \n",
        "    if tf_valid_data != None:\n",
        "        model_history = model.fit(tf_train_data,\n",
        "                                  epochs=num_epochs,\n",
        "                                  validation_data=tf_valid_data,\n",
        "                                  validation_steps=int(len(tf_valid_data)),\n",
        "                                  callbacks=callbacks_list,\n",
        "                                  shuffle=shuffling)\n",
        "        \n",
        "    if tf_valid_data == None:\n",
        "        model_history = model.fit(tf_train_data,\n",
        "                                  epochs=num_epochs,\n",
        "                                  callbacks=callbacks_list,\n",
        "                                  shuffle=shuffling)\n",
        "    return model_history"
      ],
      "metadata": {
        "id": "NKjj3D4amPT3"
      },
      "execution_count": null,
      "outputs": []
    },
    {
      "cell_type": "code",
      "source": [
        "early_stopping_callback = tf.keras.callbacks.EarlyStopping(\n",
        "    monitor='val_loss', \n",
        "    patience=4, \n",
        "    restore_best_weights=True)\n",
        "\n",
        "reduce_lr_callback = tf.keras.callbacks.ReduceLROnPlateau(\n",
        "    monitor='val_loss',\n",
        "    patience=2,\n",
        "    factor=0.1,\n",
        "    verbose=1)\n",
        "\n",
        "EPOCHS = 20\n",
        "CALLBACKS = [early_stopping_callback, reduce_lr_callback]\n",
        "METRICS = ['accuracy']"
      ],
      "metadata": {
        "id": "JeXeoacLmQxC"
      },
      "execution_count": null,
      "outputs": []
    },
    {
      "cell_type": "code",
      "source": [
        "train_sentences_count = len(train_sentences)\n",
        "val_sentences_count = len(val_sentences)\n",
        "test_sentences_count = len(test_sentences)\n",
        "total_sentences_count = train_sentences_count + val_sentences_count + test_sentences_count"
      ],
      "metadata": {
        "id": "f_3DzyB5mRyV"
      },
      "execution_count": null,
      "outputs": []
    },
    {
      "cell_type": "code",
      "source": [
        "tf.random.set_seed(42)\n",
        "\n",
        "model.compile(\n",
        "    loss=tf.keras.losses.CategoricalCrossentropy(label_smoothing=0.1),\n",
        "    optimizer=tf.keras.optimizers.Adam(learning_rate=0.0001),\n",
        "    metrics=METRICS\n",
        ")\n",
        "\n",
        "print(f'Training {model.name}.')\n",
        "print(f'Train on {train_sentences_count} samples, validate on {val_sentences_count} samples.')\n",
        "print('----------------------------------')\n",
        "\n",
        "model_history = train_model(\n",
        "    model, EPOCHS, CALLBACKS, \n",
        "    train_ds, val_ds,\n",
        "    shuffling=False\n",
        ")"
      ],
      "metadata": {
        "colab": {
          "base_uri": "https://localhost:8080/"
        },
        "id": "Wz_cQUmlmTKa",
        "outputId": "45883921-7e00-48e2-ee88-2d61505ac22e"
      },
      "execution_count": null,
      "outputs": [
        {
          "output_type": "stream",
          "name": "stdout",
          "text": [
            "Training use_simple_model.\n",
            "Train on 19892 samples, validate on 6526 samples.\n",
            "----------------------------------\n",
            "Epoch 1/20\n",
            "622/622 [==============================] - 19s 23ms/step - loss: 1.4404 - accuracy: 0.4893 - val_loss: 1.2124 - val_accuracy: 0.6050 - lr: 1.0000e-04\n",
            "Epoch 2/20\n",
            "622/622 [==============================] - 13s 20ms/step - loss: 1.0664 - accuracy: 0.6610 - val_loss: 1.0213 - val_accuracy: 0.6732 - lr: 1.0000e-04\n",
            "Epoch 3/20\n",
            "622/622 [==============================] - 12s 20ms/step - loss: 0.9491 - accuracy: 0.7142 - val_loss: 0.9546 - val_accuracy: 0.7208 - lr: 1.0000e-04\n",
            "Epoch 4/20\n",
            "622/622 [==============================] - 13s 21ms/step - loss: 0.8749 - accuracy: 0.7594 - val_loss: 0.8940 - val_accuracy: 0.7606 - lr: 1.0000e-04\n",
            "Epoch 5/20\n",
            "622/622 [==============================] - 16s 26ms/step - loss: 0.8240 - accuracy: 0.7864 - val_loss: 0.8517 - val_accuracy: 0.7810 - lr: 1.0000e-04\n",
            "Epoch 6/20\n",
            "622/622 [==============================] - 20s 31ms/step - loss: 0.7963 - accuracy: 0.8024 - val_loss: 0.8262 - val_accuracy: 0.7927 - lr: 1.0000e-04\n",
            "Epoch 7/20\n",
            "622/622 [==============================] - 13s 21ms/step - loss: 0.7791 - accuracy: 0.8079 - val_loss: 0.8125 - val_accuracy: 0.7954 - lr: 1.0000e-04\n",
            "Epoch 8/20\n",
            "622/622 [==============================] - 13s 20ms/step - loss: 0.7641 - accuracy: 0.8159 - val_loss: 0.7965 - val_accuracy: 0.8071 - lr: 1.0000e-04\n",
            "Epoch 9/20\n",
            "622/622 [==============================] - 12s 19ms/step - loss: 0.7547 - accuracy: 0.8206 - val_loss: 0.7885 - val_accuracy: 0.8089 - lr: 1.0000e-04\n",
            "Epoch 10/20\n",
            "622/622 [==============================] - 12s 19ms/step - loss: 0.7475 - accuracy: 0.8261 - val_loss: 0.7785 - val_accuracy: 0.8118 - lr: 1.0000e-04\n",
            "Epoch 11/20\n",
            "622/622 [==============================] - 14s 23ms/step - loss: 0.7415 - accuracy: 0.8267 - val_loss: 0.7745 - val_accuracy: 0.8118 - lr: 1.0000e-04\n",
            "Epoch 12/20\n",
            "622/622 [==============================] - 13s 21ms/step - loss: 0.7362 - accuracy: 0.8318 - val_loss: 0.7694 - val_accuracy: 0.8135 - lr: 1.0000e-04\n",
            "Epoch 13/20\n",
            "622/622 [==============================] - 12s 19ms/step - loss: 0.7303 - accuracy: 0.8327 - val_loss: 0.7656 - val_accuracy: 0.8137 - lr: 1.0000e-04\n",
            "Epoch 14/20\n",
            "622/622 [==============================] - 13s 21ms/step - loss: 0.7274 - accuracy: 0.8348 - val_loss: 0.7616 - val_accuracy: 0.8146 - lr: 1.0000e-04\n",
            "Epoch 15/20\n",
            "622/622 [==============================] - 12s 20ms/step - loss: 0.7230 - accuracy: 0.8381 - val_loss: 0.7580 - val_accuracy: 0.8143 - lr: 1.0000e-04\n",
            "Epoch 16/20\n",
            "622/622 [==============================] - 11s 18ms/step - loss: 0.7204 - accuracy: 0.8381 - val_loss: 0.7584 - val_accuracy: 0.8126 - lr: 1.0000e-04\n",
            "Epoch 17/20\n",
            "622/622 [==============================] - 14s 23ms/step - loss: 0.7167 - accuracy: 0.8404 - val_loss: 0.7551 - val_accuracy: 0.8140 - lr: 1.0000e-04\n",
            "Epoch 18/20\n",
            "622/622 [==============================] - 12s 20ms/step - loss: 0.7151 - accuracy: 0.8423 - val_loss: 0.7528 - val_accuracy: 0.8152 - lr: 1.0000e-04\n",
            "Epoch 19/20\n",
            "622/622 [==============================] - 11s 18ms/step - loss: 0.7126 - accuracy: 0.8425 - val_loss: 0.7516 - val_accuracy: 0.8160 - lr: 1.0000e-04\n",
            "Epoch 20/20\n",
            "622/622 [==============================] - 13s 20ms/step - loss: 0.7096 - accuracy: 0.8447 - val_loss: 0.7502 - val_accuracy: 0.8161 - lr: 1.0000e-04\n"
          ]
        }
      ]
    },
    {
      "cell_type": "code",
      "source": [
        "# evaluate the model on the test data to see how it performs\n",
        "model.evaluate(test_ds)"
      ],
      "metadata": {
        "colab": {
          "base_uri": "https://localhost:8080/"
        },
        "id": "CoEEk2_-mc48",
        "outputId": "775ddf38-4b9a-4cd5-e361-cf4011063651"
      },
      "execution_count": null,
      "outputs": [
        {
          "output_type": "stream",
          "name": "stdout",
          "text": [
            "208/208 [==============================] - 2s 11ms/step - loss: 0.7471 - accuracy: 0.8181\n"
          ]
        },
        {
          "output_type": "execute_result",
          "data": {
            "text/plain": [
              "[0.7471384406089783, 0.8181407451629639]"
            ]
          },
          "metadata": {},
          "execution_count": 53
        }
      ]
    },
    {
      "cell_type": "code",
      "source": [
        "# generate validation probabilities\n",
        "val_probabilities = model.predict(val_ds, verbose=1)\n",
        "val_probabilities"
      ],
      "metadata": {
        "colab": {
          "base_uri": "https://localhost:8080/"
        },
        "id": "xLZooVrBmg01",
        "outputId": "78b114a1-b8d4-4bb6-c72d-21d6a62597b7"
      },
      "execution_count": null,
      "outputs": [
        {
          "output_type": "stream",
          "name": "stdout",
          "text": [
            "204/204 [==============================] - 3s 11ms/step\n"
          ]
        },
        {
          "output_type": "execute_result",
          "data": {
            "text/plain": [
              "array([[0.6095094 , 0.04100183, 0.02295927, 0.32252315, 0.00400627],\n",
              "       [0.01098079, 0.00560394, 0.91050303, 0.02224042, 0.05067186],\n",
              "       [0.0487849 , 0.589618  , 0.03585881, 0.05302614, 0.27271208],\n",
              "       ...,\n",
              "       [0.0194282 , 0.01904628, 0.86207575, 0.01478288, 0.08466688],\n",
              "       [0.00956492, 0.02047117, 0.06530271, 0.00965217, 0.89500904],\n",
              "       [0.01363549, 0.29759547, 0.5225565 , 0.01444815, 0.15176436]],\n",
              "      dtype=float32)"
            ]
          },
          "metadata": {},
          "execution_count": 54
        }
      ]
    },
    {
      "cell_type": "code",
      "source": [
        "# generate test probabilities\n",
        "test_probabilities = model.predict(test_ds, verbose=1)\n",
        "test_probabilities"
      ],
      "metadata": {
        "colab": {
          "base_uri": "https://localhost:8080/"
        },
        "id": "DCujX_d3miPF",
        "outputId": "efa4c12c-b9d0-4b65-e3a7-c2581332a9dc"
      },
      "execution_count": null,
      "outputs": [
        {
          "output_type": "stream",
          "name": "stdout",
          "text": [
            "208/208 [==============================] - 3s 16ms/step\n"
          ]
        },
        {
          "output_type": "execute_result",
          "data": {
            "text/plain": [
              "array([[0.603435  , 0.13411866, 0.02591011, 0.16898149, 0.06755472],\n",
              "       [0.08569899, 0.01621358, 0.7576346 , 0.08004031, 0.06041268],\n",
              "       [0.07463931, 0.0571182 , 0.12422485, 0.03468774, 0.7093299 ],\n",
              "       ...,\n",
              "       [0.04072443, 0.00545475, 0.84598714, 0.04057509, 0.06725855],\n",
              "       [0.0539649 , 0.03487215, 0.09171294, 0.02969212, 0.7897579 ],\n",
              "       [0.03564418, 0.94523436, 0.00613792, 0.00681573, 0.00616779]],\n",
              "      dtype=float32)"
            ]
          },
          "metadata": {},
          "execution_count": 55
        }
      ]
    },
    {
      "cell_type": "code",
      "source": [
        "# generate test predictions with argmax\n",
        "test_predictions = tf.argmax(test_probabilities, axis=1)\n",
        "test_predictions"
      ],
      "metadata": {
        "colab": {
          "base_uri": "https://localhost:8080/"
        },
        "id": "mqH2cHKnmjTb",
        "outputId": "24e639f8-19bc-4a1a-e388-6d08e2ad26d5"
      },
      "execution_count": null,
      "outputs": [
        {
          "output_type": "execute_result",
          "data": {
            "text/plain": [
              "<tf.Tensor: shape=(6637,), dtype=int64, numpy=array([0, 2, 4, ..., 2, 4, 1])>"
            ]
          },
          "metadata": {},
          "execution_count": 56
        }
      ]
    },
    {
      "cell_type": "code",
      "source": [
        "def plot_training_curves(history):\n",
        "    \n",
        "    loss = np.array(history.history['loss'])\n",
        "    val_loss = np.array(history.history['val_loss'])\n",
        "\n",
        "    accuracy = np.array(history.history['accuracy'])\n",
        "    val_accuracy = np.array(history.history['val_accuracy'])\n",
        "\n",
        "    epochs = range(len(history.history['loss']))\n",
        "\n",
        "    fig, (ax1, ax2) = plt.subplots(1, 2)\n",
        "\n",
        "    # Plot loss\n",
        "    ax1.plot(epochs, loss, label='training_loss')\n",
        "    ax1.plot(epochs, val_loss, label='val_loss')\n",
        "    \n",
        "    ax1.fill_between(epochs, loss, val_loss, where=(loss > val_loss), color='C0', alpha=0.3, interpolate=True)\n",
        "    ax1.fill_between(epochs, loss, val_loss, where=(loss < val_loss), color='C1', alpha=0.3, interpolate=True)\n",
        "\n",
        "    ax1.set_title('Loss')\n",
        "    ax1.set_xlabel('Epochs')\n",
        "    ax1.legend()\n",
        "\n",
        "    # Plot accuracy\n",
        "    ax2.plot(epochs, accuracy, label='training_accuracy')\n",
        "    ax2.plot(epochs, val_accuracy, label='val_accuracy')\n",
        "    \n",
        "    ax2.fill_between(epochs, accuracy, val_accuracy, where=(accuracy > val_accuracy), color='C0', alpha=0.3, interpolate=True)\n",
        "    ax2.fill_between(epochs, accuracy, val_accuracy, where=(accuracy < val_accuracy), color='C1', alpha=0.3, interpolate=True)\n",
        "\n",
        "    ax2.set_title('Accuracy')\n",
        "    ax2.set_xlabel('Epochs')\n",
        "    ax2.legend();\n",
        "    plt.tight_layout()"
      ],
      "metadata": {
        "id": "uT69ZeQ8mlHh"
      },
      "execution_count": null,
      "outputs": []
    },
    {
      "cell_type": "code",
      "source": [
        "# plot model training history \n",
        "plot_training_curves(model_history)"
      ],
      "metadata": {
        "colab": {
          "base_uri": "https://localhost:8080/",
          "height": 487
        },
        "id": "5eOQJTGKmrfv",
        "outputId": "7a26695e-f046-4b72-af0d-55429b1a6e13"
      },
      "execution_count": null,
      "outputs": [
        {
          "output_type": "display_data",
          "data": {
            "text/plain": [
              "<Figure size 640x480 with 2 Axes>"
            ],
            "image/png": "[encoded data removed]"
          },
          "metadata": {}
        }
      ]
    },
    {
      "cell_type": "code",
      "source": [
        "# generate validation predictions with argmax\n",
        "val_predictions = tf.argmax(val_probabilities, axis=1)\n",
        "val_predictions"
      ],
      "metadata": {
        "colab": {
          "base_uri": "https://localhost:8080/"
        },
        "id": "0rhRFZjEmsjS",
        "outputId": "1191e87c-b485-4578-b9ad-3348aa6b1929"
      },
      "execution_count": null,
      "outputs": [
        {
          "output_type": "execute_result",
          "data": {
            "text/plain": [
              "<tf.Tensor: shape=(6526,), dtype=int64, numpy=array([0, 2, 1, ..., 2, 4, 2])>"
            ]
          },
          "metadata": {},
          "execution_count": 59
        }
      ]
    },
    {
      "cell_type": "code",
      "source": [
        "# Generate validation classification report\n",
        "print(classification_report(val_labels_encoded, val_predictions, target_names=class_names))"
      ],
      "metadata": {
        "colab": {
          "base_uri": "https://localhost:8080/"
        },
        "id": "uCzvSXgimtww",
        "outputId": "0f121959-b37f-4b1d-a51c-76ef0aec8cd3"
      },
      "execution_count": null,
      "outputs": [
        {
          "output_type": "stream",
          "name": "stdout",
          "text": [
            "              precision    recall  f1-score   support\n",
            "\n",
            " BACKGROUND:       0.53      0.57      0.55       537\n",
            "CONCLUSIONS:       0.92      0.90      0.91      1241\n",
            "    METHODS:       0.82      0.88      0.85      1704\n",
            "  OBJECTIVE:       0.77      0.74      0.75      1289\n",
            "    RESULTS:       0.87      0.83      0.85      1755\n",
            "\n",
            "    accuracy                           0.82      6526\n",
            "   macro avg       0.78      0.78      0.78      6526\n",
            "weighted avg       0.82      0.82      0.82      6526\n",
            "\n"
          ]
        }
      ]
    },
    {
      "cell_type": "code",
      "source": [
        "test_probabilities = model.predict(test_ds, verbose=1)\n",
        "test_probabilities"
      ],
      "metadata": {
        "colab": {
          "base_uri": "https://localhost:8080/"
        },
        "id": "4eWueQNqmup1",
        "outputId": "51d33323-2d9e-4ad4-86c3-97a60db2c759"
      },
      "execution_count": null,
      "outputs": [
        {
          "output_type": "stream",
          "name": "stdout",
          "text": [
            "208/208 [==============================] - 2s 11ms/step\n"
          ]
        },
        {
          "output_type": "execute_result",
          "data": {
            "text/plain": [
              "array([[0.603435  , 0.13411866, 0.02591011, 0.16898149, 0.06755472],\n",
              "       [0.08569899, 0.01621358, 0.7576346 , 0.08004031, 0.06041268],\n",
              "       [0.07463931, 0.0571182 , 0.12422485, 0.03468774, 0.7093299 ],\n",
              "       ...,\n",
              "       [0.04072443, 0.00545475, 0.84598714, 0.04057509, 0.06725855],\n",
              "       [0.0539649 , 0.03487215, 0.09171294, 0.02969212, 0.7897579 ],\n",
              "       [0.03564418, 0.94523436, 0.00613792, 0.00681573, 0.00616779]],\n",
              "      dtype=float32)"
            ]
          },
          "metadata": {},
          "execution_count": 61
        }
      ]
    },
    {
      "cell_type": "code",
      "source": [
        "# generate test predictions with argmax\n",
        "test_predictions = tf.argmax(test_probabilities, axis=1)\n",
        "test_predictions"
      ],
      "metadata": {
        "colab": {
          "base_uri": "https://localhost:8080/"
        },
        "id": "2PNRYpoxmvn_",
        "outputId": "a0e9eea8-824a-4dd4-887f-d91a01c20f4f"
      },
      "execution_count": null,
      "outputs": [
        {
          "output_type": "execute_result",
          "data": {
            "text/plain": [
              "<tf.Tensor: shape=(6637,), dtype=int64, numpy=array([0, 2, 4, ..., 2, 4, 1])>"
            ]
          },
          "metadata": {},
          "execution_count": 62
        }
      ]
    },
    {
      "cell_type": "code",
      "source": [
        "print(classification_report(test_labels_encoded, test_predictions, target_names=class_names))"
      ],
      "metadata": {
        "colab": {
          "base_uri": "https://localhost:8080/"
        },
        "id": "R1oD9VKymwkO",
        "outputId": "4446049f-7500-4f3f-87f4-b00ac834b429"
      },
      "execution_count": null,
      "outputs": [
        {
          "output_type": "stream",
          "name": "stdout",
          "text": [
            "              precision    recall  f1-score   support\n",
            "\n",
            " BACKGROUND:       0.56      0.56      0.56       578\n",
            "CONCLUSIONS:       0.90      0.93      0.91      1274\n",
            "    METHODS:       0.83      0.87      0.85      1723\n",
            "  OBJECTIVE:       0.77      0.76      0.76      1296\n",
            "    RESULTS:       0.87      0.81      0.84      1766\n",
            "\n",
            "    accuracy                           0.82      6637\n",
            "   macro avg       0.79      0.79      0.79      6637\n",
            "weighted avg       0.82      0.82      0.82      6637\n",
            "\n"
          ]
        }
      ]
    },
    {
      "cell_type": "code",
      "source": [
        "def generate_preformance_scores(y_true, y_pred, y_probabilities):\n",
        "    \n",
        "    model_accuracy = round(accuracy_score(y_true, y_pred), 5)\n",
        "    top_3_accuracy = round(top_k_accuracy_score(y_true, y_probabilities, k=3), 5)\n",
        "    model_precision, model_recall, model_f1, _ = precision_recall_fscore_support(test_labels_encoded, \n",
        "                                                                                 test_predictions, \n",
        "                                                                                 average=\"weighted\")\n",
        "    model_precision, model_recall, model_f1 = round(model_precision, 5), round(model_recall, 5), round(model_f1, 5)\n",
        "    model_matthews_corrcoef = round(matthews_corrcoef(y_true, y_pred), 5)\n",
        "    \n",
        "    print('=============================================')\n",
        "    print(f'\\nPerformance Metrics:\\n')\n",
        "    print('=============================================')\n",
        "    print(f'accuracy_score:\\t\\t{model_accuracy}\\n')\n",
        "    print('_____________________________________________')\n",
        "    print(f'top_3_accuracy_score:\\t{top_3_accuracy}\\n')\n",
        "    print('_____________________________________________')\n",
        "    print(f'precision_score:\\t{model_precision}\\n')\n",
        "    print('_____________________________________________')\n",
        "    print(f'recall_score:\\t\\t{model_recall}\\n')\n",
        "    print('_____________________________________________')\n",
        "    print(f'f1_score:\\t\\t{model_f1}\\n')\n",
        "    print('_____________________________________________')\n",
        "    print(f'matthews_corrcoef:\\t{model_matthews_corrcoef}\\n')\n",
        "    print('=============================================')\n",
        "    \n",
        "    return"
      ],
      "metadata": {
        "id": "RDl_z45Emxan"
      },
      "execution_count": null,
      "outputs": []
    },
    {
      "cell_type": "code",
      "source": [
        "generate_preformance_scores(val_labels_encoded, val_predictions, val_probabilities)"
      ],
      "metadata": {
        "colab": {
          "base_uri": "https://localhost:8080/"
        },
        "id": "b85tPnZ3myc4",
        "outputId": "8f0f3ad7-c12f-44e7-b780-45e7d12aba40"
      },
      "execution_count": null,
      "outputs": [
        {
          "output_type": "stream",
          "name": "stdout",
          "text": [
            "=============================================\n",
            "\n",
            "Performance Metrics:\n",
            "\n",
            "=============================================\n",
            "accuracy_score:\t\t0.81612\n",
            "\n",
            "_____________________________________________\n",
            "top_3_accuracy_score:\t0.98606\n",
            "\n",
            "_____________________________________________\n",
            "precision_score:\t0.81816\n",
            "\n",
            "_____________________________________________\n",
            "recall_score:\t\t0.81814\n",
            "\n",
            "_____________________________________________\n",
            "f1_score:\t\t0.81775\n",
            "\n",
            "_____________________________________________\n",
            "matthews_corrcoef:\t0.76402\n",
            "\n",
            "=============================================\n"
          ]
        }
      ]
    },
    {
      "cell_type": "code",
      "source": [
        "generate_preformance_scores(test_labels_encoded, test_predictions, test_probabilities)"
      ],
      "metadata": {
        "colab": {
          "base_uri": "https://localhost:8080/"
        },
        "id": "kSeamc_amzb_",
        "outputId": "a5a8b777-edcc-41b4-fce5-7fdac354e444"
      },
      "execution_count": null,
      "outputs": [
        {
          "output_type": "stream",
          "name": "stdout",
          "text": [
            "=============================================\n",
            "\n",
            "Performance Metrics:\n",
            "\n",
            "=============================================\n",
            "accuracy_score:\t\t0.81814\n",
            "\n",
            "_____________________________________________\n",
            "top_3_accuracy_score:\t0.9881\n",
            "\n",
            "_____________________________________________\n",
            "precision_score:\t0.81816\n",
            "\n",
            "_____________________________________________\n",
            "recall_score:\t\t0.81814\n",
            "\n",
            "_____________________________________________\n",
            "f1_score:\t\t0.81775\n",
            "\n",
            "_____________________________________________\n",
            "matthews_corrcoef:\t0.76694\n",
            "\n",
            "=============================================\n"
          ]
        }
      ]
    },
    {
      "cell_type": "code",
      "source": [
        "def plot_confusion_matrix(y_true, y_pred, classes='auto', figsize=(10, 10), text_size=11): \n",
        "    # Generate confusion matrix \n",
        "    cm = confusion_matrix(y_true, y_pred)\n",
        "    \n",
        "    # Set plot size\n",
        "    plt.figure(figsize=figsize)\n",
        "\n",
        "    # Create confusion matrix heatmap\n",
        "    disp = sns.heatmap(\n",
        "        cm, annot=True,\n",
        "        fmt='d',\n",
        "        linewidths=1, linecolor='black', clip_on=False,\n",
        "        xticklabels=classes, yticklabels=classes)\n",
        "    \n",
        "    # Set title and axis labels\n",
        "    disp.set_title('Confusion Matrix')\n",
        "    disp.set_xlabel('Predicted Label') \n",
        "    disp.set_ylabel('True Label')\n",
        "    \n",
        "    # Plot confusion matrix\n",
        "    plt.show()\n",
        "    \n",
        "    return"
      ],
      "metadata": {
        "id": "KNjjD-2mm0ft"
      },
      "execution_count": null,
      "outputs": []
    },
    {
      "cell_type": "code",
      "source": [
        "# View Confusion Matrix\n",
        "plot_confusion_matrix(\n",
        "    test_labels_encoded, \n",
        "    test_predictions, \n",
        "    figsize=(10, 10), \n",
        "    classes=list(class_names))"
      ],
      "metadata": {
        "colab": {
          "base_uri": "https://localhost:8080/",
          "height": 701
        },
        "id": "V4wzGgn4m1qi",
        "outputId": "7fc2f0a7-a696-42e3-b8e7-a00cdb8d3449"
      },
      "execution_count": null,
      "outputs": [
        {
          "output_type": "display_data",
          "data": {
            "text/plain": [
              "<Figure size 1000x1000 with 2 Axes>"
            ],
            "image/png": "[encoded data removed]"
          },
          "metadata": {}
        }
      ]
    },
    {
      "cell_type": "code",
      "source": [
        "train_df.head()"
      ],
      "metadata": {
        "id": "iNdEWaBgck41",
        "colab": {
          "base_uri": "https://localhost:8080/",
          "height": 530
        },
        "outputId": "75dcb7de-9595-41a9-a0a3-78482c9a2262"
      },
      "execution_count": null,
      "outputs": [
        {
          "output_type": "execute_result",
          "data": {
            "text/plain": [
              "   abstract_id         line_id  \\\n",
              "0     21055153   21055153_6_18   \n",
              "1     21055153   21055153_8_18   \n",
              "2     21055153  21055153_10_18   \n",
              "3     21055153  21055153_15_18   \n",
              "4     35594581  35594581_24_41   \n",
              "\n",
              "                                       abstract_text  line_number  \\\n",
              "0  (1) To investigate the promoter methylation st...            6   \n",
              "1  Methylation status of promoters of p16(INK4a) ...            8   \n",
              "2  The methylation rate of p16(INK4a) gene was 23...           10   \n",
              "3  The abnormal methylation of p16(INK4a) gene ma...           15   \n",
              "4  Breast density assessed from digital mammogram...           24   \n",
              "\n",
              "   total_lines current_line        target  \n",
              "0           18         6_18    OBJECTIVE:  \n",
              "1           18         8_18      METHODS:  \n",
              "2           18        10_18      RESULTS:  \n",
              "3           18        15_18  CONCLUSIONS:  \n",
              "4           41        24_41    OBJECTIVE:  "
            ],
            "text/html": [
              "\n",
              "  <div id=\"df-821a3835-0dc6-4272-a852-d7c6bb874bdf\">\n",
              "    <div class=\"colab-df-container\">\n",
              "      <div>\n",
              "<style scoped>\n",
              "    .dataframe tbody tr th:only-of-type {\n",
              "        vertical-align: middle;\n",
              "    }\n",
              "\n",
              "    .dataframe tbody tr th {\n",
              "        vertical-align: top;\n",
              "    }\n",
              "\n",
              "    .dataframe thead th {\n",
              "        text-align: right;\n",
              "    }\n",
              "</style>\n",
              "<table border=\"1\" class=\"dataframe\">\n",
              "  <thead>\n",
              "    <tr style=\"text-align: right;\">\n",
              "      <th></th>\n",
              "      <th>abstract_id</th>\n",
              "      <th>line_id</th>\n",
              "      <th>abstract_text</th>\n",
              "      <th>line_number</th>\n",
              "      <th>total_lines</th>\n",
              "      <th>current_line</th>\n",
              "      <th>target</th>\n",
              "    </tr>\n",
              "  </thead>\n",
              "  <tbody>\n",
              "    <tr>\n",
              "      <th>0</th>\n",
              "      <td>21055153</td>\n",
              "      <td>21055153_6_18</td>\n",
              "      <td>(1) To investigate the promoter methylation st...</td>\n",
              "      <td>6</td>\n",
              "      <td>18</td>\n",
              "      <td>6_18</td>\n",
              "      <td>OBJECTIVE:</td>\n",
              "    </tr>\n",
              "    <tr>\n",
              "      <th>1</th>\n",
              "      <td>21055153</td>\n",
              "      <td>21055153_8_18</td>\n",
              "      <td>Methylation status of promoters of p16(INK4a) ...</td>\n",
              "      <td>8</td>\n",
              "      <td>18</td>\n",
              "      <td>8_18</td>\n",
              "      <td>METHODS:</td>\n",
              "    </tr>\n",
              "    <tr>\n",
              "      <th>2</th>\n",
              "      <td>21055153</td>\n",
              "      <td>21055153_10_18</td>\n",
              "      <td>The methylation rate of p16(INK4a) gene was 23...</td>\n",
              "      <td>10</td>\n",
              "      <td>18</td>\n",
              "      <td>10_18</td>\n",
              "      <td>RESULTS:</td>\n",
              "    </tr>\n",
              "    <tr>\n",
              "      <th>3</th>\n",
              "      <td>21055153</td>\n",
              "      <td>21055153_15_18</td>\n",
              "      <td>The abnormal methylation of p16(INK4a) gene ma...</td>\n",
              "      <td>15</td>\n",
              "      <td>18</td>\n",
              "      <td>15_18</td>\n",
              "      <td>CONCLUSIONS:</td>\n",
              "    </tr>\n",
              "    <tr>\n",
              "      <th>4</th>\n",
              "      <td>35594581</td>\n",
              "      <td>35594581_24_41</td>\n",
              "      <td>Breast density assessed from digital mammogram...</td>\n",
              "      <td>24</td>\n",
              "      <td>41</td>\n",
              "      <td>24_41</td>\n",
              "      <td>OBJECTIVE:</td>\n",
              "    </tr>\n",
              "  </tbody>\n",
              "</table>\n",
              "</div>\n",
              "      <button class=\"colab-df-convert\" onclick=\"convertToInteractive('df-821a3835-0dc6-4272-a852-d7c6bb874bdf')\"\n",
              "              title=\"Convert this dataframe to an interactive table.\"\n",
              "              style=\"display:none;\">\n",
              "        \n",
              "  <svg xmlns=\"http://www.w3.org/2000/svg\" height=\"24px\"viewBox=\"0 0 24 24\"\n",
              "       width=\"24px\">\n",
              "    <path d=\"M0 0h24v24H0V0z\" fill=\"none\"/>\n",
              "    <path d=\"M18.56 5.44l.94 2.06.94-2.06 2.06-.94-2.06-.94-.94-2.06-.94 2.06-2.06.94zm-11 1L8.5 8.5l.94-2.06 2.06-.94-2.06-.94L8.5 2.5l-.94 2.06-2.06.94zm10 10l.94 2.06.94-2.06 2.06-.94-2.06-.94-.94-2.06-.94 2.06-2.06.94z\"/><path d=\"M17.41 7.96l-1.37-1.37c-.4-.4-.92-.59-1.43-.59-.52 0-1.04.2-1.43.59L10.3 9.45l-7.72 7.72c-.78.78-.78 2.05 0 2.83L4 21.41c.39.39.9.59 1.41.59.51 0 1.02-.2 1.41-.59l7.78-7.78 2.81-2.81c.8-.78.8-2.07 0-2.86zM5.41 20L4 18.59l7.72-7.72 1.47 1.35L5.41 20z\"/>\n",
              "  </svg>\n",
              "      </button>\n",
              "      \n",
              "  <style>\n",
              "    .colab-df-container {\n",
              "      display:flex;\n",
              "      flex-wrap:wrap;\n",
              "      gap: 12px;\n",
              "    }\n",
              "\n",
              "    .colab-df-convert {\n",
              "      background-color: #E8F0FE;\n",
              "      border: none;\n",
              "      border-radius: 50%;\n",
              "      cursor: pointer;\n",
              "      display: none;\n",
              "      fill: #1967D2;\n",
              "      height: 32px;\n",
              "      padding: 0 0 0 0;\n",
              "      width: 32px;\n",
              "    }\n",
              "\n",
              "    .colab-df-convert:hover {\n",
              "      background-color: #E2EBFA;\n",
              "      box-shadow: 0px 1px 2px rgba(60, 64, 67, 0.3), 0px 1px 3px 1px rgba(60, 64, 67, 0.15);\n",
              "      fill: #174EA6;\n",
              "    }\n",
              "\n",
              "    [theme=dark] .colab-df-convert {\n",
              "      background-color: #3B4455;\n",
              "      fill: #D2E3FC;\n",
              "    }\n",
              "\n",
              "    [theme=dark] .colab-df-convert:hover {\n",
              "      background-color: #434B5C;\n",
              "      box-shadow: 0px 1px 3px 1px rgba(0, 0, 0, 0.15);\n",
              "      filter: drop-shadow(0px 1px 2px rgba(0, 0, 0, 0.3));\n",
              "      fill: #FFFFFF;\n",
              "    }\n",
              "  </style>\n",
              "\n",
              "      <script>\n",
              "        const buttonEl =\n",
              "          document.querySelector('#df-821a3835-0dc6-4272-a852-d7c6bb874bdf button.colab-df-convert');\n",
              "        buttonEl.style.display =\n",
              "          google.colab.kernel.accessAllowed ? 'block' : 'none';\n",
              "\n",
              "        async function convertToInteractive(key) {\n",
              "          const element = document.querySelector('#df-821a3835-0dc6-4272-a852-d7c6bb874bdf');\n",
              "          const dataTable =\n",
              "            await google.colab.kernel.invokeFunction('convertToInteractive',\n",
              "                                                     [key], {});\n",
              "          if (!dataTable) return;\n",
              "\n",
              "          const docLinkHtml = 'Like what you see? Visit the ' +\n",
              "            '<a target=\"_blank\" href=https://colab.research.google.com/notebooks/data_table.ipynb>data table notebook</a>'\n",
              "            + ' to learn more about interactive tables.';\n",
              "          element.innerHTML = '';\n",
              "          dataTable['output_type'] = 'display_data';\n",
              "          await google.colab.output.renderOutput(dataTable, element);\n",
              "          const docLink = document.createElement('div');\n",
              "          docLink.innerHTML = docLinkHtml;\n",
              "          element.appendChild(docLink);\n",
              "        }\n",
              "      </script>\n",
              "    </div>\n",
              "  </div>\n",
              "  "
            ]
          },
          "metadata": {},
          "execution_count": 69
        }
      ]
    },
    {
      "cell_type": "code",
      "source": [],
      "metadata": {
        "id": "686f3rHP2geT"
      },
      "execution_count": null,
      "outputs": []
    }
  ]
}
