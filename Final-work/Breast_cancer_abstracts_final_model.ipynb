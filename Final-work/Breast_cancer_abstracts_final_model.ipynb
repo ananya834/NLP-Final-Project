{
  "nbformat": 4,
  "nbformat_minor": 0,
  "metadata": {
    "colab": {
      "provenance": []
    },
    "kernelspec": {
      "name": "python3",
      "display_name": "Python 3"
    },
    "language_info": {
      "name": "python"
    }
  },
  "cells": [
    {
      "cell_type": "code",
      "execution_count": 1,
      "metadata": {
        "id": "XO1YFCgT49Yk"
      },
      "outputs": [],
      "source": [
        "import pandas as pd\n",
        "\n",
        "df = pd.read_csv(\"/content/breast_cancer_abstracts_FINAL.txt\", sep=\"\\t\")"
      ]
    },
    {
      "cell_type": "code",
      "source": [
        "import re # regex\n",
        "import numpy as np\n",
        "import pandas as pd\n",
        "import matplotlib.pyplot as plt\n",
        "import seaborn as sns\n",
        "\n",
        "\n",
        "import tensorflow as tf\n",
        "import tensorflow_hub as hub\n",
        "from tensorflow import keras \n",
        "from keras import layers\n",
        "from keras.utils import plot_model\n",
        "\n",
        "\n",
        "from sklearn.preprocessing import OneHotEncoder, LabelEncoder \n",
        "from sklearn.metrics import (\n",
        "    accuracy_score, top_k_accuracy_score, f1_score, matthews_corrcoef, \n",
        "    classification_report, precision_recall_fscore_support, \n",
        "    confusion_matrix, ConfusionMatrixDisplay\n",
        ")"
      ],
      "metadata": {
        "id": "GA-pOWYylg5C"
      },
      "execution_count": 2,
      "outputs": []
    },
    {
      "cell_type": "code",
      "source": [
        "df.head()"
      ],
      "metadata": {
        "id": "xIhZG9NP5Nas",
        "colab": {
          "base_uri": "https://localhost:8080/",
          "height": 206
        },
        "outputId": "14625e24-5c24-47de-c8af-9704868c80c0"
      },
      "execution_count": 3,
      "outputs": [
        {
          "output_type": "execute_result",
          "data": {
            "text/plain": [
              "       PMID                                           Abstract\n",
              "0  37010907  1. J Particip Med. 2023 Apr 3;15:e42704. doi: ...\n",
              "1  37008540  1. Asia Pac J Oncol Nurs. 2023 Feb 1;10(3):100...\n",
              "2  37007104  1. Front Oncol. 2023 Mar 17;13:1144021. doi: 1...\n",
              "3  37002189  1. Jpn J Clin Oncol. 2023 Mar 31:hyad026. doi:...\n",
              "4  37000800  1. PLoS One. 2023 Mar 31;18(3):e0283849. doi: ..."
            ],
            "text/html": [
              "\n",
              "  <div id=\"df-e8b7f816-a3fe-4053-93fd-357e2dca7bc5\">\n",
              "    <div class=\"colab-df-container\">\n",
              "      <div>\n",
              "<style scoped>\n",
              "    .dataframe tbody tr th:only-of-type {\n",
              "        vertical-align: middle;\n",
              "    }\n",
              "\n",
              "    .dataframe tbody tr th {\n",
              "        vertical-align: top;\n",
              "    }\n",
              "\n",
              "    .dataframe thead th {\n",
              "        text-align: right;\n",
              "    }\n",
              "</style>\n",
              "<table border=\"1\" class=\"dataframe\">\n",
              "  <thead>\n",
              "    <tr style=\"text-align: right;\">\n",
              "      <th></th>\n",
              "      <th>PMID</th>\n",
              "      <th>Abstract</th>\n",
              "    </tr>\n",
              "  </thead>\n",
              "  <tbody>\n",
              "    <tr>\n",
              "      <th>0</th>\n",
              "      <td>37010907</td>\n",
              "      <td>1. J Particip Med. 2023 Apr 3;15:e42704. doi: ...</td>\n",
              "    </tr>\n",
              "    <tr>\n",
              "      <th>1</th>\n",
              "      <td>37008540</td>\n",
              "      <td>1. Asia Pac J Oncol Nurs. 2023 Feb 1;10(3):100...</td>\n",
              "    </tr>\n",
              "    <tr>\n",
              "      <th>2</th>\n",
              "      <td>37007104</td>\n",
              "      <td>1. Front Oncol. 2023 Mar 17;13:1144021. doi: 1...</td>\n",
              "    </tr>\n",
              "    <tr>\n",
              "      <th>3</th>\n",
              "      <td>37002189</td>\n",
              "      <td>1. Jpn J Clin Oncol. 2023 Mar 31:hyad026. doi:...</td>\n",
              "    </tr>\n",
              "    <tr>\n",
              "      <th>4</th>\n",
              "      <td>37000800</td>\n",
              "      <td>1. PLoS One. 2023 Mar 31;18(3):e0283849. doi: ...</td>\n",
              "    </tr>\n",
              "  </tbody>\n",
              "</table>\n",
              "</div>\n",
              "      <button class=\"colab-df-convert\" onclick=\"convertToInteractive('df-e8b7f816-a3fe-4053-93fd-357e2dca7bc5')\"\n",
              "              title=\"Convert this dataframe to an interactive table.\"\n",
              "              style=\"display:none;\">\n",
              "        \n",
              "  <svg xmlns=\"http://www.w3.org/2000/svg\" height=\"24px\"viewBox=\"0 0 24 24\"\n",
              "       width=\"24px\">\n",
              "    <path d=\"M0 0h24v24H0V0z\" fill=\"none\"/>\n",
              "    <path d=\"M18.56 5.44l.94 2.06.94-2.06 2.06-.94-2.06-.94-.94-2.06-.94 2.06-2.06.94zm-11 1L8.5 8.5l.94-2.06 2.06-.94-2.06-.94L8.5 2.5l-.94 2.06-2.06.94zm10 10l.94 2.06.94-2.06 2.06-.94-2.06-.94-.94-2.06-.94 2.06-2.06.94z\"/><path d=\"M17.41 7.96l-1.37-1.37c-.4-.4-.92-.59-1.43-.59-.52 0-1.04.2-1.43.59L10.3 9.45l-7.72 7.72c-.78.78-.78 2.05 0 2.83L4 21.41c.39.39.9.59 1.41.59.51 0 1.02-.2 1.41-.59l7.78-7.78 2.81-2.81c.8-.78.8-2.07 0-2.86zM5.41 20L4 18.59l7.72-7.72 1.47 1.35L5.41 20z\"/>\n",
              "  </svg>\n",
              "      </button>\n",
              "      \n",
              "  <style>\n",
              "    .colab-df-container {\n",
              "      display:flex;\n",
              "      flex-wrap:wrap;\n",
              "      gap: 12px;\n",
              "    }\n",
              "\n",
              "    .colab-df-convert {\n",
              "      background-color: #E8F0FE;\n",
              "      border: none;\n",
              "      border-radius: 50%;\n",
              "      cursor: pointer;\n",
              "      display: none;\n",
              "      fill: #1967D2;\n",
              "      height: 32px;\n",
              "      padding: 0 0 0 0;\n",
              "      width: 32px;\n",
              "    }\n",
              "\n",
              "    .colab-df-convert:hover {\n",
              "      background-color: #E2EBFA;\n",
              "      box-shadow: 0px 1px 2px rgba(60, 64, 67, 0.3), 0px 1px 3px 1px rgba(60, 64, 67, 0.15);\n",
              "      fill: #174EA6;\n",
              "    }\n",
              "\n",
              "    [theme=dark] .colab-df-convert {\n",
              "      background-color: #3B4455;\n",
              "      fill: #D2E3FC;\n",
              "    }\n",
              "\n",
              "    [theme=dark] .colab-df-convert:hover {\n",
              "      background-color: #434B5C;\n",
              "      box-shadow: 0px 1px 3px 1px rgba(0, 0, 0, 0.15);\n",
              "      filter: drop-shadow(0px 1px 2px rgba(0, 0, 0, 0.3));\n",
              "      fill: #FFFFFF;\n",
              "    }\n",
              "  </style>\n",
              "\n",
              "      <script>\n",
              "        const buttonEl =\n",
              "          document.querySelector('#df-e8b7f816-a3fe-4053-93fd-357e2dca7bc5 button.colab-df-convert');\n",
              "        buttonEl.style.display =\n",
              "          google.colab.kernel.accessAllowed ? 'block' : 'none';\n",
              "\n",
              "        async function convertToInteractive(key) {\n",
              "          const element = document.querySelector('#df-e8b7f816-a3fe-4053-93fd-357e2dca7bc5');\n",
              "          const dataTable =\n",
              "            await google.colab.kernel.invokeFunction('convertToInteractive',\n",
              "                                                     [key], {});\n",
              "          if (!dataTable) return;\n",
              "\n",
              "          const docLinkHtml = 'Like what you see? Visit the ' +\n",
              "            '<a target=\"_blank\" href=https://colab.research.google.com/notebooks/data_table.ipynb>data table notebook</a>'\n",
              "            + ' to learn more about interactive tables.';\n",
              "          element.innerHTML = '';\n",
              "          dataTable['output_type'] = 'display_data';\n",
              "          await google.colab.output.renderOutput(dataTable, element);\n",
              "          const docLink = document.createElement('div');\n",
              "          docLink.innerHTML = docLinkHtml;\n",
              "          element.appendChild(docLink);\n",
              "        }\n",
              "      </script>\n",
              "    </div>\n",
              "  </div>\n",
              "  "
            ]
          },
          "metadata": {},
          "execution_count": 3
        }
      ]
    },
    {
      "cell_type": "code",
      "source": [
        "import nltk.data\n",
        "nltk.download('punkt')\n",
        "tokenizer = nltk.data.load('tokenizers/punkt/english.pickle')\n"
      ],
      "metadata": {
        "id": "zEcFNk8tG4Wu",
        "colab": {
          "base_uri": "https://localhost:8080/"
        },
        "outputId": "d1f0fa50-ddf9-4333-86e0-e22affda6226"
      },
      "execution_count": 5,
      "outputs": [
        {
          "output_type": "stream",
          "name": "stderr",
          "text": [
            "[nltk_data] Downloading package punkt to /root/nltk_data...\n",
            "[nltk_data]   Unzipping tokenizers/punkt.zip.\n"
          ]
        }
      ]
    },
    {
      "cell_type": "code",
      "source": [
        "print(tokenizer.tokenize(df[\"Abstract\"][0]))"
      ],
      "metadata": {
        "id": "0_uD2Z4WG_Y0",
        "colab": {
          "base_uri": "https://localhost:8080/"
        },
        "outputId": "05261396-1dc8-4f10-f11c-fd8dcb80b25b"
      },
      "execution_count": 6,
      "outputs": [
        {
          "output_type": "stream",
          "name": "stdout",
          "text": [
            "['1.', 'J Particip Med.', '2023 Apr 3;15:e42704.', 'doi: 10.2196/42704.', 'Acceptability of Automated Robotic Clinical Breast Examination: Survey Study.', 'Jenkinson GP(#)(1), Houghton N(#)(2), van Zalk N(3), Waller J(4), Bello F(2), \\nTzemanaki A(1).', 'Author information:\\n(1)Bristol Robotics Laboratory, Department of Mechanical Engineering, University \\nof Bristol, Bristol, United Kingdom.', '(2)Centre for Engagement and Simulation Science, Department of Surgery and \\nCancer, Imperial College London, London, United Kingdom.', '(3)Dyson School of Design Engineering, Imperial College London, London, United \\nKingdom.', \"(4)Cancer Prevention Group, School of Cancer & Pharmaceutical Sciences, King's \\nCollege London, London, United Kingdom.\", '(#)Contributed equally\\n\\nBACKGROUND: In the United Kingdom, women aged 50 to 70 years are invited to \\nundergo mammography.', 'However, 10% of invasive breast cancers occur in women aged \\n≤45 years, representing an unmet need for young women.', 'Identifying a suitable \\nscreening modality for this population is challenging; mammography is \\ninsufficiently sensitive, whereas alternative diagnostic methods are invasive or \\ncostly.', 'Robotic clinical breast examination (R-CBE)-using soft robotic \\ntechnology and machine learning for fully automated clinical breast \\nexamination-is a theoretically promising screening modality with early \\nprototypes under development.', 'Understanding the perspectives of potential users \\nand partnering with patients in the design process from the outset is essential \\nfor ensuring the patient-centered design and implementation of this technology.', 'OBJECTIVE: This study investigated the attitudes and perspectives of women \\nregarding the use of soft robotics and intelligent systems in breast cancer \\nscreening.', 'It aimed to determine whether such technology is theoretically \\nacceptable to potential users and identify aspects of the technology and \\nimplementation system that are priorities for patients, allowing these to be \\nintegrated into technology design.', 'METHODS: This study used a mixed methods design.', 'We conducted a 30-minute \\nweb-based survey with 155 women in the United Kingdom.', 'The survey comprised an \\noverview of the proposed concept followed by 5 open-ended questions and 17 \\nclosed questions.', \"Respondents were recruited through a web-based survey linked \\nto the Cancer Research United Kingdom patient involvement opportunities web page \\nand distributed through research networks' mailing lists.\", 'Qualitative data \\ngenerated via the open-ended questions were analyzed using thematic analysis.', 'Quantitative data were analyzed using 2-sample Kolmogorov-Smirnov tests, \\n1-tailed t tests, and Pearson coefficients.', 'RESULTS: Most respondents (143/155, 92.3%) indicated that they would definitely \\nor probably use R-CBE, with 82.6% (128/155) willing to be examined for up to 15 \\nminutes.', 'The most popular location for R-CBE was at a primary care setting, \\nwhereas the most accepted method for receiving the results was an on-screen \\ndisplay (with an option to print information) immediately after the examination.', \"Thematic analysis of free-text responses identified the following 7 themes: \\nwomen perceive that R-CBE has the potential to address limitations in current \\nscreening services; R-CBE may facilitate increased user choice and autonomy; \\nethical motivations for supporting R-CBE development; accuracy (and users' \\nperceptions of accuracy) is essential; results management with clear \\ncommunication is a priority for users; device usability is important; and \\nintegration with health services is key.\", 'CONCLUSIONS: There is a high potential for the acceptance of R-CBE in its target \\nuser group and a high concordance between user expectations and technological \\nfeasibility.', 'Early patient participation in the design process allowed the \\nauthors to identify key development priorities for ensuring that this new \\ntechnology meets the needs of users.', 'Ongoing patient and public involvement at \\neach development stage is essential.', '©George P Jenkinson, Natasha Houghton, Nejra van Zalk, Jo Waller, Fernando \\nBello, Antonia Tzemanaki.', 'Originally published in Journal of Participatory \\nMedicine (https://jopm.jmir.org), 03.04.2023.', 'DOI: 10.2196/42704\\nPMID: 37010907']\n"
          ]
        }
      ]
    },
    {
      "cell_type": "markdown",
      "source": [
        "Clearly, there are rogue \"\\n\"s  in the data."
      ],
      "metadata": {
        "id": "w6luCGrmHiKP"
      }
    },
    {
      "cell_type": "code",
      "source": [
        "lines = tokenizer.tokenize(df[\"Abstract\"][0])"
      ],
      "metadata": {
        "id": "udLJHcQBHhG1"
      },
      "execution_count": 7,
      "outputs": []
    },
    {
      "cell_type": "code",
      "source": [
        "lines"
      ],
      "metadata": {
        "id": "TqySeeMsHrZc",
        "colab": {
          "base_uri": "https://localhost:8080/"
        },
        "outputId": "47de0036-cc68-427c-8823-195f368dc9b3"
      },
      "execution_count": 8,
      "outputs": [
        {
          "output_type": "execute_result",
          "data": {
            "text/plain": [
              "['1.',\n",
              " 'J Particip Med.',\n",
              " '2023 Apr 3;15:e42704.',\n",
              " 'doi: 10.2196/42704.',\n",
              " 'Acceptability of Automated Robotic Clinical Breast Examination: Survey Study.',\n",
              " 'Jenkinson GP(#)(1), Houghton N(#)(2), van Zalk N(3), Waller J(4), Bello F(2), \\nTzemanaki A(1).',\n",
              " 'Author information:\\n(1)Bristol Robotics Laboratory, Department of Mechanical Engineering, University \\nof Bristol, Bristol, United Kingdom.',\n",
              " '(2)Centre for Engagement and Simulation Science, Department of Surgery and \\nCancer, Imperial College London, London, United Kingdom.',\n",
              " '(3)Dyson School of Design Engineering, Imperial College London, London, United \\nKingdom.',\n",
              " \"(4)Cancer Prevention Group, School of Cancer & Pharmaceutical Sciences, King's \\nCollege London, London, United Kingdom.\",\n",
              " '(#)Contributed equally\\n\\nBACKGROUND: In the United Kingdom, women aged 50 to 70 years are invited to \\nundergo mammography.',\n",
              " 'However, 10% of invasive breast cancers occur in women aged \\n≤45 years, representing an unmet need for young women.',\n",
              " 'Identifying a suitable \\nscreening modality for this population is challenging; mammography is \\ninsufficiently sensitive, whereas alternative diagnostic methods are invasive or \\ncostly.',\n",
              " 'Robotic clinical breast examination (R-CBE)-using soft robotic \\ntechnology and machine learning for fully automated clinical breast \\nexamination-is a theoretically promising screening modality with early \\nprototypes under development.',\n",
              " 'Understanding the perspectives of potential users \\nand partnering with patients in the design process from the outset is essential \\nfor ensuring the patient-centered design and implementation of this technology.',\n",
              " 'OBJECTIVE: This study investigated the attitudes and perspectives of women \\nregarding the use of soft robotics and intelligent systems in breast cancer \\nscreening.',\n",
              " 'It aimed to determine whether such technology is theoretically \\nacceptable to potential users and identify aspects of the technology and \\nimplementation system that are priorities for patients, allowing these to be \\nintegrated into technology design.',\n",
              " 'METHODS: This study used a mixed methods design.',\n",
              " 'We conducted a 30-minute \\nweb-based survey with 155 women in the United Kingdom.',\n",
              " 'The survey comprised an \\noverview of the proposed concept followed by 5 open-ended questions and 17 \\nclosed questions.',\n",
              " \"Respondents were recruited through a web-based survey linked \\nto the Cancer Research United Kingdom patient involvement opportunities web page \\nand distributed through research networks' mailing lists.\",\n",
              " 'Qualitative data \\ngenerated via the open-ended questions were analyzed using thematic analysis.',\n",
              " 'Quantitative data were analyzed using 2-sample Kolmogorov-Smirnov tests, \\n1-tailed t tests, and Pearson coefficients.',\n",
              " 'RESULTS: Most respondents (143/155, 92.3%) indicated that they would definitely \\nor probably use R-CBE, with 82.6% (128/155) willing to be examined for up to 15 \\nminutes.',\n",
              " 'The most popular location for R-CBE was at a primary care setting, \\nwhereas the most accepted method for receiving the results was an on-screen \\ndisplay (with an option to print information) immediately after the examination.',\n",
              " \"Thematic analysis of free-text responses identified the following 7 themes: \\nwomen perceive that R-CBE has the potential to address limitations in current \\nscreening services; R-CBE may facilitate increased user choice and autonomy; \\nethical motivations for supporting R-CBE development; accuracy (and users' \\nperceptions of accuracy) is essential; results management with clear \\ncommunication is a priority for users; device usability is important; and \\nintegration with health services is key.\",\n",
              " 'CONCLUSIONS: There is a high potential for the acceptance of R-CBE in its target \\nuser group and a high concordance between user expectations and technological \\nfeasibility.',\n",
              " 'Early patient participation in the design process allowed the \\nauthors to identify key development priorities for ensuring that this new \\ntechnology meets the needs of users.',\n",
              " 'Ongoing patient and public involvement at \\neach development stage is essential.',\n",
              " '©George P Jenkinson, Natasha Houghton, Nejra van Zalk, Jo Waller, Fernando \\nBello, Antonia Tzemanaki.',\n",
              " 'Originally published in Journal of Participatory \\nMedicine (https://jopm.jmir.org), 03.04.2023.',\n",
              " 'DOI: 10.2196/42704\\nPMID: 37010907']"
            ]
          },
          "metadata": {},
          "execution_count": 8
        }
      ]
    },
    {
      "cell_type": "code",
      "source": [
        "# lines_not_sentences = str(df[\"Abstract\"][0]).splitlines()\n",
        "lines = str(df[\"Abstract\"][0]).splitlines()"
      ],
      "metadata": {
        "id": "4Chv6Hry5kg0"
      },
      "execution_count": 9,
      "outputs": []
    },
    {
      "cell_type": "code",
      "source": [
        "TARGET_LABELS = [\"OBJECTIVE:\", \"BACKGROUND:\", \"METHODS:\", \"RESULTS:\", \"CONCLUSIONS:\"]"
      ],
      "metadata": {
        "id": "mmbXOT526i7j"
      },
      "execution_count": 11,
      "outputs": []
    },
    {
      "cell_type": "code",
      "source": [
        "NULL_WORDS = [\"Copyright\", \"Published by\", \"All rights reserved\", \"copyright\", \"©\", \"The Author(s)\",\n",
        "              \"For permissions,\"]"
      ],
      "metadata": {
        "id": "yHGNTDwHUrYI"
      },
      "execution_count": 12,
      "outputs": []
    },
    {
      "cell_type": "code",
      "source": [
        "# converting unstructured data into a structured format\n",
        "\n",
        "def get_dict_from_text(df):\n",
        "\n",
        "  line_data = {}\n",
        "  first = 0\n",
        "  last = 0\n",
        "\n",
        "  abstract_samples = []\n",
        "\n",
        "  for i, abstract in enumerate(df[\"Abstract\"]):\n",
        "\n",
        "    # get sentences\n",
        "    lines = tokenizer.tokenize(abstract)\n",
        "\n",
        "    for l_no, l in enumerate(lines):\n",
        "      lines[l_no] = lines[l_no].replace(\"\\n\", \" \") # removing random \\n values found in every abstract.\n",
        "     \n",
        "      if any(word in l for word in TARGET_LABELS): # find \"BACKGROUND\", \"METHODS\", etc in sentence\n",
        "\n",
        "        if l.startswith(tuple(TARGET_LABELS)):\n",
        "          target = l.split()[0] # extract target if sentence starts with any target label\n",
        "          \n",
        "        else:\n",
        "          target_loc = [k for k,w in enumerate(l.split()) if w in TARGET_LABELS] # find the position of the word with the target label\n",
        "\n",
        "          try:\n",
        "            target = l.split()[target_loc[0]]\n",
        "\n",
        "          except:\n",
        "            print(\"error in: \", l) # Abstracts with \"BACKGROUND/METHODS\" -> we do not consider them\n",
        "        \n",
        "        first = l_no # where sentence starts\n",
        "\n",
        "        for j in range(first+1, len(lines)):\n",
        "\n",
        "          if any(word in lines[j] for word in TARGET_LABELS):\n",
        "\n",
        "            last = j # find next instance of keyword\n",
        "            break\n",
        "\n",
        "          elif any(null_word in lines[j] for null_word in NULL_WORDS) or (j == len(lines)-1): \n",
        "            last = j-1 # removing words like \"copyright\" etc found after the conclusion\n",
        "            break\n",
        "\n",
        "          else:\n",
        "            last = j # last word in the sentence\n",
        "            break\n",
        "        \n",
        "        for j in range(first, last):\n",
        "          line_data[\"abstract_id\"] = df[\"PMID\"][i] \n",
        "          line_data[\"line_id\"] = f'{df[\"PMID\"][i]}_{first}_{len(lines)}' # unique line id\n",
        "          \n",
        "          if lines[j].startswith(tuple(TARGET_LABELS)):\n",
        "            \n",
        "            # Removing target variable from the original string\n",
        "\n",
        "            words = lines[j].split()[1:]\n",
        "            sents = \" \".join(words)\n",
        "            line_data[\"abstract_text\"] = sents.replace(\"\\n\", \"\")\n",
        "\n",
        "          elif any(word in l for word in TARGET_LABELS):\n",
        "            words = lines[j].split()\n",
        "            result = [k for k,w in enumerate(words) if w in TARGET_LABELS] # find position of result\n",
        "            # print(result)\n",
        "            try:\n",
        "              sents = \" \".join(words[result[0]+1:])\n",
        "              line_data[\"abstract_text\"] = sents.replace(\"\\n\", \"\")\n",
        "            except:\n",
        "              print(\"error 2 in: \", lines[j])\n",
        "\n",
        "          else:\n",
        "              line_data[\"abstract_text\"] = lines[j].replace(\"\\n\", \"\")\n",
        "\n",
        "          line_data[\"line_number\"] = j\n",
        "          line_data[\"total_lines\"] = len(lines) # total num of lines (may need to change?)\n",
        "          # line_data[\"current_line\"]\n",
        "          line_data[\"current_line\"] = f'{first}_{len(lines)}'\n",
        "\n",
        "          line_data[\"target\"] = target\n",
        "\n",
        "          dictionary = dict(line_data).copy()\n",
        "          abstract_samples.append(dictionary)\n",
        "\n",
        "  return abstract_samples"
      ],
      "metadata": {
        "id": "uTgrY2_ri991"
      },
      "execution_count": 31,
      "outputs": []
    },
    {
      "cell_type": "code",
      "source": [
        "# train_df, val_df, test_df = np.split(df.sample(frac=1, random_state=42), [int(.8*len(df)), int(.9*len(df))]) #80/10/10\n",
        "train_df, val_df, test_df = np.split(df.sample(frac=1, random_state=42), [int(.6*len(df)), int(.8*len(df))]) #60/20/20"
      ],
      "metadata": {
        "id": "wtwKnxPmi0hI"
      },
      "execution_count": 32,
      "outputs": []
    },
    {
      "cell_type": "code",
      "source": [
        "train_df.shape, val_df.shape, test_df.shape"
      ],
      "metadata": {
        "id": "nQGv8nwGj3Mo",
        "colab": {
          "base_uri": "https://localhost:8080/"
        },
        "outputId": "59ed782f-d697-42e9-fc64-cc46cb886b22"
      },
      "execution_count": 33,
      "outputs": [
        {
          "output_type": "execute_result",
          "data": {
            "text/plain": [
              "((5641, 2), (1880, 2), (1881, 2))"
            ]
          },
          "metadata": {},
          "execution_count": 33
        }
      ]
    },
    {
      "cell_type": "code",
      "source": [
        "train_df = train_df.reset_index(drop=True)\n",
        "val_df = val_df.reset_index(drop=True)\n",
        "test_df = test_df.reset_index(drop=True)"
      ],
      "metadata": {
        "id": "wNB44WHPktLV"
      },
      "execution_count": 34,
      "outputs": []
    },
    {
      "cell_type": "code",
      "source": [
        "train_df.head()"
      ],
      "metadata": {
        "id": "J8C3Wtx2k-pY",
        "colab": {
          "base_uri": "https://localhost:8080/",
          "height": 206
        },
        "outputId": "8f554185-e8d7-4a36-e3c0-6a4fa3cc4a95"
      },
      "execution_count": 35,
      "outputs": [
        {
          "output_type": "execute_result",
          "data": {
            "text/plain": [
              "       PMID                                           Abstract\n",
              "0  21055153  1. Zhonghua Bing Li Xue Za Zhi. 2010 Jun;39(6)...\n",
              "1  35594581  1. Comput Methods Programs Biomed. 2022 Jun;22...\n",
              "2   8487323  1. J Natl Cancer Inst. 1993 May 19;85(10):785-...\n",
              "3  29554468  1. Med Decis Making. 2018 Apr;38(1_suppl):140S...\n",
              "4  30656783  1. Psychooncology. 2019 Mar;28(3):600-606. doi..."
            ],
            "text/html": [
              "\n",
              "  <div id=\"df-0a96f379-1893-4856-8e67-2087fe541c6e\">\n",
              "    <div class=\"colab-df-container\">\n",
              "      <div>\n",
              "<style scoped>\n",
              "    .dataframe tbody tr th:only-of-type {\n",
              "        vertical-align: middle;\n",
              "    }\n",
              "\n",
              "    .dataframe tbody tr th {\n",
              "        vertical-align: top;\n",
              "    }\n",
              "\n",
              "    .dataframe thead th {\n",
              "        text-align: right;\n",
              "    }\n",
              "</style>\n",
              "<table border=\"1\" class=\"dataframe\">\n",
              "  <thead>\n",
              "    <tr style=\"text-align: right;\">\n",
              "      <th></th>\n",
              "      <th>PMID</th>\n",
              "      <th>Abstract</th>\n",
              "    </tr>\n",
              "  </thead>\n",
              "  <tbody>\n",
              "    <tr>\n",
              "      <th>0</th>\n",
              "      <td>21055153</td>\n",
              "      <td>1. Zhonghua Bing Li Xue Za Zhi. 2010 Jun;39(6)...</td>\n",
              "    </tr>\n",
              "    <tr>\n",
              "      <th>1</th>\n",
              "      <td>35594581</td>\n",
              "      <td>1. Comput Methods Programs Biomed. 2022 Jun;22...</td>\n",
              "    </tr>\n",
              "    <tr>\n",
              "      <th>2</th>\n",
              "      <td>8487323</td>\n",
              "      <td>1. J Natl Cancer Inst. 1993 May 19;85(10):785-...</td>\n",
              "    </tr>\n",
              "    <tr>\n",
              "      <th>3</th>\n",
              "      <td>29554468</td>\n",
              "      <td>1. Med Decis Making. 2018 Apr;38(1_suppl):140S...</td>\n",
              "    </tr>\n",
              "    <tr>\n",
              "      <th>4</th>\n",
              "      <td>30656783</td>\n",
              "      <td>1. Psychooncology. 2019 Mar;28(3):600-606. doi...</td>\n",
              "    </tr>\n",
              "  </tbody>\n",
              "</table>\n",
              "</div>\n",
              "      <button class=\"colab-df-convert\" onclick=\"convertToInteractive('df-0a96f379-1893-4856-8e67-2087fe541c6e')\"\n",
              "              title=\"Convert this dataframe to an interactive table.\"\n",
              "              style=\"display:none;\">\n",
              "        \n",
              "  <svg xmlns=\"http://www.w3.org/2000/svg\" height=\"24px\"viewBox=\"0 0 24 24\"\n",
              "       width=\"24px\">\n",
              "    <path d=\"M0 0h24v24H0V0z\" fill=\"none\"/>\n",
              "    <path d=\"M18.56 5.44l.94 2.06.94-2.06 2.06-.94-2.06-.94-.94-2.06-.94 2.06-2.06.94zm-11 1L8.5 8.5l.94-2.06 2.06-.94-2.06-.94L8.5 2.5l-.94 2.06-2.06.94zm10 10l.94 2.06.94-2.06 2.06-.94-2.06-.94-.94-2.06-.94 2.06-2.06.94z\"/><path d=\"M17.41 7.96l-1.37-1.37c-.4-.4-.92-.59-1.43-.59-.52 0-1.04.2-1.43.59L10.3 9.45l-7.72 7.72c-.78.78-.78 2.05 0 2.83L4 21.41c.39.39.9.59 1.41.59.51 0 1.02-.2 1.41-.59l7.78-7.78 2.81-2.81c.8-.78.8-2.07 0-2.86zM5.41 20L4 18.59l7.72-7.72 1.47 1.35L5.41 20z\"/>\n",
              "  </svg>\n",
              "      </button>\n",
              "      \n",
              "  <style>\n",
              "    .colab-df-container {\n",
              "      display:flex;\n",
              "      flex-wrap:wrap;\n",
              "      gap: 12px;\n",
              "    }\n",
              "\n",
              "    .colab-df-convert {\n",
              "      background-color: #E8F0FE;\n",
              "      border: none;\n",
              "      border-radius: 50%;\n",
              "      cursor: pointer;\n",
              "      display: none;\n",
              "      fill: #1967D2;\n",
              "      height: 32px;\n",
              "      padding: 0 0 0 0;\n",
              "      width: 32px;\n",
              "    }\n",
              "\n",
              "    .colab-df-convert:hover {\n",
              "      background-color: #E2EBFA;\n",
              "      box-shadow: 0px 1px 2px rgba(60, 64, 67, 0.3), 0px 1px 3px 1px rgba(60, 64, 67, 0.15);\n",
              "      fill: #174EA6;\n",
              "    }\n",
              "\n",
              "    [theme=dark] .colab-df-convert {\n",
              "      background-color: #3B4455;\n",
              "      fill: #D2E3FC;\n",
              "    }\n",
              "\n",
              "    [theme=dark] .colab-df-convert:hover {\n",
              "      background-color: #434B5C;\n",
              "      box-shadow: 0px 1px 3px 1px rgba(0, 0, 0, 0.15);\n",
              "      filter: drop-shadow(0px 1px 2px rgba(0, 0, 0, 0.3));\n",
              "      fill: #FFFFFF;\n",
              "    }\n",
              "  </style>\n",
              "\n",
              "      <script>\n",
              "        const buttonEl =\n",
              "          document.querySelector('#df-0a96f379-1893-4856-8e67-2087fe541c6e button.colab-df-convert');\n",
              "        buttonEl.style.display =\n",
              "          google.colab.kernel.accessAllowed ? 'block' : 'none';\n",
              "\n",
              "        async function convertToInteractive(key) {\n",
              "          const element = document.querySelector('#df-0a96f379-1893-4856-8e67-2087fe541c6e');\n",
              "          const dataTable =\n",
              "            await google.colab.kernel.invokeFunction('convertToInteractive',\n",
              "                                                     [key], {});\n",
              "          if (!dataTable) return;\n",
              "\n",
              "          const docLinkHtml = 'Like what you see? Visit the ' +\n",
              "            '<a target=\"_blank\" href=https://colab.research.google.com/notebooks/data_table.ipynb>data table notebook</a>'\n",
              "            + ' to learn more about interactive tables.';\n",
              "          element.innerHTML = '';\n",
              "          dataTable['output_type'] = 'display_data';\n",
              "          await google.colab.output.renderOutput(dataTable, element);\n",
              "          const docLink = document.createElement('div');\n",
              "          docLink.innerHTML = docLinkHtml;\n",
              "          element.appendChild(docLink);\n",
              "        }\n",
              "      </script>\n",
              "    </div>\n",
              "  </div>\n",
              "  "
            ]
          },
          "metadata": {},
          "execution_count": 35
        }
      ]
    },
    {
      "cell_type": "code",
      "source": [
        "train_samples = get_dict_from_text(train_df)\n",
        "val_samples = get_dict_from_text(val_df)\n",
        "test_samples = get_dict_from_text(test_df)"
      ],
      "metadata": {
        "id": "wZjs48wuj6xg",
        "colab": {
          "base_uri": "https://localhost:8080/"
        },
        "outputId": "baa7cc11-017b-4e1f-bb2c-b90aad097f91"
      },
      "execution_count": 36,
      "outputs": [
        {
          "output_type": "stream",
          "name": "stdout",
          "text": [
            "error in:  BACKGROUND/OBJECTIVE: This study aimed to analyse the local recurrence (LR) and \n",
            "breast cancer related mortality (BCRM) in older women who underwent \n",
            "breast-conserving surgery (BCS) with and without adjuvant radiotherapy (XRT).\n",
            "error 2 in:  BACKGROUND/OBJECTIVE: This study aimed to analyse the local recurrence (LR) and  breast cancer related mortality (BCRM) in older women who underwent  breast-conserving surgery (BCS) with and without adjuvant radiotherapy (XRT).\n",
            "error in:  In addition, there was no significant difference between groups (p= \n",
            "0.386)CONCLUSIONS: P followed by FEC75 with concurrent trastuzumab could provide \n",
            "enough evidence of cardiac safety.\n",
            "error in:  INTERVENTIONS/METHODS: Consented participants were randomized 2:1 to hypnosis or \n",
            "PMR.\n",
            "error 2 in:  INTERVENTIONS/METHODS: Consented participants were randomized 2:1 to hypnosis or  PMR.\n",
            "error in:  PURPOSE/OBJECTIVE: Lymphedema after breast cancer treatment can be an \n",
            "irreversible condition with a negative impact on quality of life.\n",
            "error 2 in:  PURPOSE/OBJECTIVE: Lymphedema after breast cancer treatment can be an  irreversible condition with a negative impact on quality of life.\n",
            "error in:  MATERIAL/METHODS: Over a 36-month period, consecutive female breast cancer \n",
            "patients were recruited in the main cancer hospital in the United Arab Emirates.\n",
            "error 2 in:  MATERIAL/METHODS: Over a 36-month period, consecutive female breast cancer  patients were recruited in the main cancer hospital in the United Arab Emirates.\n",
            "error in:  When measured at imaging, tumor size was \n",
            "underestimated (median 23 vs 30 mm; P < 0.01) and did not influence prognosis \n",
            "CONCLUSIONS:: PDAC size >20 mm, measured at gross pathology, correlates with \n",
            "surgical outcomes and is an independent predictor of poor prognosis.\n",
            "error 2 in:  When measured at imaging, tumor size was  underestimated (median 23 vs 30 mm; P < 0.01) and did not influence prognosis  CONCLUSIONS:: PDAC size >20 mm, measured at gross pathology, correlates with  surgical outcomes and is an independent predictor of poor prognosis.\n",
            "error in:  INTERVENTIONS/METHODS: The study recruited a convenience sample of 99 African \n",
            "American and white women.\n",
            "error 2 in:  INTERVENTIONS/METHODS: The study recruited a convenience sample of 99 African  American and white women.\n",
            "error in:  INTERVENTIONS/METHODS: In this randomized controlled pilot trial, we enrolled \n",
            "breast cancer survivors at the end of treatment and administered baseline \n",
            "surveys.\n",
            "error 2 in:  INTERVENTIONS/METHODS: In this randomized controlled pilot trial, we enrolled  breast cancer survivors at the end of treatment and administered baseline  surveys.\n",
            "error in:  STUDY DESIGN/METHODS: The physical model and the empirical model were employed \n",
            "to extract features from diffuse reflectance spectra measured from freshly \n",
            "excised breast tissues.\n",
            "error 2 in:  STUDY DESIGN/METHODS: The physical model and the empirical model were employed  to extract features from diffuse reflectance spectra measured from freshly  excised breast tissues.\n",
            "error in:  PURPOSE/OBJECTIVE: To evaluate feasibility and early clinical outcomes of a \n",
            "single fraction of multi-catheter interstitial high-dose rate brachytherapy for \n",
            "accelerated partial breast irradiation (APBI) in the elderly.\n",
            "error 2 in:  PURPOSE/OBJECTIVE: To evaluate feasibility and early clinical outcomes of a  single fraction of multi-catheter interstitial high-dose rate brachytherapy for  accelerated partial breast irradiation (APBI) in the elderly.\n",
            "error in:  MATERIAL/METHODS: From November 2012 to September 2014, 26 patients (≥70) with \n",
            "early breast cancer were enrolled in a prospective phase II trial (NCT01727011).\n",
            "error 2 in:  MATERIAL/METHODS: From November 2012 to September 2014, 26 patients (≥70) with  early breast cancer were enrolled in a prospective phase II trial (NCT01727011).\n",
            "error in:  BACKGROUND/OBJECTIVE: Although surgical resection remains the only chance for \n",
            "cure in patients with pancreatic ductal adenocarcinoma (PDAC), postoperative \n",
            "early recurrence (ER) is frequently encountered.\n",
            "error 2 in:  BACKGROUND/OBJECTIVE: Although surgical resection remains the only chance for  cure in patients with pancreatic ductal adenocarcinoma (PDAC), postoperative  early recurrence (ER) is frequently encountered.\n",
            "error in:  INTERVENTIONS/METHODS: Fifteen women recruited from the quantitative study were \n",
            "interviewed.\n",
            "error 2 in:  INTERVENTIONS/METHODS: Fifteen women recruited from the quantitative study were  interviewed.\n",
            "error in:  BACKGROUND/OBJECTIVE: One of the speculated mechanisms underlying fetal origin \n",
            "hypothesis of breast cancer is the possible influence of maternal environment on \n",
            "epigenetic regulation, such as changes in DNA methylation of the insulin-like \n",
            "growth factor-2 (IGF2) gene.\n",
            "error 2 in:  BACKGROUND/OBJECTIVE: One of the speculated mechanisms underlying fetal origin  hypothesis of breast cancer is the possible influence of maternal environment on  epigenetic regulation, such as changes in DNA methylation of the insulin-like  growth factor-2 (IGF2) gene.\n",
            "error in:  SUBJECTS/METHODS: We conducted a cross-sectional study to measure methylation \n",
            "patterns of IGF2 in promoters 2 (P2) and promoters 3 (P3).\n",
            "error 2 in:  SUBJECTS/METHODS: We conducted a cross-sectional study to measure methylation  patterns of IGF2 in promoters 2 (P2) and promoters 3 (P3).\n",
            "error in:  OBJECTIVE/METHODS: We performed a literature search to review available \n",
            "preclinical and clinical data that has led to the recent FDA approval of \n",
            "raloxifene as a chemopreventive agent for breast cancer in postmenopausal women.\n",
            "error 2 in:  OBJECTIVE/METHODS: We performed a literature search to review available  preclinical and clinical data that has led to the recent FDA approval of  raloxifene as a chemopreventive agent for breast cancer in postmenopausal women.\n",
            "error in:  RESULTS/CONCLUSIONS: Different placebo-controlled trials indicated that \n",
            "raloxifene is effective in reducing invasive breast cancer risk in \n",
            "postmenopausal women.\n",
            "error 2 in:  RESULTS/CONCLUSIONS: Different placebo-controlled trials indicated that  raloxifene is effective in reducing invasive breast cancer risk in  postmenopausal women.\n",
            "error in:  DESIGN/METHODS: A cross-sectional design was used to assess for relationships \n",
            "among theorized antecedents and mediators of community connection in a sample of \n",
            "144 African American women aged 21 years and older (mean = 54.9) who had been \n",
            "diagnosed with invasive/infiltrating ductal carcinoma.\n",
            "error 2 in:  DESIGN/METHODS: A cross-sectional design was used to assess for relationships  among theorized antecedents and mediators of community connection in a sample of  144 African American women aged 21 years and older (mean = 54.9) who had been  diagnosed with invasive/infiltrating ductal carcinoma.\n",
            "error in:  BACKGROUND/OBJECTIVE: Midkine (MDK) and pleiotrophin (PTN) are two closely \n",
            "related heparin-binding growth factors which are overexpressed in a wide variety \n",
            "of human cancers.\n",
            "error 2 in:  BACKGROUND/OBJECTIVE: Midkine (MDK) and pleiotrophin (PTN) are two closely  related heparin-binding growth factors which are overexpressed in a wide variety  of human cancers.\n",
            "error in:  OBJECTIVE/BACKGROUND: We performed a retrospective analysis of longitudinal \n",
            "real-world data (RWD) from patients with breast cancer to replicate results from \n",
            "clinical studies and demonstrate the feasibility of generating real-world \n",
            "evidence.\n",
            "error 2 in:  OBJECTIVE/BACKGROUND: We performed a retrospective analysis of longitudinal  real-world data (RWD) from patients with breast cancer to replicate results from  clinical studies and demonstrate the feasibility of generating real-world  evidence.\n",
            "error in:  INTERVENTIONS/METHODS: This prospective, longitudinal study with \n",
            "repeated-measures design used standardized instruments to measure trends in \n",
            "exercise activity but performed no treatments or interventions.\n",
            "error 2 in:  INTERVENTIONS/METHODS: This prospective, longitudinal study with  repeated-measures design used standardized instruments to measure trends in  exercise activity but performed no treatments or interventions.\n",
            "error in:  STUDY DESIGN/METHODS: Deoxyribonucleic acid (DNA) was isolated from 17 breast \n",
            "cancer tissues (and one cervical swab) taken from our local, randomly selected \n",
            "patient population.\n",
            "error 2 in:  STUDY DESIGN/METHODS: Deoxyribonucleic acid (DNA) was isolated from 17 breast  cancer tissues (and one cervical swab) taken from our local, randomly selected  patient population.\n",
            "error in:  BACKGROUND/OBJECTIVE: Enhancing awareness level about breast cancer is a pivotal \n",
            "strategy for reducing breast cancer burden.\n",
            "error 2 in:  BACKGROUND/OBJECTIVE: Enhancing awareness level about breast cancer is a pivotal  strategy for reducing breast cancer burden.\n",
            "error in:  APPLICATIONS/CONCLUSIONS: Women who are PROP tasters may be less likely to \n",
            "comply with dietary strategies for cancer prevention that emphasize consumption \n",
            "of cruciferous vegetables and bitter salad greens.\n",
            "error 2 in:  APPLICATIONS/CONCLUSIONS: Women who are PROP tasters may be less likely to  comply with dietary strategies for cancer prevention that emphasize consumption  of cruciferous vegetables and bitter salad greens.\n",
            "error in:  RESULTS/CONCLUSIONS: Noteworthy results from Phase II studies for treatment of \n",
            "non-small cell lung cancer (NSCLC), breast cancer and bladder cancer supported \n",
            "Phase III studies.\n",
            "error 2 in:  RESULTS/CONCLUSIONS: Noteworthy results from Phase II studies for treatment of  non-small cell lung cancer (NSCLC), breast cancer and bladder cancer supported  Phase III studies.\n",
            "error in:  MATERIALS/METHODS: We evaluated patients with early-stage breast cancer treated \n",
            "from January 1, 2011 to January 31, 2014 with BCS and IORT at a single \n",
            "institution.\n",
            "error 2 in:  MATERIALS/METHODS: We evaluated patients with early-stage breast cancer treated  from January 1, 2011 to January 31, 2014 with BCS and IORT at a single  institution.\n",
            "error in:  BACKGROUND/OBJECTIVE: We evaluated the usefulness of the 2017 definition of \n",
            "borderline pancreatic ductal adenocarcinoma (BR-PDAC) in fit patients \n",
            "(performance status 0-1) based on anatomical (A) and biological dimensions (B).\n",
            "error 2 in:  BACKGROUND/OBJECTIVE: We evaluated the usefulness of the 2017 definition of  borderline pancreatic ductal adenocarcinoma (BR-PDAC) in fit patients  (performance status 0-1) based on anatomical (A) and biological dimensions (B).\n",
            "error in:  INTERVENTIONS/METHODS: Women currently receiving treatment for breast cancer \n",
            "were asked to complete 5 instruments: demographic profile, Piper Fatigue Scale, \n",
            "Physical Activity Assessment Inventory, Human Activity Profile, and McGill QOL \n",
            "Questionnaire.\n",
            "error 2 in:  INTERVENTIONS/METHODS: Women currently receiving treatment for breast cancer  were asked to complete 5 instruments: demographic profile, Piper Fatigue Scale,  Physical Activity Assessment Inventory, Human Activity Profile, and McGill QOL  Questionnaire.\n",
            "error in:  MATERIALS/METHODS: Between Jan. 2010 to Feb. 2016, 48 HER2 negative MBC patients \n",
            "who failed anthracycline and taxane based chemotherapy were enrolled.\n",
            "error 2 in:  MATERIALS/METHODS: Between Jan. 2010 to Feb. 2016, 48 HER2 negative MBC patients  who failed anthracycline and taxane based chemotherapy were enrolled.\n",
            "error in:  BACKGROUND/OBJECTIVE: To evaluate the usefulness of genetic markers in \n",
            "pancreatic juice (PJ), and the combination of these markers with telomerase \n",
            "activity in the differential diagnosis of pancreatic ductal adenocarcinoma \n",
            "(PDAC) from chronic pancreatitis.\n",
            "error 2 in:  BACKGROUND/OBJECTIVE: To evaluate the usefulness of genetic markers in  pancreatic juice (PJ), and the combination of these markers with telomerase  activity in the differential diagnosis of pancreatic ductal adenocarcinoma  (PDAC) from chronic pancreatitis.\n",
            "error in:  PURPOSE/OBJECTIVE: The purpose of this study was to examine the impact of \n",
            "radiotherapy on quality of life (QOL) of breast cancer patients during and until \n",
            "1 year post radiotherapy treatment.\n",
            "error 2 in:  PURPOSE/OBJECTIVE: The purpose of this study was to examine the impact of  radiotherapy on quality of life (QOL) of breast cancer patients during and until  1 year post radiotherapy treatment.\n",
            "error in:  2018 Jul 19;:\n",
            "\n",
            "BACKGROUND/OBJECTIVE: The 21-gene Oncotype DX® Breast Recurrence Score® (RS) \n",
            "assay has been prospectively validated as prognostic and predictive in \n",
            "node-negative, estrogen receptor-positive (ER+)/HER2- breast cancer patients.\n",
            "error 2 in:  2018 Jul 19;:  BACKGROUND/OBJECTIVE: The 21-gene Oncotype DX® Breast Recurrence Score® (RS)  assay has been prospectively validated as prognostic and predictive in  node-negative, estrogen receptor-positive (ER+)/HER2- breast cancer patients.\n",
            "error in:  BACKGROUND/OBJECTIVE: Cavity shave margins (CSMs) decrease rate of positive \n",
            "margins and need for re-excision.\n",
            "error 2 in:  BACKGROUND/OBJECTIVE: Cavity shave margins (CSMs) decrease rate of positive  margins and need for re-excision.\n",
            "error in:  MATERIALS/METHODS: APBI was delivered using multiplane interstitial \n",
            "brachytherapy as per standard guidelines.\n",
            "error 2 in:  MATERIALS/METHODS: APBI was delivered using multiplane interstitial  brachytherapy as per standard guidelines.\n",
            "error in:  METHODS/RESULTS: Ninety-four of the 482 patients appeared at risk for a mutation \n",
            "based on family history and 23 had a confirmed mutation.\n",
            "error 2 in:  METHODS/RESULTS: Ninety-four of the 482 patients appeared at risk for a mutation  based on family history and 23 had a confirmed mutation.\n",
            "error in:  INTERVENTIONS/METHODS: Patients (n = 396) were enrolled preoperatively and \n",
            "completed the Spielberger State Anxiety inventory monthly for 6 months.\n",
            "error 2 in:  INTERVENTIONS/METHODS: Patients (n = 396) were enrolled preoperatively and  completed the Spielberger State Anxiety inventory monthly for 6 months.\n",
            "error in:  j.e.cade@leeds.ac.uk\n",
            "\n",
            "BACKGROUND/OBJECTIVE: To assess the risk of developing breast cancer associated \n",
            "with consumption of two common dietary patterns: a Mediterranean dietary pattern \n",
            "and a dietary pattern, which conforms to the World Health Organization Healthy \n",
            "Diet Index (WHO HDI).\n",
            "error 2 in:  j.e.cade@leeds.ac.uk  BACKGROUND/OBJECTIVE: To assess the risk of developing breast cancer associated  with consumption of two common dietary patterns: a Mediterranean dietary pattern  and a dietary pattern, which conforms to the World Health Organization Healthy  Diet Index (WHO HDI).\n",
            "error in:  SUBJECTS/METHODS: Dietary data from a 217-item food frequency questionnaire were \n",
            "used to generate two dietary patterns according to pre-defined criteria in women \n",
            "from the UK Women's Cohort Study.\n",
            "error 2 in:  SUBJECTS/METHODS: Dietary data from a 217-item food frequency questionnaire were  used to generate two dietary patterns according to pre-defined criteria in women  from the UK Women's Cohort Study.\n",
            "error in:  INTERVENTIONS/METHODS: Fingerstick bloodspot samples were collected at 3 time \n",
            "points during the randomized, wait-list controlled interventional parent study.\n",
            "error 2 in:  INTERVENTIONS/METHODS: Fingerstick bloodspot samples were collected at 3 time  points during the randomized, wait-list controlled interventional parent study.\n",
            "error in:  PARTICIPANTS/METHODS: 6400 women invited for routine screening mammography were \n",
            "individually randomised to receive either the usual breast screening invitation \n",
            "alone, or to receive the usual invitation accompanied by a self administered \n",
            "questionnaire, to be returned at the time of screening.\n",
            "error 2 in:  PARTICIPANTS/METHODS: 6400 women invited for routine screening mammography were  individually randomised to receive either the usual breast screening invitation  alone, or to receive the usual invitation accompanied by a self administered  questionnaire, to be returned at the time of screening.\n",
            "error in:  WHAT WE ALREADY KNOW ABOUT THIS TOPIC: WHAT THIS ARTICLE TELLS US THAT IS NEW: \n",
            "BACKGROUND:: Clusters of differentiation 39 and 73, enzymes expressed on the \n",
            "surface of regulatory T cells, promote cancer recurrence and metastasis by \n",
            "suppressing immune cells.\n",
            "error 2 in:  WHAT WE ALREADY KNOW ABOUT THIS TOPIC: WHAT THIS ARTICLE TELLS US THAT IS NEW:  BACKGROUND:: Clusters of differentiation 39 and 73, enzymes expressed on the  surface of regulatory T cells, promote cancer recurrence and metastasis by  suppressing immune cells.\n",
            "error in:  BACKGROUND/OBJECTIVE: The aim of this study was to identify the mammographic \n",
            "findings associated with malignancy in different age groups, taking into account \n",
            "breast composition (BC) and lesion size.\n",
            "error 2 in:  BACKGROUND/OBJECTIVE: The aim of this study was to identify the mammographic  findings associated with malignancy in different age groups, taking into account  breast composition (BC) and lesion size.\n",
            "error in:  RESULTS/CONCLUSIONS: Of the proteases expressed in PDA, many appear to have \n",
            "overlapping functions, based on the substrates they process, making therapeutics \n",
            "complicated.\n",
            "error 2 in:  RESULTS/CONCLUSIONS: Of the proteases expressed in PDA, many appear to have  overlapping functions, based on the substrates they process, making therapeutics  complicated.\n",
            "error in:  OBJECTIVE/METHODS: This review describes the research pathway from protein- to \n",
            "peptide-based therapies.\n",
            "error 2 in:  OBJECTIVE/METHODS: This review describes the research pathway from protein- to  peptide-based therapies.\n",
            "error in:  RESULTS/CONCLUSIONS: Using the breast-cancer-associated BRCA2 protein as a \n",
            "model, the principle of sequence uniqueness is defined as the rationale for a \n",
            "pharmacological platform that might yield improved results in both patient \n",
            "survival and quality of life.\n",
            "error in:  RESULTS/CONCLUSIONS: Despite improved response rates, conventional treatments \n",
            "still result only in transient remission in most cases.\n",
            "error 2 in:  RESULTS/CONCLUSIONS: Despite improved response rates, conventional treatments  still result only in transient remission in most cases.\n",
            "error in:  OBJECTIVE/METHODS: To determine the clinical behavior and outcome of breast \n",
            "cancer in the elderly, a series of 184 women older than age 69 years who \n",
            "received treatment for locoregional breast cancer at The University of Texas M. \n",
            "D. Anderson Cancer Center between 1976 and 1985 were studied for a median of 80 \n",
            "months.\n",
            "error 2 in:  OBJECTIVE/METHODS: To determine the clinical behavior and outcome of breast  cancer in the elderly, a series of 184 women older than age 69 years who  received treatment for locoregional breast cancer at The University of Texas M.  D. Anderson Cancer Center between 1976 and 1985 were studied for a median of 80  months.\n",
            "error in:  AIMS/BACKGROUND: Fine needle aspirates (FNAs) of breast lesions are now a \n",
            "routine investigation and prognostic information at this stage would be useful \n",
            "for accurate management, p53 gene status can be used as prognostic indicator, an \n",
            "abnormal genotype being associated with high grade, oestrogen receptor poor \n",
            "tumours.\n",
            "error 2 in:  AIMS/BACKGROUND: Fine needle aspirates (FNAs) of breast lesions are now a  routine investigation and prognostic information at this stage would be useful  for accurate management, p53 gene status can be used as prognostic indicator, an  abnormal genotype being associated with high grade, oestrogen receptor poor  tumours.\n",
            "error in:  BACKGROUND/OBJECTIVE: Triple-negative breast cancer (TNBC) is a heterogeneous \n",
            "collection of breast tumors with numerous differences including morphological \n",
            "characteristics, genetic makeup, immune-cell infiltration, and response to \n",
            "systemic therapy.\n",
            "error 2 in:  BACKGROUND/OBJECTIVE: Triple-negative breast cancer (TNBC) is a heterogeneous  collection of breast tumors with numerous differences including morphological  characteristics, genetic makeup, immune-cell infiltration, and response to  systemic therapy.\n",
            "error in:  OBJECTIVE/BACKGROUND: While cognitive-behavioral therapy for insomnia (CBT-I) \n",
            "has been shown to be efficacious in treating cancer survivors' insomnia, 30-60% \n",
            "of individuals have difficulty adhering to intervention components.\n",
            "error 2 in:  OBJECTIVE/BACKGROUND: While cognitive-behavioral therapy for insomnia (CBT-I)  has been shown to be efficacious in treating cancer survivors' insomnia, 30-60%  of individuals have difficulty adhering to intervention components.\n",
            "error in:  BACKGROUND/OBJECTIVE: This study attempted a national inventory of all bilateral \n",
            "prophylactic mastectomies performed in Sweden between 1995 and 2005 in high-risk \n",
            "women without a previous breast malignancy.\n",
            "error 2 in:  BACKGROUND/OBJECTIVE: This study attempted a national inventory of all bilateral  prophylactic mastectomies performed in Sweden between 1995 and 2005 in high-risk  women without a previous breast malignancy.\n",
            "error in:  MATERIALS/METHODS: Four hundred and seventy-five breast cancer patients, \n",
            "referred to the Radiotherapy Department at Stockholm Söder Hospital (1994-1998) \n",
            "for adjuvant post-operative RT were prospectively followed for pulmonary \n",
            "complications 1, 4 and 7 months after the completion of RT.\n",
            "error 2 in:  MATERIALS/METHODS: Four hundred and seventy-five breast cancer patients,  referred to the Radiotherapy Department at Stockholm Söder Hospital (1994-1998)  for adjuvant post-operative RT were prospectively followed for pulmonary  complications 1, 4 and 7 months after the completion of RT.\n",
            "error in:  BACKGROUND/OBJECTIVE: Recent prospective trials support the use of sentinel \n",
            "lymph node biopsy (SLNB) in breast cancer patients after neoadjuvant \n",
            "chemotherapy (NAC) with a lower false-negative rate if three or more sentinel \n",
            "lymph nodes (SLNs) are identified.\n",
            "error 2 in:  BACKGROUND/OBJECTIVE: Recent prospective trials support the use of sentinel  lymph node biopsy (SLNB) in breast cancer patients after neoadjuvant  chemotherapy (NAC) with a lower false-negative rate if three or more sentinel  lymph nodes (SLNs) are identified.\n",
            "error in:  BACKGROUND/OBJECTIVE: The occurrence of iatrogenic tumor cell seeding (seeding) \n",
            "in needle tract scars formed by core needle biopsy (CNB) or vacuum-assisted \n",
            "biopsy (VAB) is well known.\n",
            "error 2 in:  BACKGROUND/OBJECTIVE: The occurrence of iatrogenic tumor cell seeding (seeding)  in needle tract scars formed by core needle biopsy (CNB) or vacuum-assisted  biopsy (VAB) is well known.\n",
            "error in:  sibelyn@yahoo.com\n",
            "\n",
            "BACKGROUND/OBJECTIVE: While several prognostic factors have been identified in \n",
            "breast carcinoma, the clinical outcome remains hard to predict for individual \n",
            "patients.\n",
            "error 2 in:  sibelyn@yahoo.com  BACKGROUND/OBJECTIVE: While several prognostic factors have been identified in  breast carcinoma, the clinical outcome remains hard to predict for individual  patients.\n",
            "error in:  PURPOSE/OBJECTIVE: To explore the meanings assigned to the experience of \n",
            "receiving chemotherapy.\n",
            "error 2 in:  PURPOSE/OBJECTIVE: To explore the meanings assigned to the experience of  receiving chemotherapy.\n",
            "error in:  OBJECTIVE/METHODS: We discuss biological aspects of breast cancer angiogenesis \n",
            "and nucleoside diphosphate kinase (NDPK) as a key molecule in this process.\n",
            "error 2 in:  OBJECTIVE/METHODS: We discuss biological aspects of breast cancer angiogenesis  and nucleoside diphosphate kinase (NDPK) as a key molecule in this process.\n",
            "error in:  RESULTS/CONCLUSIONS: In clinical and experimental trials, it was reported that \n",
            "NDPK is inversely related to breast cancer metastasis and angiogenesis.\n",
            "error 2 in:  RESULTS/CONCLUSIONS: In clinical and experimental trials, it was reported that  NDPK is inversely related to breast cancer metastasis and angiogenesis.\n",
            "error in:  penny.webb@qimr.edu.au\n",
            "\n",
            "BACKGROUND/OBJECTIVE: Folates are essential for DNA synthesis and methylation, \n",
            "and thus may have a role in carcinogenesis.\n",
            "error 2 in:  penny.webb@qimr.edu.au  BACKGROUND/OBJECTIVE: Folates are essential for DNA synthesis and methylation,  and thus may have a role in carcinogenesis.\n",
            "error in:  SUBJECTS/METHODS: Participants in the Australian Ovarian Cancer Study (1363 \n",
            "cases, 1414 controls) self-completed risk factor and food-frequency \n",
            "questionnaires.\n",
            "error 2 in:  SUBJECTS/METHODS: Participants in the Australian Ovarian Cancer Study (1363  cases, 1414 controls) self-completed risk factor and food-frequency  questionnaires.\n",
            "error in:  OBJECTIVE/METHODS: This review focuses on the role of ER and ER co-activators in \n",
            "breast cancer and current approaches to targeting SRC co-factors for treatment \n",
            "of hormone-receptor-positive breast cancer.\n",
            "error 2 in:  OBJECTIVE/METHODS: This review focuses on the role of ER and ER co-activators in  breast cancer and current approaches to targeting SRC co-factors for treatment  of hormone-receptor-positive breast cancer.\n",
            "error in:  RESULTS/CONCLUSIONS: There is a drive to selectively apply aromatase inhibitors \n",
            "on the basis of either risk or biological evidence of resistance to tamoxifen \n",
            "treatment.\n",
            "error 2 in:  RESULTS/CONCLUSIONS: There is a drive to selectively apply aromatase inhibitors  on the basis of either risk or biological evidence of resistance to tamoxifen  treatment.\n",
            "error in:  METHODS/RESULTS: A 45-year-old patient consulted at the emergency services for \n",
            "pain in the left renal fossa that irradiated to the genital organs.\n",
            "error 2 in:  METHODS/RESULTS: A 45-year-old patient consulted at the emergency services for  pain in the left renal fossa that irradiated to the genital organs.\n",
            "error in:  INTERVENTIONS/METHODS: A total of 122 women, aged 40 to 90 years, with no \n",
            "history of breast cancer participated in the study.\n",
            "error 2 in:  INTERVENTIONS/METHODS: A total of 122 women, aged 40 to 90 years, with no  history of breast cancer participated in the study.\n"
          ]
        }
      ]
    },
    {
      "cell_type": "code",
      "source": [
        "train_samples[:2]"
      ],
      "metadata": {
        "colab": {
          "base_uri": "https://localhost:8080/"
        },
        "id": "Rfd79m-gkLEK",
        "outputId": "4f7876d3-acda-44d3-f4ad-723d13d440dc"
      },
      "execution_count": 37,
      "outputs": [
        {
          "output_type": "execute_result",
          "data": {
            "text/plain": [
              "[{'abstract_id': 21055153,\n",
              "  'line_id': '21055153_6_18',\n",
              "  'abstract_text': '(1) To investigate the promoter methylation status of gene p16(INK4a) and gene RB in breast carcinoma and the adjacent non-neoplastic hyperplastic epithelial tissue.',\n",
              "  'line_number': 6,\n",
              "  'total_lines': 18,\n",
              "  'current_line': '6_18',\n",
              "  'target': 'OBJECTIVE:'},\n",
              " {'abstract_id': 21055153,\n",
              "  'line_id': '21055153_8_18',\n",
              "  'abstract_text': 'Methylation status of promoters of p16(INK4a) gene and RB gene was detected by using methylation specific PCR in 46 cases of breast cancer, 22 cases of the adjacent non-neoplastic hyperplastic epithelium tissue and 7 cases of normal breast tissue.',\n",
              "  'line_number': 8,\n",
              "  'total_lines': 18,\n",
              "  'current_line': '8_18',\n",
              "  'target': 'METHODS:'}]"
            ]
          },
          "metadata": {},
          "execution_count": 37
        }
      ]
    },
    {
      "cell_type": "markdown",
      "source": [
        "To ensure that pmids are separate in train, dev, and test we split from the original df"
      ],
      "metadata": {
        "id": "x--KMf6HnJoe"
      }
    },
    {
      "cell_type": "code",
      "source": [
        "# back to df but now with appropriate cols\n",
        "train_df = pd.DataFrame(train_samples)\n",
        "val_df = pd.DataFrame(val_samples)\n",
        "test_df = pd.DataFrame(test_samples)"
      ],
      "metadata": {
        "id": "VpJUqBuOlI2T"
      },
      "execution_count": 38,
      "outputs": []
    },
    {
      "cell_type": "code",
      "source": [
        "train_df.head(10)"
      ],
      "metadata": {
        "colab": {
          "base_uri": "https://localhost:8080/",
          "height": 363
        },
        "id": "xQ2yAKH8lPsb",
        "outputId": "0d96be97-385c-4929-bd64-3478c5863963"
      },
      "execution_count": 39,
      "outputs": [
        {
          "output_type": "execute_result",
          "data": {
            "text/plain": [
              "   abstract_id         line_id  \\\n",
              "0     21055153   21055153_6_18   \n",
              "1     21055153   21055153_8_18   \n",
              "2     21055153  21055153_10_18   \n",
              "3     21055153  21055153_15_18   \n",
              "4     35594581  35594581_24_41   \n",
              "5     35594581  35594581_32_41   \n",
              "6     35594581  35594581_34_41   \n",
              "7     35594581  35594581_36_41   \n",
              "8      8487323    8487323_8_22   \n",
              "9      8487323   8487323_12_22   \n",
              "\n",
              "                                       abstract_text  line_number  \\\n",
              "0  (1) To investigate the promoter methylation st...            6   \n",
              "1  Methylation status of promoters of p16(INK4a) ...            8   \n",
              "2  The methylation rate of p16(INK4a) gene was 23...           10   \n",
              "3  The abnormal methylation of p16(INK4a) gene ma...           15   \n",
              "4  Breast density assessed from digital mammogram...           24   \n",
              "5  A multi-center study composed of 1395 women wh...           32   \n",
              "6  The combination of five networks implementing ...           34   \n",
              "7  The proposed methodology has a similar perform...           36   \n",
              "8  Studies in animals and geographic correlations...            8   \n",
              "9  Aspirates of subcutaneous fat from the buttock...           12   \n",
              "\n",
              "   total_lines current_line        target  \n",
              "0           18         6_18    OBJECTIVE:  \n",
              "1           18         8_18      METHODS:  \n",
              "2           18        10_18      RESULTS:  \n",
              "3           18        15_18  CONCLUSIONS:  \n",
              "4           41        24_41    OBJECTIVE:  \n",
              "5           41        32_41      METHODS:  \n",
              "6           41        34_41      RESULTS:  \n",
              "7           41        36_41  CONCLUSIONS:  \n",
              "8           22         8_22   BACKGROUND:  \n",
              "9           22        12_22      METHODS:  "
            ],
            "text/html": [
              "\n",
              "  <div id=\"df-2ab2be51-2adb-4cfa-956b-d7ddfb35b213\">\n",
              "    <div class=\"colab-df-container\">\n",
              "      <div>\n",
              "<style scoped>\n",
              "    .dataframe tbody tr th:only-of-type {\n",
              "        vertical-align: middle;\n",
              "    }\n",
              "\n",
              "    .dataframe tbody tr th {\n",
              "        vertical-align: top;\n",
              "    }\n",
              "\n",
              "    .dataframe thead th {\n",
              "        text-align: right;\n",
              "    }\n",
              "</style>\n",
              "<table border=\"1\" class=\"dataframe\">\n",
              "  <thead>\n",
              "    <tr style=\"text-align: right;\">\n",
              "      <th></th>\n",
              "      <th>abstract_id</th>\n",
              "      <th>line_id</th>\n",
              "      <th>abstract_text</th>\n",
              "      <th>line_number</th>\n",
              "      <th>total_lines</th>\n",
              "      <th>current_line</th>\n",
              "      <th>target</th>\n",
              "    </tr>\n",
              "  </thead>\n",
              "  <tbody>\n",
              "    <tr>\n",
              "      <th>0</th>\n",
              "      <td>21055153</td>\n",
              "      <td>21055153_6_18</td>\n",
              "      <td>(1) To investigate the promoter methylation st...</td>\n",
              "      <td>6</td>\n",
              "      <td>18</td>\n",
              "      <td>6_18</td>\n",
              "      <td>OBJECTIVE:</td>\n",
              "    </tr>\n",
              "    <tr>\n",
              "      <th>1</th>\n",
              "      <td>21055153</td>\n",
              "      <td>21055153_8_18</td>\n",
              "      <td>Methylation status of promoters of p16(INK4a) ...</td>\n",
              "      <td>8</td>\n",
              "      <td>18</td>\n",
              "      <td>8_18</td>\n",
              "      <td>METHODS:</td>\n",
              "    </tr>\n",
              "    <tr>\n",
              "      <th>2</th>\n",
              "      <td>21055153</td>\n",
              "      <td>21055153_10_18</td>\n",
              "      <td>The methylation rate of p16(INK4a) gene was 23...</td>\n",
              "      <td>10</td>\n",
              "      <td>18</td>\n",
              "      <td>10_18</td>\n",
              "      <td>RESULTS:</td>\n",
              "    </tr>\n",
              "    <tr>\n",
              "      <th>3</th>\n",
              "      <td>21055153</td>\n",
              "      <td>21055153_15_18</td>\n",
              "      <td>The abnormal methylation of p16(INK4a) gene ma...</td>\n",
              "      <td>15</td>\n",
              "      <td>18</td>\n",
              "      <td>15_18</td>\n",
              "      <td>CONCLUSIONS:</td>\n",
              "    </tr>\n",
              "    <tr>\n",
              "      <th>4</th>\n",
              "      <td>35594581</td>\n",
              "      <td>35594581_24_41</td>\n",
              "      <td>Breast density assessed from digital mammogram...</td>\n",
              "      <td>24</td>\n",
              "      <td>41</td>\n",
              "      <td>24_41</td>\n",
              "      <td>OBJECTIVE:</td>\n",
              "    </tr>\n",
              "    <tr>\n",
              "      <th>5</th>\n",
              "      <td>35594581</td>\n",
              "      <td>35594581_32_41</td>\n",
              "      <td>A multi-center study composed of 1395 women wh...</td>\n",
              "      <td>32</td>\n",
              "      <td>41</td>\n",
              "      <td>32_41</td>\n",
              "      <td>METHODS:</td>\n",
              "    </tr>\n",
              "    <tr>\n",
              "      <th>6</th>\n",
              "      <td>35594581</td>\n",
              "      <td>35594581_34_41</td>\n",
              "      <td>The combination of five networks implementing ...</td>\n",
              "      <td>34</td>\n",
              "      <td>41</td>\n",
              "      <td>34_41</td>\n",
              "      <td>RESULTS:</td>\n",
              "    </tr>\n",
              "    <tr>\n",
              "      <th>7</th>\n",
              "      <td>35594581</td>\n",
              "      <td>35594581_36_41</td>\n",
              "      <td>The proposed methodology has a similar perform...</td>\n",
              "      <td>36</td>\n",
              "      <td>41</td>\n",
              "      <td>36_41</td>\n",
              "      <td>CONCLUSIONS:</td>\n",
              "    </tr>\n",
              "    <tr>\n",
              "      <th>8</th>\n",
              "      <td>8487323</td>\n",
              "      <td>8487323_8_22</td>\n",
              "      <td>Studies in animals and geographic correlations...</td>\n",
              "      <td>8</td>\n",
              "      <td>22</td>\n",
              "      <td>8_22</td>\n",
              "      <td>BACKGROUND:</td>\n",
              "    </tr>\n",
              "    <tr>\n",
              "      <th>9</th>\n",
              "      <td>8487323</td>\n",
              "      <td>8487323_12_22</td>\n",
              "      <td>Aspirates of subcutaneous fat from the buttock...</td>\n",
              "      <td>12</td>\n",
              "      <td>22</td>\n",
              "      <td>12_22</td>\n",
              "      <td>METHODS:</td>\n",
              "    </tr>\n",
              "  </tbody>\n",
              "</table>\n",
              "</div>\n",
              "      <button class=\"colab-df-convert\" onclick=\"convertToInteractive('df-2ab2be51-2adb-4cfa-956b-d7ddfb35b213')\"\n",
              "              title=\"Convert this dataframe to an interactive table.\"\n",
              "              style=\"display:none;\">\n",
              "        \n",
              "  <svg xmlns=\"http://www.w3.org/2000/svg\" height=\"24px\"viewBox=\"0 0 24 24\"\n",
              "       width=\"24px\">\n",
              "    <path d=\"M0 0h24v24H0V0z\" fill=\"none\"/>\n",
              "    <path d=\"M18.56 5.44l.94 2.06.94-2.06 2.06-.94-2.06-.94-.94-2.06-.94 2.06-2.06.94zm-11 1L8.5 8.5l.94-2.06 2.06-.94-2.06-.94L8.5 2.5l-.94 2.06-2.06.94zm10 10l.94 2.06.94-2.06 2.06-.94-2.06-.94-.94-2.06-.94 2.06-2.06.94z\"/><path d=\"M17.41 7.96l-1.37-1.37c-.4-.4-.92-.59-1.43-.59-.52 0-1.04.2-1.43.59L10.3 9.45l-7.72 7.72c-.78.78-.78 2.05 0 2.83L4 21.41c.39.39.9.59 1.41.59.51 0 1.02-.2 1.41-.59l7.78-7.78 2.81-2.81c.8-.78.8-2.07 0-2.86zM5.41 20L4 18.59l7.72-7.72 1.47 1.35L5.41 20z\"/>\n",
              "  </svg>\n",
              "      </button>\n",
              "      \n",
              "  <style>\n",
              "    .colab-df-container {\n",
              "      display:flex;\n",
              "      flex-wrap:wrap;\n",
              "      gap: 12px;\n",
              "    }\n",
              "\n",
              "    .colab-df-convert {\n",
              "      background-color: #E8F0FE;\n",
              "      border: none;\n",
              "      border-radius: 50%;\n",
              "      cursor: pointer;\n",
              "      display: none;\n",
              "      fill: #1967D2;\n",
              "      height: 32px;\n",
              "      padding: 0 0 0 0;\n",
              "      width: 32px;\n",
              "    }\n",
              "\n",
              "    .colab-df-convert:hover {\n",
              "      background-color: #E2EBFA;\n",
              "      box-shadow: 0px 1px 2px rgba(60, 64, 67, 0.3), 0px 1px 3px 1px rgba(60, 64, 67, 0.15);\n",
              "      fill: #174EA6;\n",
              "    }\n",
              "\n",
              "    [theme=dark] .colab-df-convert {\n",
              "      background-color: #3B4455;\n",
              "      fill: #D2E3FC;\n",
              "    }\n",
              "\n",
              "    [theme=dark] .colab-df-convert:hover {\n",
              "      background-color: #434B5C;\n",
              "      box-shadow: 0px 1px 3px 1px rgba(0, 0, 0, 0.15);\n",
              "      filter: drop-shadow(0px 1px 2px rgba(0, 0, 0, 0.3));\n",
              "      fill: #FFFFFF;\n",
              "    }\n",
              "  </style>\n",
              "\n",
              "      <script>\n",
              "        const buttonEl =\n",
              "          document.querySelector('#df-2ab2be51-2adb-4cfa-956b-d7ddfb35b213 button.colab-df-convert');\n",
              "        buttonEl.style.display =\n",
              "          google.colab.kernel.accessAllowed ? 'block' : 'none';\n",
              "\n",
              "        async function convertToInteractive(key) {\n",
              "          const element = document.querySelector('#df-2ab2be51-2adb-4cfa-956b-d7ddfb35b213');\n",
              "          const dataTable =\n",
              "            await google.colab.kernel.invokeFunction('convertToInteractive',\n",
              "                                                     [key], {});\n",
              "          if (!dataTable) return;\n",
              "\n",
              "          const docLinkHtml = 'Like what you see? Visit the ' +\n",
              "            '<a target=\"_blank\" href=https://colab.research.google.com/notebooks/data_table.ipynb>data table notebook</a>'\n",
              "            + ' to learn more about interactive tables.';\n",
              "          element.innerHTML = '';\n",
              "          dataTable['output_type'] = 'display_data';\n",
              "          await google.colab.output.renderOutput(dataTable, element);\n",
              "          const docLink = document.createElement('div');\n",
              "          docLink.innerHTML = docLinkHtml;\n",
              "          element.appendChild(docLink);\n",
              "        }\n",
              "      </script>\n",
              "    </div>\n",
              "  </div>\n",
              "  "
            ]
          },
          "metadata": {},
          "execution_count": 39
        }
      ]
    },
    {
      "cell_type": "code",
      "source": [
        "train_df.target.value_counts()"
      ],
      "metadata": {
        "colab": {
          "base_uri": "https://localhost:8080/"
        },
        "id": "5HL7kKDKlRU4",
        "outputId": "c4b3bac7-081a-4033-c22d-edb8ab054a73"
      },
      "execution_count": 40,
      "outputs": [
        {
          "output_type": "execute_result",
          "data": {
            "text/plain": [
              "RESULTS:        5300\n",
              "METHODS:        5172\n",
              "OBJECTIVE:      3891\n",
              "CONCLUSIONS:    3762\n",
              "BACKGROUND:     1767\n",
              "Name: target, dtype: int64"
            ]
          },
          "metadata": {},
          "execution_count": 40
        }
      ]
    },
    {
      "cell_type": "code",
      "source": [
        "fig, (ax1, ax2, ax3) = plt.subplots(3, figsize=(16, 14))\n",
        "\n",
        "# Set the spacing between subplots\n",
        "fig.tight_layout(pad=6.0)\n",
        "\n",
        "# Plot Train Labels Distribution\n",
        "ax1.set_title('Train Labels Distribution', fontsize=20)\n",
        "train_distribution = train_df['target'].value_counts().sort_values()\n",
        "sns.barplot(x=train_distribution.values,\n",
        "            y=list(train_distribution.keys()),\n",
        "            orient=\"h\",\n",
        "            ax=ax1)\n",
        "\n",
        "# Plot Validation Labels Distribution\n",
        "ax2.set_title('Validation Labels Distribution', fontsize=20)\n",
        "val_distribution = val_df['target'].value_counts().sort_values()\n",
        "sns.barplot(x=val_distribution.values,\n",
        "            y=list(val_distribution.keys()),\n",
        "            orient=\"h\",\n",
        "            ax=ax2);\n",
        "\n",
        "# Plot Test Labels Distribution\n",
        "ax3.set_title('Test Labels Distribution', fontsize=20)\n",
        "test_distribution = test_df['target'].value_counts().sort_values()\n",
        "sns.barplot(x=test_distribution.values,\n",
        "            y=list(test_distribution.keys()),\n",
        "            orient=\"h\",\n",
        "            ax=ax3);"
      ],
      "metadata": {
        "colab": {
          "base_uri": "https://localhost:8080/",
          "height": 950
        },
        "id": "X8vo0lROlaTA",
        "outputId": "00141a54-d1b5-4737-f292-0f3f35ea08d3"
      },
      "execution_count": 41,
      "outputs": [
        {
          "output_type": "display_data",
          "data": {
            "text/plain": [
              "<Figure size 1600x1400 with 3 Axes>"
            ],
            "image/png": "[encoded data removed]"
          },
          "metadata": {}
        }
      ]
    },
    {
      "cell_type": "code",
      "source": [
        "# Convert abstract text lines into lists\n",
        "train_sentences = train_df[\"abstract_text\"].tolist()\n",
        "val_sentences = val_df[\"abstract_text\"].tolist()\n",
        "test_sentences = test_df[\"abstract_text\"].tolist()"
      ],
      "metadata": {
        "id": "DOzB_vxUldUi"
      },
      "execution_count": 42,
      "outputs": []
    },
    {
      "cell_type": "code",
      "source": [
        "train_sentences_count = len(train_sentences)\n",
        "val_sentences_count = len(val_sentences)\n",
        "test_sentences_count = len(test_sentences)\n",
        "total_sentences_count = train_sentences_count + val_sentences_count + test_sentences_count\n",
        "\n",
        "print(f'Train samples count:\\t\\t{train_sentences_count}')\n",
        "print(f'Dev/Validation sample count:\\t{val_sentences_count}')\n",
        "print(f'Test sample count:\\t\\t{test_sentences_count}')\n",
        "print(f'Total samples:\\t\\t\\t{total_sentences_count}')"
      ],
      "metadata": {
        "colab": {
          "base_uri": "https://localhost:8080/"
        },
        "id": "YTXI8nWmlr5T",
        "outputId": "ecdb8092-0d40-4a2d-9c2f-6521fe68b75b"
      },
      "execution_count": 43,
      "outputs": [
        {
          "output_type": "stream",
          "name": "stdout",
          "text": [
            "Train samples count:\t\t19892\n",
            "Dev/Validation sample count:\t6526\n",
            "Test sample count:\t\t6637\n",
            "Total samples:\t\t\t33055\n"
          ]
        }
      ]
    },
    {
      "cell_type": "code",
      "source": [
        "one_hot_encoder = OneHotEncoder(sparse_output=False)"
      ],
      "metadata": {
        "id": "puoYO-RsltVd"
      },
      "execution_count": 44,
      "outputs": []
    },
    {
      "cell_type": "code",
      "source": [
        "train_labels_one_hot = one_hot_encoder.fit_transform(train_df[\"target\"].to_numpy().reshape(-1, 1))\n",
        "val_labels_one_hot = one_hot_encoder.transform(val_df[\"target\"].to_numpy().reshape(-1, 1))\n",
        "test_labels_one_hot = one_hot_encoder.transform(test_df[\"target\"].to_numpy().reshape(-1, 1))"
      ],
      "metadata": {
        "id": "rFDKx-zJlvKq"
      },
      "execution_count": 45,
      "outputs": []
    },
    {
      "cell_type": "code",
      "source": [
        "train_labels_one_hot"
      ],
      "metadata": {
        "colab": {
          "base_uri": "https://localhost:8080/"
        },
        "id": "B5xBQBUjlwZt",
        "outputId": "3706c23e-1f53-4117-ddb3-e8371ae2aff7"
      },
      "execution_count": 46,
      "outputs": [
        {
          "output_type": "execute_result",
          "data": {
            "text/plain": [
              "array([[0., 0., 0., 1., 0.],\n",
              "       [0., 0., 1., 0., 0.],\n",
              "       [0., 0., 0., 0., 1.],\n",
              "       ...,\n",
              "       [0., 0., 0., 1., 0.],\n",
              "       [0., 0., 1., 0., 0.],\n",
              "       [0., 0., 0., 0., 1.]])"
            ]
          },
          "metadata": {},
          "execution_count": 46
        }
      ]
    },
    {
      "cell_type": "code",
      "source": [
        "label_encoder = LabelEncoder()"
      ],
      "metadata": {
        "id": "lu9WchKdlx-Q"
      },
      "execution_count": 47,
      "outputs": []
    },
    {
      "cell_type": "code",
      "source": [
        "train_labels_encoded = label_encoder.fit_transform(train_df[\"target\"].to_numpy())\n",
        "val_labels_encoded = label_encoder.transform(val_df[\"target\"].to_numpy())\n",
        "test_labels_encoded = label_encoder.transform(test_df[\"target\"].to_numpy())\n",
        "\n",
        "# inspect label encoded targets\n",
        "train_labels_encoded"
      ],
      "metadata": {
        "colab": {
          "base_uri": "https://localhost:8080/"
        },
        "id": "gJvNBq2_l2BS",
        "outputId": "45a3aecc-ee14-4abe-fd1f-b3152d58d7b4"
      },
      "execution_count": 48,
      "outputs": [
        {
          "output_type": "execute_result",
          "data": {
            "text/plain": [
              "array([3, 2, 4, ..., 3, 2, 4])"
            ]
          },
          "metadata": {},
          "execution_count": 48
        }
      ]
    },
    {
      "cell_type": "code",
      "source": [
        "num_classes = len(label_encoder.classes_)\n",
        "class_names = label_encoder.classes_\n",
        "\n",
        "print(f'Number of classes: {num_classes}')\n",
        "print(f'Classes: {class_names}')"
      ],
      "metadata": {
        "colab": {
          "base_uri": "https://localhost:8080/"
        },
        "id": "Ac6J3O6kl3Fn",
        "outputId": "77871585-0546-4bea-cb0c-4ed6c9b696bc"
      },
      "execution_count": 49,
      "outputs": [
        {
          "output_type": "stream",
          "name": "stdout",
          "text": [
            "Number of classes: 5\n",
            "Classes: ['BACKGROUND:' 'CONCLUSIONS:' 'METHODS:' 'OBJECTIVE:' 'RESULTS:']\n"
          ]
        }
      ]
    },
    {
      "cell_type": "code",
      "source": [
        "line_one_hot_encoder = OneHotEncoder(sparse_output=False, handle_unknown=\"infrequent_if_exist\")"
      ],
      "metadata": {
        "id": "4mNilMtI1Ck0"
      },
      "execution_count": 50,
      "outputs": []
    },
    {
      "cell_type": "code",
      "source": [
        "train_lines_encoded = line_one_hot_encoder.fit_transform(train_df[\"current_line\"].to_numpy().reshape(-1, 1)).astype(np.float32)\n",
        "val_lines_encoded = line_one_hot_encoder.transform(val_df[\"current_line\"].to_numpy().reshape(-1, 1)).astype(np.float32)\n",
        "test_lines_encoded = line_one_hot_encoder.transform(test_df[\"current_line\"].to_numpy().reshape(-1, 1)).astype(np.float32)"
      ],
      "metadata": {
        "id": "oABXsWhE1DRw"
      },
      "execution_count": 51,
      "outputs": []
    },
    {
      "cell_type": "code",
      "source": [
        "test_lines_encoded.shape"
      ],
      "metadata": {
        "colab": {
          "base_uri": "https://localhost:8080/"
        },
        "id": "0121Qnyq1maE",
        "outputId": "fe916bb4-711a-4557-ec20-9426fade6d53"
      },
      "execution_count": 52,
      "outputs": [
        {
          "output_type": "execute_result",
          "data": {
            "text/plain": [
              "(6637, 860)"
            ]
          },
          "metadata": {},
          "execution_count": 52
        }
      ]
    },
    {
      "cell_type": "code",
      "source": [
        "def apply_smoothing(line_one_hot, esp=0.01):\n",
        "    return np.abs(line_one_hot - esp)\n",
        "\n",
        "def revert_smoothing(line_one_hot_smooth, esp=0.01):\n",
        "    unsmooth = line_one_hot_smooth\n",
        "    \n",
        "    unsmooth[unsmooth>esp] = 1.0\n",
        "    unsmooth[unsmooth<=esp] = 0.0\n",
        "    \n",
        "    return unsmooth"
      ],
      "metadata": {
        "id": "yglALnX6l4lj"
      },
      "execution_count": 53,
      "outputs": []
    },
    {
      "cell_type": "code",
      "source": [
        "# Only apply smoothing to train lines feature \n",
        "train_lines_encoded = apply_smoothing(train_lines_encoded)"
      ],
      "metadata": {
        "id": "iwMUFAhc1o_T"
      },
      "execution_count": 54,
      "outputs": []
    },
    {
      "cell_type": "code",
      "source": [
        "def create_pipeline(features, labels, batch_size=32, shuffle=False, cache=False, prefetch=False) -> tf.data.Dataset:\n",
        "    '''\n",
        "    Generates an input pipeline using the tf.data API for training and inference.\n",
        "    \n",
        "    @params\n",
        "        - features: (tuple) -> tuple containing the feature data \n",
        "        - labels: (tf.Tensor | np.ndarray, default=None) -> target data related to the feature data\n",
        "        - batch_size: (int) -> size for batched (default=32) \n",
        "        - shuffle: (bool) -> condition for data shuffling, data is shuffled when True (default=False)\n",
        "        - cache: (bool) -> condition for caching data, data is cached in memory when True (default=False)\n",
        "        - prefetch: (bool) -> condition for prefeching data, data is prefetched when True (default=False)\n",
        "        \n",
        "    @returns\n",
        "        - dataset: (tf.data.Dataset) -> dataset input pipeline used to train a TensorFlow model\n",
        "    '''\n",
        "    \n",
        "    AUTOTUNE = tf.data.AUTOTUNE\n",
        "    \n",
        "    # Create dataset with features and labels\n",
        "    ds = tf.data.Dataset.from_tensor_slices((features, labels))\n",
        "    \n",
        "    # Apply shuffling based on condition\n",
        "    if shuffle:\n",
        "        ds = ds.shuffle(buffer_size=1000)\n",
        "        \n",
        "    # Apply batching\n",
        "    ds = ds.batch(batch_size)\n",
        "    \n",
        "    # Apply caching based on condition\n",
        "    # Note: Do this if the data is small enough to fit in memory!!!\n",
        "    if cache:\n",
        "        ds = ds.cache(buffer_size=AUTOTUNE)\n",
        "    \n",
        "    # Apply prefetching based on condition\n",
        "    # Note: This will result in memory trade-offs\n",
        "    if prefetch:\n",
        "        ds = ds.prefetch(buffer_size=AUTOTUNE)\n",
        "    \n",
        "    # Return the dataset\n",
        "    return ds"
      ],
      "metadata": {
        "id": "ZaB21g5vl7ml"
      },
      "execution_count": 55,
      "outputs": []
    },
    {
      "cell_type": "code",
      "source": [
        "BATCH_SIZE = 32\n",
        "\n",
        "# Create preprocessed training dataset\n",
        "train_features = (train_sentences, train_lines_encoded.astype(np.float32)) \n",
        "train_labels = train_labels_one_hot.astype(np.float32)\n",
        "\n",
        "# Create preprocessed train input data pipeline\n",
        "train_ds = create_pipeline(\n",
        "    train_features, train_labels, \n",
        "    batch_size=BATCH_SIZE, shuffle=True, \n",
        "    cache=False, prefetch=True)"
      ],
      "metadata": {
        "id": "8pJ8Miq6l9BD"
      },
      "execution_count": 56,
      "outputs": []
    },
    {
      "cell_type": "code",
      "source": [
        "# Create preprocessed validation dataset\n",
        "val_features = (val_sentences, val_lines_encoded.astype(np.float32)) \n",
        "val_labels = val_labels_one_hot.astype(np.float32)\n",
        "\n",
        "# Create preprocessed validation input data pipeline\n",
        "val_ds = create_pipeline(val_features, val_labels, \n",
        "                         batch_size=BATCH_SIZE, shuffle=False, \n",
        "                         cache=False, prefetch=True)"
      ],
      "metadata": {
        "id": "gnmYNWzrl96S"
      },
      "execution_count": 57,
      "outputs": []
    },
    {
      "cell_type": "code",
      "source": [
        "# Create preprocessed test dataset\n",
        "test_features = (test_sentences, test_lines_encoded.astype(np.float32)) \n",
        "test_labels = test_labels_one_hot.astype(np.float32)\n",
        "\n",
        "# Create preprocessed test input data pipeline\n",
        "test_ds = create_pipeline(test_features, test_labels, \n",
        "                          batch_size=BATCH_SIZE, shuffle=False, \n",
        "                          cache=False, prefetch=True)"
      ],
      "metadata": {
        "id": "zG7r4lq4l_aE"
      },
      "execution_count": 58,
      "outputs": []
    },
    {
      "cell_type": "code",
      "source": [
        "# View string representation of datasets\n",
        "print('========================================')\n",
        "print('Train Input Data Pipeline:\\n\\n', train_ds)\n",
        "print('========================================')\n",
        "print('Validation Input Data Pipeline:\\n\\n', val_ds)\n",
        "print('========================================')\n",
        "print('Test Input Data Pipeline:\\n\\n', test_ds)\n",
        "print('========================================')"
      ],
      "metadata": {
        "colab": {
          "base_uri": "https://localhost:8080/"
        },
        "id": "liqwUW_-mAeE",
        "outputId": "8bdef67d-d978-41fb-df08-f5136e162adb"
      },
      "execution_count": 59,
      "outputs": [
        {
          "output_type": "stream",
          "name": "stdout",
          "text": [
            "========================================\n",
            "Train Input Data Pipeline:\n",
            "\n",
            " <_PrefetchDataset element_spec=((TensorSpec(shape=(None,), dtype=tf.string, name=None), TensorSpec(shape=(None, 860), dtype=tf.float32, name=None)), TensorSpec(shape=(None, 5), dtype=tf.float32, name=None))>\n",
            "========================================\n",
            "Validation Input Data Pipeline:\n",
            "\n",
            " <_PrefetchDataset element_spec=((TensorSpec(shape=(None,), dtype=tf.string, name=None), TensorSpec(shape=(None, 860), dtype=tf.float32, name=None)), TensorSpec(shape=(None, 5), dtype=tf.float32, name=None))>\n",
            "========================================\n",
            "Test Input Data Pipeline:\n",
            "\n",
            " <_PrefetchDataset element_spec=((TensorSpec(shape=(None,), dtype=tf.string, name=None), TensorSpec(shape=(None, 860), dtype=tf.float32, name=None)), TensorSpec(shape=(None, 5), dtype=tf.float32, name=None))>\n",
            "========================================\n"
          ]
        }
      ]
    },
    {
      "cell_type": "code",
      "source": [
        "!pip install tensorflow-text"
      ],
      "metadata": {
        "id": "n6fKBujAmB8q",
        "colab": {
          "base_uri": "https://localhost:8080/"
        },
        "outputId": "d473c6e7-1510-49f5-d640-88f62da81a94"
      },
      "execution_count": 60,
      "outputs": [
        {
          "output_type": "stream",
          "name": "stdout",
          "text": [
            "Looking in indexes: https://pypi.org/simple, https://us-python.pkg.dev/colab-wheels/public/simple/\n",
            "Collecting tensorflow-text\n",
            "  Downloading tensorflow_text-2.12.0-cp39-cp39-manylinux_2_17_x86_64.manylinux2014_x86_64.whl (6.0 MB)\n",
            "\u001b[2K     \u001b[90m━━━━━━━━━━━━━━━━━━━━━━━━━━━━━━━━━━━━━━━━\u001b[0m \u001b[32m6.0/6.0 MB\u001b[0m \u001b[31m53.2 MB/s\u001b[0m eta \u001b[36m0:00:00\u001b[0m\n",
            "\u001b[?25hRequirement already satisfied: tensorflow-hub>=0.8.0 in /usr/local/lib/python3.9/dist-packages (from tensorflow-text) (0.13.0)\n",
            "Requirement already satisfied: tensorflow<2.13,>=2.12.0 in /usr/local/lib/python3.9/dist-packages (from tensorflow-text) (2.12.0)\n",
            "Requirement already satisfied: termcolor>=1.1.0 in /usr/local/lib/python3.9/dist-packages (from tensorflow<2.13,>=2.12.0->tensorflow-text) (2.2.0)\n",
            "Requirement already satisfied: libclang>=13.0.0 in /usr/local/lib/python3.9/dist-packages (from tensorflow<2.13,>=2.12.0->tensorflow-text) (16.0.0)\n",
            "Requirement already satisfied: wrapt<1.15,>=1.11.0 in /usr/local/lib/python3.9/dist-packages (from tensorflow<2.13,>=2.12.0->tensorflow-text) (1.14.1)\n",
            "Requirement already satisfied: jax>=0.3.15 in /usr/local/lib/python3.9/dist-packages (from tensorflow<2.13,>=2.12.0->tensorflow-text) (0.4.7)\n",
            "Requirement already satisfied: google-pasta>=0.1.1 in /usr/local/lib/python3.9/dist-packages (from tensorflow<2.13,>=2.12.0->tensorflow-text) (0.2.0)\n",
            "Requirement already satisfied: keras<2.13,>=2.12.0 in /usr/local/lib/python3.9/dist-packages (from tensorflow<2.13,>=2.12.0->tensorflow-text) (2.12.0)\n",
            "Requirement already satisfied: setuptools in /usr/local/lib/python3.9/dist-packages (from tensorflow<2.13,>=2.12.0->tensorflow-text) (67.6.1)\n",
            "Requirement already satisfied: tensorboard<2.13,>=2.12 in /usr/local/lib/python3.9/dist-packages (from tensorflow<2.13,>=2.12.0->tensorflow-text) (2.12.0)\n",
            "Requirement already satisfied: opt-einsum>=2.3.2 in /usr/local/lib/python3.9/dist-packages (from tensorflow<2.13,>=2.12.0->tensorflow-text) (3.3.0)\n",
            "Requirement already satisfied: flatbuffers>=2.0 in /usr/local/lib/python3.9/dist-packages (from tensorflow<2.13,>=2.12.0->tensorflow-text) (23.3.3)\n",
            "Requirement already satisfied: numpy<1.24,>=1.22 in /usr/local/lib/python3.9/dist-packages (from tensorflow<2.13,>=2.12.0->tensorflow-text) (1.22.4)\n",
            "Requirement already satisfied: absl-py>=1.0.0 in /usr/local/lib/python3.9/dist-packages (from tensorflow<2.13,>=2.12.0->tensorflow-text) (1.4.0)\n",
            "Requirement already satisfied: typing-extensions>=3.6.6 in /usr/local/lib/python3.9/dist-packages (from tensorflow<2.13,>=2.12.0->tensorflow-text) (4.5.0)\n",
            "Requirement already satisfied: gast<=0.4.0,>=0.2.1 in /usr/local/lib/python3.9/dist-packages (from tensorflow<2.13,>=2.12.0->tensorflow-text) (0.4.0)\n",
            "Requirement already satisfied: tensorflow-io-gcs-filesystem>=0.23.1 in /usr/local/lib/python3.9/dist-packages (from tensorflow<2.13,>=2.12.0->tensorflow-text) (0.32.0)\n",
            "Requirement already satisfied: six>=1.12.0 in /usr/local/lib/python3.9/dist-packages (from tensorflow<2.13,>=2.12.0->tensorflow-text) (1.16.0)\n",
            "Requirement already satisfied: grpcio<2.0,>=1.24.3 in /usr/local/lib/python3.9/dist-packages (from tensorflow<2.13,>=2.12.0->tensorflow-text) (1.53.0)\n",
            "Requirement already satisfied: protobuf!=4.21.0,!=4.21.1,!=4.21.2,!=4.21.3,!=4.21.4,!=4.21.5,<5.0.0dev,>=3.20.3 in /usr/local/lib/python3.9/dist-packages (from tensorflow<2.13,>=2.12.0->tensorflow-text) (3.20.3)\n",
            "Requirement already satisfied: astunparse>=1.6.0 in /usr/local/lib/python3.9/dist-packages (from tensorflow<2.13,>=2.12.0->tensorflow-text) (1.6.3)\n",
            "Requirement already satisfied: tensorflow-estimator<2.13,>=2.12.0 in /usr/local/lib/python3.9/dist-packages (from tensorflow<2.13,>=2.12.0->tensorflow-text) (2.12.0)\n",
            "Requirement already satisfied: packaging in /usr/local/lib/python3.9/dist-packages (from tensorflow<2.13,>=2.12.0->tensorflow-text) (23.0)\n",
            "Requirement already satisfied: h5py>=2.9.0 in /usr/local/lib/python3.9/dist-packages (from tensorflow<2.13,>=2.12.0->tensorflow-text) (3.8.0)\n",
            "Requirement already satisfied: wheel<1.0,>=0.23.0 in /usr/local/lib/python3.9/dist-packages (from astunparse>=1.6.0->tensorflow<2.13,>=2.12.0->tensorflow-text) (0.40.0)\n",
            "Requirement already satisfied: scipy>=1.7 in /usr/local/lib/python3.9/dist-packages (from jax>=0.3.15->tensorflow<2.13,>=2.12.0->tensorflow-text) (1.10.1)\n",
            "Requirement already satisfied: ml-dtypes>=0.0.3 in /usr/local/lib/python3.9/dist-packages (from jax>=0.3.15->tensorflow<2.13,>=2.12.0->tensorflow-text) (0.0.4)\n",
            "Requirement already satisfied: google-auth-oauthlib<0.5,>=0.4.1 in /usr/local/lib/python3.9/dist-packages (from tensorboard<2.13,>=2.12->tensorflow<2.13,>=2.12.0->tensorflow-text) (0.4.6)\n",
            "Requirement already satisfied: tensorboard-data-server<0.8.0,>=0.7.0 in /usr/local/lib/python3.9/dist-packages (from tensorboard<2.13,>=2.12->tensorflow<2.13,>=2.12.0->tensorflow-text) (0.7.0)\n",
            "Requirement already satisfied: requests<3,>=2.21.0 in /usr/local/lib/python3.9/dist-packages (from tensorboard<2.13,>=2.12->tensorflow<2.13,>=2.12.0->tensorflow-text) (2.27.1)\n",
            "Requirement already satisfied: markdown>=2.6.8 in /usr/local/lib/python3.9/dist-packages (from tensorboard<2.13,>=2.12->tensorflow<2.13,>=2.12.0->tensorflow-text) (3.4.3)\n",
            "Requirement already satisfied: tensorboard-plugin-wit>=1.6.0 in /usr/local/lib/python3.9/dist-packages (from tensorboard<2.13,>=2.12->tensorflow<2.13,>=2.12.0->tensorflow-text) (1.8.1)\n",
            "Requirement already satisfied: google-auth<3,>=1.6.3 in /usr/local/lib/python3.9/dist-packages (from tensorboard<2.13,>=2.12->tensorflow<2.13,>=2.12.0->tensorflow-text) (2.17.1)\n",
            "Requirement already satisfied: werkzeug>=1.0.1 in /usr/local/lib/python3.9/dist-packages (from tensorboard<2.13,>=2.12->tensorflow<2.13,>=2.12.0->tensorflow-text) (2.2.3)\n",
            "Requirement already satisfied: rsa<5,>=3.1.4 in /usr/local/lib/python3.9/dist-packages (from google-auth<3,>=1.6.3->tensorboard<2.13,>=2.12->tensorflow<2.13,>=2.12.0->tensorflow-text) (4.9)\n",
            "Requirement already satisfied: pyasn1-modules>=0.2.1 in /usr/local/lib/python3.9/dist-packages (from google-auth<3,>=1.6.3->tensorboard<2.13,>=2.12->tensorflow<2.13,>=2.12.0->tensorflow-text) (0.2.8)\n",
            "Requirement already satisfied: cachetools<6.0,>=2.0.0 in /usr/local/lib/python3.9/dist-packages (from google-auth<3,>=1.6.3->tensorboard<2.13,>=2.12->tensorflow<2.13,>=2.12.0->tensorflow-text) (5.3.0)\n",
            "Requirement already satisfied: requests-oauthlib>=0.7.0 in /usr/local/lib/python3.9/dist-packages (from google-auth-oauthlib<0.5,>=0.4.1->tensorboard<2.13,>=2.12->tensorflow<2.13,>=2.12.0->tensorflow-text) (1.3.1)\n",
            "Requirement already satisfied: importlib-metadata>=4.4 in /usr/local/lib/python3.9/dist-packages (from markdown>=2.6.8->tensorboard<2.13,>=2.12->tensorflow<2.13,>=2.12.0->tensorflow-text) (6.1.0)\n",
            "Requirement already satisfied: certifi>=2017.4.17 in /usr/local/lib/python3.9/dist-packages (from requests<3,>=2.21.0->tensorboard<2.13,>=2.12->tensorflow<2.13,>=2.12.0->tensorflow-text) (2022.12.7)\n",
            "Requirement already satisfied: charset-normalizer~=2.0.0 in /usr/local/lib/python3.9/dist-packages (from requests<3,>=2.21.0->tensorboard<2.13,>=2.12->tensorflow<2.13,>=2.12.0->tensorflow-text) (2.0.12)\n",
            "Requirement already satisfied: idna<4,>=2.5 in /usr/local/lib/python3.9/dist-packages (from requests<3,>=2.21.0->tensorboard<2.13,>=2.12->tensorflow<2.13,>=2.12.0->tensorflow-text) (3.4)\n",
            "Requirement already satisfied: urllib3<1.27,>=1.21.1 in /usr/local/lib/python3.9/dist-packages (from requests<3,>=2.21.0->tensorboard<2.13,>=2.12->tensorflow<2.13,>=2.12.0->tensorflow-text) (1.26.15)\n",
            "Requirement already satisfied: MarkupSafe>=2.1.1 in /usr/local/lib/python3.9/dist-packages (from werkzeug>=1.0.1->tensorboard<2.13,>=2.12->tensorflow<2.13,>=2.12.0->tensorflow-text) (2.1.2)\n",
            "Requirement already satisfied: zipp>=0.5 in /usr/local/lib/python3.9/dist-packages (from importlib-metadata>=4.4->markdown>=2.6.8->tensorboard<2.13,>=2.12->tensorflow<2.13,>=2.12.0->tensorflow-text) (3.15.0)\n",
            "Requirement already satisfied: pyasn1<0.5.0,>=0.4.6 in /usr/local/lib/python3.9/dist-packages (from pyasn1-modules>=0.2.1->google-auth<3,>=1.6.3->tensorboard<2.13,>=2.12->tensorflow<2.13,>=2.12.0->tensorflow-text) (0.4.8)\n",
            "Requirement already satisfied: oauthlib>=3.0.0 in /usr/local/lib/python3.9/dist-packages (from requests-oauthlib>=0.7.0->google-auth-oauthlib<0.5,>=0.4.1->tensorboard<2.13,>=2.12->tensorflow<2.13,>=2.12.0->tensorflow-text) (3.2.2)\n",
            "Installing collected packages: tensorflow-text\n",
            "Successfully installed tensorflow-text-2.12.0\n"
          ]
        }
      ]
    },
    {
      "cell_type": "code",
      "source": [
        "def get_tfhub_model(model_link, model_name, model_trainable=False):\n",
        "    return hub.KerasLayer(model_link,\n",
        "                          trainable=model_trainable,\n",
        "                          name=model_name)"
      ],
      "metadata": {
        "id": "3yMa5_BAmDrE"
      },
      "execution_count": 61,
      "outputs": []
    },
    {
      "cell_type": "markdown",
      "source": [
        "# Modelling"
      ],
      "metadata": {
        "id": "3ZWSI-MZmGSt"
      }
    },
    {
      "cell_type": "markdown",
      "source": [
        "CHANGE ENCODER"
      ],
      "metadata": {
        "id": "cnBIcT3UmHlm"
      }
    },
    {
      "cell_type": "code",
      "source": [
        "encoder_link = 'https://tfhub.dev/google/universal-sentence-encoder/4'\n",
        "encoder_name = 'universal_sentence_encoder'\n",
        "encoder_trainable=False # set trainable to False for inference-only  # TRY TRAINABLE = TRUE\n",
        "\n",
        "encoder = get_tfhub_model(encoder_link, encoder_name, model_trainable=encoder_trainable)"
      ],
      "metadata": {
        "id": "HpAppD2PmFWR"
      },
      "execution_count": 62,
      "outputs": []
    },
    {
      "cell_type": "code",
      "source": [
        "class SelfAttentionBlock(layers.Layer):\n",
        "    \n",
        "    def __init__(self, units: int, activation='gelu', kernel_initializer='GlorotNormal', **kwargs):\n",
        "        super(SelfAttentionBlock, self).__init__(**kwargs)\n",
        "        self.units = units\n",
        "        self.activation = activation\n",
        "        self.kernel_initializer = tf.keras.initializers.deserialize(kernel_initializer)\n",
        "        \n",
        "        self.query = layers.LSTM(self.units, activation=self.activation, \n",
        "                                 kernel_initializer=self.kernel_initializer, \n",
        "                                 return_sequences=True, name=f'block_query_lstm')\n",
        "        \n",
        "        self.value = layers.LSTM(self.units, activation=self.activation, \n",
        "                                 kernel_initializer=self.kernel_initializer, go_backwards=True, \n",
        "                                 return_sequences=True, name=f'block_value_lstm')\n",
        "        \n",
        "        self.attention = layers.AdditiveAttention(name='block_attention')\n",
        "        self.average_pooler = layers.GlobalAveragePooling1D(name='block_average_pooler')\n",
        "        self.query_batch_norm = layers.BatchNormalization(name='block_query_batch_norm')\n",
        "        self.attention_batch_norm = layers.BatchNormalization(name='block_attention_batch_norm')\n",
        "        self.residual = layers.Add(name='block_residual')\n",
        "        \n",
        "        \n",
        "    def __call__(self, x):\n",
        "        # Expand dimensions for LSTMs\n",
        "        dim_expand_layer = layers.Lambda(lambda embedding: tf.expand_dims(embedding, axis=1), name='block_dim_expand')\n",
        "        x_expanded = dim_expand_layer(x)\n",
        "        \n",
        "        # Generate LSTM sequences\n",
        "        block_query = self.query(x_expanded)\n",
        "        block_value = self.value(x_expanded)\n",
        "        \n",
        "        # Apply self-attention to LSTM \n",
        "        block_attention = self.attention([block_query, block_value])\n",
        "        \n",
        "        # Apply GlobalAvgPooling and BatchNorm to ensure output shape is 1D \n",
        "        block_query_pooling = self.average_pooler(block_query)\n",
        "        block_query_batch_norm = self.query_batch_norm(block_query_pooling)\n",
        "        \n",
        "        block_attention_pooling = self.average_pooler(block_attention)\n",
        "        block_attention_batch_norm = self.attention_batch_norm(block_attention_pooling)\n",
        "        \n",
        "        # Generate addition residual with processed query and attention\n",
        "        block_residual = self.residual([block_query_batch_norm, block_attention_batch_norm])\n",
        "        \n",
        "        return block_residual"
      ],
      "metadata": {
        "id": "9Ti9K0_CmJIP"
      },
      "execution_count": 63,
      "outputs": []
    },
    {
      "cell_type": "code",
      "source": [
        "def build_model():\n",
        "    # Model Inputs\n",
        "    #------------\n",
        "    abstract_input = layers.Input(shape=[], dtype=tf.string, name='abstract_text_input')    \n",
        "    abstract_current_line = layers.Input(shape=(860), dtype=tf.float32, name='abstract_current_line')\n",
        "    \n",
        "    # Define Layer Initializer\n",
        "    #------------\n",
        "    initializer = tf.keras.initializers.GlorotNormal()\n",
        "\n",
        "    # Text Embedding\n",
        "    #------------\n",
        "    abstract_embedding = encoder(abstract_input)\n",
        "    \n",
        "    # Self Attention Block Stream\n",
        "    #------------\n",
        "    add_attention_block = SelfAttentionBlock(64)(abstract_embedding)\n",
        "    abstract_dense = layers.Dense(64, activation='gelu', kernel_initializer=initializer)(abstract_embedding)\n",
        "    attention_residual = layers.Multiply(name='mul_residual')([add_attention_block, abstract_dense])\n",
        "    \n",
        "    # Current Line Stream\n",
        "    #------------\n",
        "    current_line_dense = layers.Dense(32, activation='gelu', kernel_initializer=initializer)(abstract_current_line)\n",
        "    current_line_dense = layers.Dropout(0.2)(current_line_dense)\n",
        "\n",
        "    # Concat Streams\n",
        "    #------------\n",
        "    streams_concat = layers.Concatenate()([\n",
        "        attention_residual,\n",
        "        current_line_dense\n",
        "    ])\n",
        "\n",
        "    # Output Layer\n",
        "    #------------\n",
        "    output_layer = layers.Dense(64, activation='gelu', kernel_initializer=initializer)(streams_concat)\n",
        "    output_layer = layers.Dense(5, activation='softmax', kernel_initializer=initializer)(output_layer)\n",
        "\n",
        "    return tf.keras.Model(inputs=[abstract_input, \n",
        "                                  abstract_current_line], \n",
        "                          outputs=[output_layer], name=\"use_attention_model\")"
      ],
      "metadata": {
        "id": "mV16-F7UmKnh"
      },
      "execution_count": 64,
      "outputs": []
    },
    {
      "cell_type": "code",
      "source": [
        "model = build_model()"
      ],
      "metadata": {
        "id": "-LMxtlp5mXwX",
        "colab": {
          "base_uri": "https://localhost:8080/"
        },
        "outputId": "a9dba3fa-1eea-4d76-83f5-ff2057c23239"
      },
      "execution_count": 65,
      "outputs": [
        {
          "output_type": "stream",
          "name": "stderr",
          "text": [
            "/usr/local/lib/python3.9/dist-packages/keras/initializers/initializers.py:120: UserWarning: The initializer GlorotNormal is unseeded and being called multiple times, which will return identical values each time (even if the initializer is unseeded). Please update your code to provide a seed to the initializer, or avoid using the same initalizer instance more than once.\n",
            "  warnings.warn(\n"
          ]
        }
      ]
    },
    {
      "cell_type": "code",
      "source": [
        "# View summary of model\n",
        "model.summary()"
      ],
      "metadata": {
        "colab": {
          "base_uri": "https://localhost:8080/"
        },
        "id": "Dvg3YK0LmMU-",
        "outputId": "a865b45e-a730-41a2-94cc-3bc644263d12"
      },
      "execution_count": 66,
      "outputs": [
        {
          "output_type": "stream",
          "name": "stdout",
          "text": [
            "Model: \"use_attention_model\"\n",
            "__________________________________________________________________________________________________\n",
            " Layer (type)                   Output Shape         Param #     Connected to                     \n",
            "==================================================================================================\n",
            " abstract_text_input (InputLaye  [(None,)]           0           []                               \n",
            " r)                                                                                               \n",
            "                                                                                                  \n",
            " universal_sentence_encoder (Ke  (None, 512)         256797824   ['abstract_text_input[0][0]']    \n",
            " rasLayer)                                                                                        \n",
            "                                                                                                  \n",
            " block_dim_expand (Lambda)      (None, 1, 512)       0           ['universal_sentence_encoder[0][0\n",
            "                                                                 ]']                              \n",
            "                                                                                                  \n",
            " block_query_lstm (LSTM)        (None, 1, 64)        147712      ['block_dim_expand[0][0]']       \n",
            "                                                                                                  \n",
            " block_value_lstm (LSTM)        (None, 1, 64)        147712      ['block_dim_expand[0][0]']       \n",
            "                                                                                                  \n",
            " block_attention (AdditiveAtten  (None, 1, 64)       64          ['block_query_lstm[0][0]',       \n",
            " tion)                                                            'block_value_lstm[0][0]']       \n",
            "                                                                                                  \n",
            " block_average_pooler (GlobalAv  (None, 64)          0           ['block_query_lstm[0][0]',       \n",
            " eragePooling1D)                                                  'block_attention[0][0]']        \n",
            "                                                                                                  \n",
            " block_query_batch_norm (BatchN  (None, 64)          256         ['block_average_pooler[0][0]']   \n",
            " ormalization)                                                                                    \n",
            "                                                                                                  \n",
            " block_attention_batch_norm (Ba  (None, 64)          256         ['block_average_pooler[1][0]']   \n",
            " tchNormalization)                                                                                \n",
            "                                                                                                  \n",
            " abstract_current_line (InputLa  [(None, 860)]       0           []                               \n",
            " yer)                                                                                             \n",
            "                                                                                                  \n",
            " block_residual (Add)           (None, 64)           0           ['block_query_batch_norm[0][0]', \n",
            "                                                                  'block_attention_batch_norm[0][0\n",
            "                                                                 ]']                              \n",
            "                                                                                                  \n",
            " dense (Dense)                  (None, 64)           32832       ['universal_sentence_encoder[0][0\n",
            "                                                                 ]']                              \n",
            "                                                                                                  \n",
            " dense_1 (Dense)                (None, 32)           27552       ['abstract_current_line[0][0]']  \n",
            "                                                                                                  \n",
            " mul_residual (Multiply)        (None, 64)           0           ['block_residual[0][0]',         \n",
            "                                                                  'dense[0][0]']                  \n",
            "                                                                                                  \n",
            " dropout (Dropout)              (None, 32)           0           ['dense_1[0][0]']                \n",
            "                                                                                                  \n",
            " concatenate (Concatenate)      (None, 96)           0           ['mul_residual[0][0]',           \n",
            "                                                                  'dropout[0][0]']                \n",
            "                                                                                                  \n",
            " dense_2 (Dense)                (None, 64)           6208        ['concatenate[0][0]']            \n",
            "                                                                                                  \n",
            " dense_3 (Dense)                (None, 5)            325         ['dense_2[0][0]']                \n",
            "                                                                                                  \n",
            "==================================================================================================\n",
            "Total params: 257,160,741\n",
            "Trainable params: 362,661\n",
            "Non-trainable params: 256,798,080\n",
            "__________________________________________________________________________________________________\n"
          ]
        }
      ]
    },
    {
      "cell_type": "code",
      "source": [
        "# Explore model visually\n",
        "plot_model(\n",
        "    model,\n",
        "    show_shapes=True,\n",
        "    expand_nested=True\n",
        ")"
      ],
      "metadata": {
        "colab": {
          "base_uri": "https://localhost:8080/",
          "height": 1000
        },
        "id": "Wnt9lM4jmN5k",
        "outputId": "9a73962c-d03f-4830-8386-8fcd906aa2c9"
      },
      "execution_count": 67,
      "outputs": [
        {
          "output_type": "execute_result",
          "data": {
            "image/png": "[encoded data removed]",
            "text/plain": [
              "<IPython.core.display.Image object>"
            ]
          },
          "metadata": {},
          "execution_count": 67
        }
      ]
    },
    {
      "cell_type": "code",
      "source": [
        "def train_model(model, num_epochs, callbacks_list, tf_train_data, \n",
        "                tf_valid_data=None, shuffling=False):\n",
        "    '''\n",
        "        Trains a TensorFlow model and returns a dict object containing the model metrics history data. \n",
        "        \n",
        "        @params\n",
        "        - model: (tf.keras.model) -> model to be trained \n",
        "        - num_epochs: (int) -> number of epochs to train the model\n",
        "        - callbacks_list: (list) -> list containing callback fuctions for model\n",
        "        - tf_train_data: (tf.data.Dataset) -> dataset for model to be train on \n",
        "        - tf_valid_data: (tf.data.Dataset) -> dataset for model to be validated on (default=None)\n",
        "        - shuffling: (bool) -> condition for data shuffling, data is shuffled when True (default=False)\n",
        "        \n",
        "        @returns\n",
        "        - model_history: (dict) -> dictionary containing loss and metrics values tracked during training\n",
        "    '''\n",
        "    \n",
        "    model_history = {}\n",
        "    \n",
        "    if tf_valid_data != None:\n",
        "        model_history = model.fit(tf_train_data,\n",
        "                                  epochs=num_epochs,\n",
        "                                  validation_data=tf_valid_data,\n",
        "                                  validation_steps=int(len(tf_valid_data)),\n",
        "                                  callbacks=callbacks_list,\n",
        "                                  shuffle=shuffling)\n",
        "        \n",
        "    if tf_valid_data == None:\n",
        "        model_history = model.fit(tf_train_data,\n",
        "                                  epochs=num_epochs,\n",
        "                                  callbacks=callbacks_list,\n",
        "                                  shuffle=shuffling)\n",
        "    return model_history"
      ],
      "metadata": {
        "id": "NKjj3D4amPT3"
      },
      "execution_count": 68,
      "outputs": []
    },
    {
      "cell_type": "code",
      "source": [
        "early_stopping_callback = tf.keras.callbacks.EarlyStopping(\n",
        "    monitor='val_loss', \n",
        "    patience=4, \n",
        "    restore_best_weights=True)\n",
        "\n",
        "reduce_lr_callback = tf.keras.callbacks.ReduceLROnPlateau(\n",
        "    monitor='val_loss',\n",
        "    patience=2,\n",
        "    factor=0.1,\n",
        "    verbose=1)\n",
        "\n",
        "EPOCHS = 20\n",
        "CALLBACKS = [early_stopping_callback, reduce_lr_callback]\n",
        "METRICS = ['accuracy']"
      ],
      "metadata": {
        "id": "JeXeoacLmQxC"
      },
      "execution_count": 69,
      "outputs": []
    },
    {
      "cell_type": "code",
      "source": [
        "train_sentences_count = len(train_sentences)\n",
        "val_sentences_count = len(val_sentences)\n",
        "test_sentences_count = len(test_sentences)\n",
        "total_sentences_count = train_sentences_count + val_sentences_count + test_sentences_count"
      ],
      "metadata": {
        "id": "f_3DzyB5mRyV"
      },
      "execution_count": 70,
      "outputs": []
    },
    {
      "cell_type": "code",
      "source": [
        "tf.random.set_seed(42)\n",
        "\n",
        "model.compile(\n",
        "    loss=tf.keras.losses.CategoricalCrossentropy(label_smoothing=0.1),\n",
        "    optimizer=tf.keras.optimizers.Adam(learning_rate=0.0001),\n",
        "    metrics=METRICS\n",
        ")\n",
        "\n",
        "print(f'Training {model.name}.')\n",
        "print(f'Train on {train_sentences_count} samples, validate on {val_sentences_count} samples.')\n",
        "print('----------------------------------')\n",
        "\n",
        "model_history = train_model(\n",
        "    model, EPOCHS, CALLBACKS, \n",
        "    train_ds, val_ds,\n",
        "    shuffling=False\n",
        ")"
      ],
      "metadata": {
        "colab": {
          "base_uri": "https://localhost:8080/"
        },
        "id": "Wz_cQUmlmTKa",
        "outputId": "7d5ced96-bf8d-4b08-c74c-997a197a51ef"
      },
      "execution_count": 71,
      "outputs": [
        {
          "output_type": "stream",
          "name": "stdout",
          "text": [
            "Training use_attention_model.\n",
            "Train on 19892 samples, validate on 6526 samples.\n",
            "----------------------------------\n",
            "Epoch 1/20\n",
            "622/622 [==============================] - 35s 36ms/step - loss: 1.3601 - accuracy: 0.4740 - val_loss: 1.1542 - val_accuracy: 0.6571 - lr: 1.0000e-04\n",
            "Epoch 2/20\n",
            "622/622 [==============================] - 13s 20ms/step - loss: 1.0231 - accuracy: 0.6794 - val_loss: 0.9959 - val_accuracy: 0.6974 - lr: 1.0000e-04\n",
            "Epoch 3/20\n",
            "622/622 [==============================] - 13s 20ms/step - loss: 0.9547 - accuracy: 0.7133 - val_loss: 0.9518 - val_accuracy: 0.7225 - lr: 1.0000e-04\n",
            "Epoch 4/20\n",
            "622/622 [==============================] - 12s 20ms/step - loss: 0.8922 - accuracy: 0.7486 - val_loss: 0.9062 - val_accuracy: 0.7544 - lr: 1.0000e-04\n",
            "Epoch 5/20\n",
            "622/622 [==============================] - 15s 23ms/step - loss: 0.8307 - accuracy: 0.7829 - val_loss: 0.8647 - val_accuracy: 0.7792 - lr: 1.0000e-04\n",
            "Epoch 6/20\n",
            "622/622 [==============================] - 15s 23ms/step - loss: 0.7860 - accuracy: 0.8063 - val_loss: 0.8346 - val_accuracy: 0.7950 - lr: 1.0000e-04\n",
            "Epoch 7/20\n",
            "622/622 [==============================] - 13s 21ms/step - loss: 0.7571 - accuracy: 0.8212 - val_loss: 0.8160 - val_accuracy: 0.8057 - lr: 1.0000e-04\n",
            "Epoch 8/20\n",
            "622/622 [==============================] - 13s 21ms/step - loss: 0.7402 - accuracy: 0.8316 - val_loss: 0.8011 - val_accuracy: 0.8111 - lr: 1.0000e-04\n",
            "Epoch 9/20\n",
            "622/622 [==============================] - 13s 21ms/step - loss: 0.7271 - accuracy: 0.8406 - val_loss: 0.7894 - val_accuracy: 0.8132 - lr: 1.0000e-04\n",
            "Epoch 10/20\n",
            "622/622 [==============================] - 13s 20ms/step - loss: 0.7146 - accuracy: 0.8449 - val_loss: 0.7828 - val_accuracy: 0.8161 - lr: 1.0000e-04\n",
            "Epoch 11/20\n",
            "622/622 [==============================] - 13s 20ms/step - loss: 0.7045 - accuracy: 0.8514 - val_loss: 0.7747 - val_accuracy: 0.8204 - lr: 1.0000e-04\n",
            "Epoch 12/20\n",
            "622/622 [==============================] - 13s 21ms/step - loss: 0.6953 - accuracy: 0.8565 - val_loss: 0.7693 - val_accuracy: 0.8212 - lr: 1.0000e-04\n",
            "Epoch 13/20\n",
            "622/622 [==============================] - 13s 20ms/step - loss: 0.6886 - accuracy: 0.8618 - val_loss: 0.7652 - val_accuracy: 0.8256 - lr: 1.0000e-04\n",
            "Epoch 14/20\n",
            "622/622 [==============================] - 13s 20ms/step - loss: 0.6801 - accuracy: 0.8642 - val_loss: 0.7587 - val_accuracy: 0.8249 - lr: 1.0000e-04\n",
            "Epoch 15/20\n",
            "622/622 [==============================] - 13s 21ms/step - loss: 0.6729 - accuracy: 0.8703 - val_loss: 0.7546 - val_accuracy: 0.8275 - lr: 1.0000e-04\n",
            "Epoch 16/20\n",
            "622/622 [==============================] - 13s 21ms/step - loss: 0.6677 - accuracy: 0.8721 - val_loss: 0.7519 - val_accuracy: 0.8276 - lr: 1.0000e-04\n",
            "Epoch 17/20\n",
            "622/622 [==============================] - 13s 20ms/step - loss: 0.6606 - accuracy: 0.8782 - val_loss: 0.7487 - val_accuracy: 0.8278 - lr: 1.0000e-04\n",
            "Epoch 18/20\n",
            "622/622 [==============================] - 13s 20ms/step - loss: 0.6568 - accuracy: 0.8793 - val_loss: 0.7460 - val_accuracy: 0.8264 - lr: 1.0000e-04\n",
            "Epoch 19/20\n",
            "622/622 [==============================] - 13s 20ms/step - loss: 0.6507 - accuracy: 0.8827 - val_loss: 0.7436 - val_accuracy: 0.8273 - lr: 1.0000e-04\n",
            "Epoch 20/20\n",
            "622/622 [==============================] - 13s 21ms/step - loss: 0.6440 - accuracy: 0.8869 - val_loss: 0.7396 - val_accuracy: 0.8281 - lr: 1.0000e-04\n"
          ]
        }
      ]
    },
    {
      "cell_type": "code",
      "source": [
        "# evaluate the model on the test data to see how it performs\n",
        "model.evaluate(test_ds)"
      ],
      "metadata": {
        "colab": {
          "base_uri": "https://localhost:8080/"
        },
        "id": "CoEEk2_-mc48",
        "outputId": "486bb0db-8fef-4515-e37d-5bfc97b4c385"
      },
      "execution_count": 72,
      "outputs": [
        {
          "output_type": "stream",
          "name": "stdout",
          "text": [
            "208/208 [==============================] - 2s 11ms/step - loss: 0.7355 - accuracy: 0.8352\n"
          ]
        },
        {
          "output_type": "execute_result",
          "data": {
            "text/plain": [
              "[0.735525906085968, 0.8351665139198303]"
            ]
          },
          "metadata": {},
          "execution_count": 72
        }
      ]
    },
    {
      "cell_type": "code",
      "source": [
        "# generate validation probabilities\n",
        "val_probabilities = model.predict(val_ds, verbose=1)\n",
        "val_probabilities"
      ],
      "metadata": {
        "colab": {
          "base_uri": "https://localhost:8080/"
        },
        "id": "xLZooVrBmg01",
        "outputId": "3cb5a48c-0787-434a-a84d-50383c690a95"
      },
      "execution_count": 73,
      "outputs": [
        {
          "output_type": "stream",
          "name": "stdout",
          "text": [
            "204/204 [==============================] - 3s 11ms/step\n"
          ]
        },
        {
          "output_type": "execute_result",
          "data": {
            "text/plain": [
              "array([[0.49211556, 0.02552699, 0.01561396, 0.45917296, 0.00757051],\n",
              "       [0.00583618, 0.0054874 , 0.94739634, 0.00947747, 0.03180264],\n",
              "       [0.02751394, 0.7536884 , 0.01178009, 0.02953646, 0.17748117],\n",
              "       ...,\n",
              "       [0.01749298, 0.01286938, 0.9486298 , 0.00908065, 0.0119272 ],\n",
              "       [0.06795315, 0.10832931, 0.16100015, 0.08039553, 0.5823218 ],\n",
              "       [0.05085798, 0.3870443 , 0.29087746, 0.02605916, 0.24516103]],\n",
              "      dtype=float32)"
            ]
          },
          "metadata": {},
          "execution_count": 73
        }
      ]
    },
    {
      "cell_type": "code",
      "source": [
        "# generate test probabilities\n",
        "test_probabilities = model.predict(test_ds, verbose=1)\n",
        "test_probabilities"
      ],
      "metadata": {
        "colab": {
          "base_uri": "https://localhost:8080/"
        },
        "id": "DCujX_d3miPF",
        "outputId": "e4506c39-b7bc-4b5e-dd79-2ddde5a179f3"
      },
      "execution_count": 74,
      "outputs": [
        {
          "output_type": "stream",
          "name": "stdout",
          "text": [
            "208/208 [==============================] - 2s 10ms/step\n"
          ]
        },
        {
          "output_type": "execute_result",
          "data": {
            "text/plain": [
              "array([[0.59093434, 0.14056039, 0.01640695, 0.18651336, 0.06558496],\n",
              "       [0.07187527, 0.03082657, 0.7612055 , 0.06574158, 0.070351  ],\n",
              "       [0.12829171, 0.07030303, 0.04818505, 0.07932606, 0.67389417],\n",
              "       ...,\n",
              "       [0.03940928, 0.02302763, 0.8662787 , 0.03615306, 0.03513131],\n",
              "       [0.04161273, 0.04235056, 0.02447489, 0.02386901, 0.8676928 ],\n",
              "       [0.01320789, 0.9765322 , 0.00275154, 0.00368658, 0.00382193]],\n",
              "      dtype=float32)"
            ]
          },
          "metadata": {},
          "execution_count": 74
        }
      ]
    },
    {
      "cell_type": "code",
      "source": [
        "# generate test predictions with argmax\n",
        "test_predictions = tf.argmax(test_probabilities, axis=1)\n",
        "test_predictions"
      ],
      "metadata": {
        "colab": {
          "base_uri": "https://localhost:8080/"
        },
        "id": "mqH2cHKnmjTb",
        "outputId": "bcf99f49-66fe-43b4-8302-4d18ae45d654"
      },
      "execution_count": 75,
      "outputs": [
        {
          "output_type": "execute_result",
          "data": {
            "text/plain": [
              "<tf.Tensor: shape=(6637,), dtype=int64, numpy=array([0, 2, 4, ..., 2, 4, 1])>"
            ]
          },
          "metadata": {},
          "execution_count": 75
        }
      ]
    },
    {
      "cell_type": "code",
      "source": [
        "def plot_training_curves(history):\n",
        "    \n",
        "    loss = np.array(history.history['loss'])\n",
        "    val_loss = np.array(history.history['val_loss'])\n",
        "\n",
        "    accuracy = np.array(history.history['accuracy'])\n",
        "    val_accuracy = np.array(history.history['val_accuracy'])\n",
        "\n",
        "    epochs = range(len(history.history['loss']))\n",
        "\n",
        "    fig, (ax1, ax2) = plt.subplots(1, 2)\n",
        "\n",
        "    # Plot loss\n",
        "    ax1.plot(epochs, loss, label='training_loss')\n",
        "    ax1.plot(epochs, val_loss, label='val_loss')\n",
        "    \n",
        "    ax1.fill_between(epochs, loss, val_loss, where=(loss > val_loss), color='C0', alpha=0.3, interpolate=True)\n",
        "    ax1.fill_between(epochs, loss, val_loss, where=(loss < val_loss), color='C1', alpha=0.3, interpolate=True)\n",
        "\n",
        "    ax1.set_title('Loss')\n",
        "    ax1.set_xlabel('Epochs')\n",
        "    ax1.legend()\n",
        "\n",
        "    # Plot accuracy\n",
        "    ax2.plot(epochs, accuracy, label='training_accuracy')\n",
        "    ax2.plot(epochs, val_accuracy, label='val_accuracy')\n",
        "    \n",
        "    ax2.fill_between(epochs, accuracy, val_accuracy, where=(accuracy > val_accuracy), color='C0', alpha=0.3, interpolate=True)\n",
        "    ax2.fill_between(epochs, accuracy, val_accuracy, where=(accuracy < val_accuracy), color='C1', alpha=0.3, interpolate=True)\n",
        "\n",
        "    ax2.set_title('Accuracy')\n",
        "    ax2.set_xlabel('Epochs')\n",
        "    ax2.legend();\n",
        "    plt.tight_layout()"
      ],
      "metadata": {
        "id": "uT69ZeQ8mlHh"
      },
      "execution_count": 76,
      "outputs": []
    },
    {
      "cell_type": "code",
      "source": [
        "# plot model training history \n",
        "plot_training_curves(model_history)"
      ],
      "metadata": {
        "colab": {
          "base_uri": "https://localhost:8080/",
          "height": 487
        },
        "id": "5eOQJTGKmrfv",
        "outputId": "e6732ebc-ef39-4b00-a705-2d8d6c8886d7"
      },
      "execution_count": 77,
      "outputs": [
        {
          "output_type": "display_data",
          "data": {
            "text/plain": [
              "<Figure size 640x480 with 2 Axes>"
            ],
            "image/png": "[encoded data removed]"
          },
          "metadata": {}
        }
      ]
    },
    {
      "cell_type": "code",
      "source": [
        "# generate validation predictions with argmax\n",
        "val_predictions = tf.argmax(val_probabilities, axis=1)\n",
        "val_predictions"
      ],
      "metadata": {
        "colab": {
          "base_uri": "https://localhost:8080/"
        },
        "id": "0rhRFZjEmsjS",
        "outputId": "0ee152b8-7ab3-4eb4-91fa-9676d6c0b1da"
      },
      "execution_count": 78,
      "outputs": [
        {
          "output_type": "execute_result",
          "data": {
            "text/plain": [
              "<tf.Tensor: shape=(6526,), dtype=int64, numpy=array([0, 2, 1, ..., 2, 4, 1])>"
            ]
          },
          "metadata": {},
          "execution_count": 78
        }
      ]
    },
    {
      "cell_type": "code",
      "source": [
        "# Generate validation classification report\n",
        "print(classification_report(val_labels_encoded, val_predictions, target_names=class_names))"
      ],
      "metadata": {
        "colab": {
          "base_uri": "https://localhost:8080/"
        },
        "id": "uCzvSXgimtww",
        "outputId": "87ecb7c5-f2f2-4945-980e-4870e0d9149d"
      },
      "execution_count": 79,
      "outputs": [
        {
          "output_type": "stream",
          "name": "stdout",
          "text": [
            "              precision    recall  f1-score   support\n",
            "\n",
            " BACKGROUND:       0.52      0.69      0.59       537\n",
            "CONCLUSIONS:       0.89      0.93      0.91      1241\n",
            "    METHODS:       0.87      0.87      0.87      1704\n",
            "  OBJECTIVE:       0.80      0.73      0.77      1289\n",
            "    RESULTS:       0.89      0.83      0.86      1755\n",
            "\n",
            "    accuracy                           0.83      6526\n",
            "   macro avg       0.79      0.81      0.80      6526\n",
            "weighted avg       0.84      0.83      0.83      6526\n",
            "\n"
          ]
        }
      ]
    },
    {
      "cell_type": "code",
      "source": [
        "test_probabilities = model.predict(test_ds, verbose=1)\n",
        "test_probabilities"
      ],
      "metadata": {
        "colab": {
          "base_uri": "https://localhost:8080/"
        },
        "id": "4eWueQNqmup1",
        "outputId": "36f7c7d6-99ed-4b12-e188-08f7de449d73"
      },
      "execution_count": 80,
      "outputs": [
        {
          "output_type": "stream",
          "name": "stdout",
          "text": [
            "208/208 [==============================] - 2s 10ms/step\n"
          ]
        },
        {
          "output_type": "execute_result",
          "data": {
            "text/plain": [
              "array([[0.59093434, 0.14056039, 0.01640695, 0.18651336, 0.06558496],\n",
              "       [0.07187527, 0.03082657, 0.7612055 , 0.06574158, 0.070351  ],\n",
              "       [0.12829171, 0.07030303, 0.04818505, 0.07932606, 0.67389417],\n",
              "       ...,\n",
              "       [0.03940928, 0.02302763, 0.8662787 , 0.03615306, 0.03513131],\n",
              "       [0.04161273, 0.04235056, 0.02447489, 0.02386901, 0.8676928 ],\n",
              "       [0.01320789, 0.9765322 , 0.00275154, 0.00368658, 0.00382193]],\n",
              "      dtype=float32)"
            ]
          },
          "metadata": {},
          "execution_count": 80
        }
      ]
    },
    {
      "cell_type": "code",
      "source": [
        "# generate test predictions with argmax\n",
        "test_predictions = tf.argmax(test_probabilities, axis=1)\n",
        "test_predictions"
      ],
      "metadata": {
        "colab": {
          "base_uri": "https://localhost:8080/"
        },
        "id": "2PNRYpoxmvn_",
        "outputId": "a71df2cc-4629-4355-b8f7-b901aa29b45b"
      },
      "execution_count": 81,
      "outputs": [
        {
          "output_type": "execute_result",
          "data": {
            "text/plain": [
              "<tf.Tensor: shape=(6637,), dtype=int64, numpy=array([0, 2, 4, ..., 2, 4, 1])>"
            ]
          },
          "metadata": {},
          "execution_count": 81
        }
      ]
    },
    {
      "cell_type": "code",
      "source": [
        "print(classification_report(test_labels_encoded, test_predictions, target_names=class_names))"
      ],
      "metadata": {
        "colab": {
          "base_uri": "https://localhost:8080/"
        },
        "id": "R1oD9VKymwkO",
        "outputId": "2a806699-50c9-4c0a-b8e8-3256bd91fbfa"
      },
      "execution_count": 82,
      "outputs": [
        {
          "output_type": "stream",
          "name": "stdout",
          "text": [
            "              precision    recall  f1-score   support\n",
            "\n",
            " BACKGROUND:       0.54      0.65      0.59       578\n",
            "CONCLUSIONS:       0.90      0.95      0.92      1274\n",
            "    METHODS:       0.87      0.88      0.87      1723\n",
            "  OBJECTIVE:       0.79      0.75      0.77      1296\n",
            "    RESULTS:       0.89      0.84      0.86      1766\n",
            "\n",
            "    accuracy                           0.84      6637\n",
            "   macro avg       0.80      0.81      0.81      6637\n",
            "weighted avg       0.84      0.84      0.84      6637\n",
            "\n"
          ]
        }
      ]
    },
    {
      "cell_type": "code",
      "source": [
        "def generate_preformance_scores(y_true, y_pred, y_probabilities):\n",
        "    \n",
        "    model_accuracy = round(accuracy_score(y_true, y_pred), 5)\n",
        "    top_3_accuracy = round(top_k_accuracy_score(y_true, y_probabilities, k=3), 5)\n",
        "    model_precision, model_recall, model_f1, _ = precision_recall_fscore_support(test_labels_encoded, \n",
        "                                                                                 test_predictions, \n",
        "                                                                                 average=\"weighted\")\n",
        "    model_precision, model_recall, model_f1 = round(model_precision, 5), round(model_recall, 5), round(model_f1, 5)\n",
        "    model_matthews_corrcoef = round(matthews_corrcoef(y_true, y_pred), 5)\n",
        "    \n",
        "    print('=============================================')\n",
        "    print(f'\\nPerformance Metrics:\\n')\n",
        "    print('=============================================')\n",
        "    print(f'accuracy_score:\\t\\t{model_accuracy}\\n')\n",
        "    print('_____________________________________________')\n",
        "    print(f'top_3_accuracy_score:\\t{top_3_accuracy}\\n')\n",
        "    print('_____________________________________________')\n",
        "    print(f'precision_score:\\t{model_precision}\\n')\n",
        "    print('_____________________________________________')\n",
        "    print(f'recall_score:\\t\\t{model_recall}\\n')\n",
        "    print('_____________________________________________')\n",
        "    print(f'f1_score:\\t\\t{model_f1}\\n')\n",
        "    print('_____________________________________________')\n",
        "    print(f'matthews_corrcoef:\\t{model_matthews_corrcoef}\\n')\n",
        "    print('=============================================')\n",
        "    \n",
        "    return"
      ],
      "metadata": {
        "id": "RDl_z45Emxan"
      },
      "execution_count": 83,
      "outputs": []
    },
    {
      "cell_type": "code",
      "source": [
        "generate_preformance_scores(val_labels_encoded, val_predictions, val_probabilities)"
      ],
      "metadata": {
        "colab": {
          "base_uri": "https://localhost:8080/"
        },
        "id": "b85tPnZ3myc4",
        "outputId": "17075268-8030-4373-e04d-1113110167bc"
      },
      "execution_count": 84,
      "outputs": [
        {
          "output_type": "stream",
          "name": "stdout",
          "text": [
            "=============================================\n",
            "\n",
            "Performance Metrics:\n",
            "\n",
            "=============================================\n",
            "accuracy_score:\t\t0.82807\n",
            "\n",
            "_____________________________________________\n",
            "top_3_accuracy_score:\t0.98682\n",
            "\n",
            "_____________________________________________\n",
            "precision_score:\t0.83996\n",
            "\n",
            "_____________________________________________\n",
            "recall_score:\t\t0.83517\n",
            "\n",
            "_____________________________________________\n",
            "f1_score:\t\t0.83672\n",
            "\n",
            "_____________________________________________\n",
            "matthews_corrcoef:\t0.78072\n",
            "\n",
            "=============================================\n"
          ]
        }
      ]
    },
    {
      "cell_type": "code",
      "source": [
        "generate_preformance_scores(test_labels_encoded, test_predictions, test_probabilities)"
      ],
      "metadata": {
        "colab": {
          "base_uri": "https://localhost:8080/"
        },
        "id": "kSeamc_amzb_",
        "outputId": "ba4b190a-e0c5-44fe-9306-08f3f4f93abf"
      },
      "execution_count": 85,
      "outputs": [
        {
          "output_type": "stream",
          "name": "stdout",
          "text": [
            "=============================================\n",
            "\n",
            "Performance Metrics:\n",
            "\n",
            "=============================================\n",
            "accuracy_score:\t\t0.83517\n",
            "\n",
            "_____________________________________________\n",
            "top_3_accuracy_score:\t0.98644\n",
            "\n",
            "_____________________________________________\n",
            "precision_score:\t0.83996\n",
            "\n",
            "_____________________________________________\n",
            "recall_score:\t\t0.83517\n",
            "\n",
            "_____________________________________________\n",
            "f1_score:\t\t0.83672\n",
            "\n",
            "_____________________________________________\n",
            "matthews_corrcoef:\t0.78966\n",
            "\n",
            "=============================================\n"
          ]
        }
      ]
    },
    {
      "cell_type": "code",
      "source": [
        "def plot_confusion_matrix(y_true, y_pred, classes='auto', figsize=(10, 10), text_size=11): \n",
        "    # Generate confusion matrix \n",
        "    cm = confusion_matrix(y_true, y_pred)\n",
        "    \n",
        "    # Set plot size\n",
        "    plt.figure(figsize=figsize)\n",
        "\n",
        "    # Create confusion matrix heatmap\n",
        "    disp = sns.heatmap(\n",
        "        cm, annot=True,\n",
        "        fmt='d',\n",
        "        linewidths=1, linecolor='black', clip_on=False,\n",
        "        xticklabels=classes, yticklabels=classes)\n",
        "    \n",
        "    # Set title and axis labels\n",
        "    disp.set_title('Confusion Matrix')\n",
        "    disp.set_xlabel('Predicted Label') \n",
        "    disp.set_ylabel('True Label')\n",
        "    \n",
        "    # Plot confusion matrix\n",
        "    plt.show()\n",
        "    \n",
        "    return"
      ],
      "metadata": {
        "id": "KNjjD-2mm0ft"
      },
      "execution_count": 86,
      "outputs": []
    },
    {
      "cell_type": "code",
      "source": [
        "# View Confusion Matrix\n",
        "plot_confusion_matrix(\n",
        "    test_labels_encoded, \n",
        "    test_predictions, \n",
        "    figsize=(10, 10), \n",
        "    classes=list(class_names))"
      ],
      "metadata": {
        "colab": {
          "base_uri": "https://localhost:8080/",
          "height": 872
        },
        "id": "V4wzGgn4m1qi",
        "outputId": "88307236-749b-4b4b-a178-534f48cb0812"
      },
      "execution_count": 87,
      "outputs": [
        {
          "output_type": "display_data",
          "data": {
            "text/plain": [
              "<Figure size 1000x1000 with 2 Axes>"
            ],
            "image/png": "[encoded data removed]"
          },
          "metadata": {}
        }
      ]
    },
    {
      "cell_type": "code",
      "source": [],
      "metadata": {
        "id": "iNdEWaBgck41"
      },
      "execution_count": 87,
      "outputs": []
    }
  ]
}