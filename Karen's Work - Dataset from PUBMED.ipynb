{
 "cells": [
  {
   "cell_type": "code",
   "execution_count": 1,
   "id": "0595d6a7",
   "metadata": {},
   "outputs": [
    {
     "name": "stdout",
     "output_type": "stream",
     "text": [
      "Requirement already satisfied: metapub==0.5.5 in c:\\users\\karen\\anaconda3\\lib\\site-packages (0.5.5)\n",
      "Requirement already satisfied: coloredlogs in c:\\users\\karen\\anaconda3\\lib\\site-packages (from metapub==0.5.5) (15.0.1)\n",
      "Requirement already satisfied: cssselect in c:\\users\\karen\\anaconda3\\lib\\site-packages (from metapub==0.5.5) (1.2.0)\n",
      "Requirement already satisfied: python-Levenshtein in c:\\users\\karen\\anaconda3\\lib\\site-packages (from metapub==0.5.5) (0.20.9)\n",
      "Requirement already satisfied: tabulate in c:\\users\\karen\\anaconda3\\lib\\site-packages (from metapub==0.5.5) (0.9.0)\n",
      "Requirement already satisfied: requests in c:\\users\\karen\\anaconda3\\lib\\site-packages (from metapub==0.5.5) (2.26.0)\n",
      "Requirement already satisfied: unidecode in c:\\users\\karen\\anaconda3\\lib\\site-packages (from metapub==0.5.5) (1.2.0)\n",
      "Requirement already satisfied: habanero in c:\\users\\karen\\anaconda3\\lib\\site-packages (from metapub==0.5.5) (1.2.3)\n",
      "Requirement already satisfied: pytest in c:\\users\\karen\\anaconda3\\lib\\site-packages (from metapub==0.5.5) (6.2.4)\n",
      "Requirement already satisfied: six in c:\\users\\karen\\anaconda3\\lib\\site-packages (from metapub==0.5.5) (1.16.0)\n",
      "Requirement already satisfied: eutils in c:\\users\\karen\\anaconda3\\lib\\site-packages (from metapub==0.5.5) (0.6.0)\n",
      "Requirement already satisfied: setuptools in c:\\users\\karen\\anaconda3\\lib\\site-packages (from metapub==0.5.5) (67.4.0)\n",
      "Requirement already satisfied: tox in c:\\users\\karen\\anaconda3\\lib\\site-packages (from metapub==0.5.5) (3.28.0)\n",
      "Requirement already satisfied: lxml in c:\\users\\karen\\anaconda3\\lib\\site-packages (from metapub==0.5.5) (4.6.3)\n",
      "Requirement already satisfied: docopt in c:\\users\\karen\\anaconda3\\lib\\site-packages (from metapub==0.5.5) (0.6.2)\n",
      "Requirement already satisfied: humanfriendly>=9.1 in c:\\users\\karen\\anaconda3\\lib\\site-packages (from coloredlogs->metapub==0.5.5) (10.0)\n",
      "Requirement already satisfied: pytz in c:\\users\\karen\\anaconda3\\lib\\site-packages (from eutils->metapub==0.5.5) (2021.3)\n",
      "Requirement already satisfied: tqdm in c:\\users\\karen\\anaconda3\\lib\\site-packages (from habanero->metapub==0.5.5) (4.62.3)\n",
      "Requirement already satisfied: charset-normalizer~=2.0.0 in c:\\users\\karen\\anaconda3\\lib\\site-packages (from requests->metapub==0.5.5) (2.0.4)\n",
      "Requirement already satisfied: certifi>=2017.4.17 in c:\\users\\karen\\anaconda3\\lib\\site-packages (from requests->metapub==0.5.5) (2022.12.7)\n",
      "Requirement already satisfied: idna<4,>=2.5 in c:\\users\\karen\\anaconda3\\lib\\site-packages (from requests->metapub==0.5.5) (3.2)\n",
      "Requirement already satisfied: urllib3<1.27,>=1.21.1 in c:\\users\\karen\\anaconda3\\lib\\site-packages (from requests->metapub==0.5.5) (1.26.7)\n",
      "Requirement already satisfied: attrs>=19.2.0 in c:\\users\\karen\\anaconda3\\lib\\site-packages (from pytest->metapub==0.5.5) (21.2.0)\n",
      "Requirement already satisfied: iniconfig in c:\\users\\karen\\anaconda3\\lib\\site-packages (from pytest->metapub==0.5.5) (1.1.1)\n",
      "Requirement already satisfied: packaging in c:\\users\\karen\\anaconda3\\lib\\site-packages (from pytest->metapub==0.5.5) (21.0)\n",
      "Requirement already satisfied: pluggy<1.0.0a1,>=0.12 in c:\\users\\karen\\anaconda3\\lib\\site-packages (from pytest->metapub==0.5.5) (0.13.1)\n",
      "Requirement already satisfied: py>=1.8.2 in c:\\users\\karen\\anaconda3\\lib\\site-packages (from pytest->metapub==0.5.5) (1.10.0)\n",
      "Requirement already satisfied: toml in c:\\users\\karen\\anaconda3\\lib\\site-packages (from pytest->metapub==0.5.5) (0.10.2)\n",
      "Requirement already satisfied: atomicwrites>=1.0 in c:\\users\\karen\\anaconda3\\lib\\site-packages (from pytest->metapub==0.5.5) (1.4.0)\n",
      "Requirement already satisfied: colorama in c:\\users\\karen\\anaconda3\\lib\\site-packages (from pytest->metapub==0.5.5) (0.4.6)\n",
      "Requirement already satisfied: Levenshtein==0.20.9 in c:\\users\\karen\\anaconda3\\lib\\site-packages (from python-Levenshtein->metapub==0.5.5) (0.20.9)\n",
      "Requirement already satisfied: rapidfuzz<3.0.0,>=2.3.0 in c:\\users\\karen\\anaconda3\\lib\\site-packages (from Levenshtein==0.20.9->python-Levenshtein->metapub==0.5.5) (2.14.0)\n",
      "Requirement already satisfied: virtualenv!=20.0.0,!=20.0.1,!=20.0.2,!=20.0.3,!=20.0.4,!=20.0.5,!=20.0.6,!=20.0.7,>=16.0.0 in c:\\users\\karen\\anaconda3\\lib\\site-packages (from tox->metapub==0.5.5) (20.21.0)\n",
      "Requirement already satisfied: tomli>=2.0.1 in c:\\users\\karen\\anaconda3\\lib\\site-packages (from tox->metapub==0.5.5) (2.0.1)\n",
      "Requirement already satisfied: filelock>=3.0.0 in c:\\users\\karen\\anaconda3\\lib\\site-packages (from tox->metapub==0.5.5) (3.10.7)\n",
      "Requirement already satisfied: pyreadline3 in c:\\users\\karen\\anaconda3\\lib\\site-packages (from humanfriendly>=9.1->coloredlogs->metapub==0.5.5) (3.4.1)\n",
      "Requirement already satisfied: pyparsing>=2.0.2 in c:\\users\\karen\\anaconda3\\lib\\site-packages (from packaging->pytest->metapub==0.5.5) (3.0.4)\n",
      "Requirement already satisfied: distlib<1,>=0.3.6 in c:\\users\\karen\\anaconda3\\lib\\site-packages (from virtualenv!=20.0.0,!=20.0.1,!=20.0.2,!=20.0.3,!=20.0.4,!=20.0.5,!=20.0.6,!=20.0.7,>=16.0.0->tox->metapub==0.5.5) (0.3.6)\n",
      "Requirement already satisfied: platformdirs<4,>=2.4 in c:\\users\\karen\\anaconda3\\lib\\site-packages (from virtualenv!=20.0.0,!=20.0.1,!=20.0.2,!=20.0.3,!=20.0.4,!=20.0.5,!=20.0.6,!=20.0.7,>=16.0.0->tox->metapub==0.5.5) (3.2.0)\n",
      "Note: you may need to restart the kernel to use updated packages.\n"
     ]
    }
   ],
   "source": [
    "pip install metapub==0.5.5"
   ]
  },
  {
   "cell_type": "code",
   "execution_count": 2,
   "id": "469fd51e",
   "metadata": {},
   "outputs": [
    {
     "name": "stdout",
     "output_type": "stream",
     "text": [
      "Requirement already satisfied: eutils in c:\\users\\karen\\anaconda3\\lib\\site-packages (0.6.0)\n",
      "Requirement already satisfied: pytz in c:\\users\\karen\\anaconda3\\lib\\site-packages (from eutils) (2021.3)\n",
      "Requirement already satisfied: lxml in c:\\users\\karen\\anaconda3\\lib\\site-packages (from eutils) (4.6.3)\n",
      "Requirement already satisfied: requests in c:\\users\\karen\\anaconda3\\lib\\site-packages (from eutils) (2.26.0)\n",
      "Requirement already satisfied: urllib3<1.27,>=1.21.1 in c:\\users\\karen\\anaconda3\\lib\\site-packages (from requests->eutils) (1.26.7)\n",
      "Requirement already satisfied: charset-normalizer~=2.0.0 in c:\\users\\karen\\anaconda3\\lib\\site-packages (from requests->eutils) (2.0.4)\n",
      "Requirement already satisfied: certifi>=2017.4.17 in c:\\users\\karen\\anaconda3\\lib\\site-packages (from requests->eutils) (2022.12.7)\n",
      "Requirement already satisfied: idna<4,>=2.5 in c:\\users\\karen\\anaconda3\\lib\\site-packages (from requests->eutils) (3.2)\n",
      "Note: you may need to restart the kernel to use updated packages.\n"
     ]
    }
   ],
   "source": [
    "pip install eutils"
   ]
  },
  {
   "cell_type": "code",
   "execution_count": 3,
   "id": "8d1e9306",
   "metadata": {},
   "outputs": [
    {
     "name": "stdout",
     "output_type": "stream",
     "text": [
      "Requirement already satisfied: biopython in c:\\users\\karen\\anaconda3\\lib\\site-packages (1.81)\n",
      "Requirement already satisfied: numpy in c:\\users\\karen\\anaconda3\\lib\\site-packages (from biopython) (1.20.3)\n",
      "Note: you may need to restart the kernel to use updated packages.\n"
     ]
    }
   ],
   "source": [
    "pip install biopython"
   ]
  },
  {
   "cell_type": "code",
   "execution_count": 4,
   "id": "61824bcb",
   "metadata": {},
   "outputs": [
    {
     "name": "stdout",
     "output_type": "stream",
     "text": [
      "Error fetching abstract with PMID 34542055: IncompleteRead(3998 bytes read)\n",
      "Error fetching abstract with PMID 33257427: IncompleteRead(6610 bytes read)\n",
      "Error fetching abstract with PMID 30662548: IncompleteRead(2944 bytes read)\n",
      "Error fetching abstract with PMID 25946589: IncompleteRead(1670 bytes read)\n",
      "Error fetching abstract with PMID 24372085: HTTP Error 400: Bad Request\n",
      "Error fetching abstract with PMID 23633119: HTTP Error 400: Bad Request\n",
      "Error fetching abstract with PMID 16411050: HTTP Error 400: Bad Request\n",
      "Error fetching abstract with PMID 11745278: HTTP Error 400: Bad Request\n"
     ]
    }
   ],
   "source": [
    "from Bio import Entrez\n",
    "import pandas as pd\n",
    "\n",
    "# Provide your email address to the NCBI to identify yourself\n",
    "Entrez.email = \"likarennse13@gmail.com\"\n",
    "\n",
    "# Search for articles and fetch their abstracts\n",
    "keyword = '(\"breast cancer\" OR \"breast oncology\" OR \"breast carcinoma\" OR \"breast malignancy\" OR \"metastatic breast\" OR \"breast neoplasm\" OR \"ductal carcinoma\" OR \"DCIS\" OR \"mammary carcinoma\" OR \"mammary cancer\" OR \"malignant breast\" OR \"invasive ductal breast\" OR \"invasive lobular\" OR \"triple negative\" OR \"HER2\" OR \"breast tumor\" OR \"breast adenocarcinoma\" OR \"breast sarcoma\") AND \"objective\"[Title/Abstract] AND \"methods\"[Title/Abstract] AND \"results\"[Title/Abstract] AND \"conclusions\"[Title/Abstract]'  # your search keyword\n",
    "num_of_articles = 9500  # number of articles to fetch\n",
    "handle = Entrez.esearch(db=\"pubmed\", term=keyword, retmax=num_of_articles)\n",
    "record = Entrez.read(handle)\n",
    "pmids = record[\"IdList\"]\n",
    "\n",
    "abstracts = {}\n",
    "for pmid in pmids:\n",
    "    try:\n",
    "        handle = Entrez.efetch(db=\"pubmed\", id=pmid, rettype=\"abstract\", retmode=\"text\")\n",
    "        abstract = handle.read()\n",
    "        abstracts[pmid] = abstract.strip()\n",
    "    except Exception as e:\n",
    "        print(f\"Error fetching abstract with PMID {pmid}: {e}\")\n",
    "\n",
    "# Create a dataframe to store the abstracts\n",
    "df = pd.DataFrame(list(abstracts.items()), columns=[\"PMID\", \"Abstract\"])\n"
   ]
  },
  {
   "cell_type": "code",
   "execution_count": 5,
   "id": "7c1818be",
   "metadata": {},
   "outputs": [
    {
     "data": {
      "text/html": [
       "<div>\n",
       "<style scoped>\n",
       "    .dataframe tbody tr th:only-of-type {\n",
       "        vertical-align: middle;\n",
       "    }\n",
       "\n",
       "    .dataframe tbody tr th {\n",
       "        vertical-align: top;\n",
       "    }\n",
       "\n",
       "    .dataframe thead th {\n",
       "        text-align: right;\n",
       "    }\n",
       "</style>\n",
       "<table border=\"1\" class=\"dataframe\">\n",
       "  <thead>\n",
       "    <tr style=\"text-align: right;\">\n",
       "      <th></th>\n",
       "      <th>PMID</th>\n",
       "      <th>Abstract</th>\n",
       "    </tr>\n",
       "  </thead>\n",
       "  <tbody>\n",
       "    <tr>\n",
       "      <th>0</th>\n",
       "      <td>37003074</td>\n",
       "      <td>1. Gynecol Oncol. 2023 Mar 30;172:98-105. doi:...</td>\n",
       "    </tr>\n",
       "    <tr>\n",
       "      <th>1</th>\n",
       "      <td>37002189</td>\n",
       "      <td>1. Jpn J Clin Oncol. 2023 Mar 31:hyad026. doi:...</td>\n",
       "    </tr>\n",
       "    <tr>\n",
       "      <th>2</th>\n",
       "      <td>37000800</td>\n",
       "      <td>1. PLoS One. 2023 Mar 31;18(3):e0283849. doi: ...</td>\n",
       "    </tr>\n",
       "    <tr>\n",
       "      <th>3</th>\n",
       "      <td>37000356</td>\n",
       "      <td>1. Ann Surg Oncol. 2023 Mar 31. doi: 10.1245/s...</td>\n",
       "    </tr>\n",
       "    <tr>\n",
       "      <th>4</th>\n",
       "      <td>36999997</td>\n",
       "      <td>1. Plast Reconstr Surg. 2023 Mar 30. doi: 10.1...</td>\n",
       "    </tr>\n",
       "    <tr>\n",
       "      <th>5</th>\n",
       "      <td>36996290</td>\n",
       "      <td>1. J Immunol Sci. 2023;7(1):9-27. doi: 10.2924...</td>\n",
       "    </tr>\n",
       "    <tr>\n",
       "      <th>6</th>\n",
       "      <td>36995739</td>\n",
       "      <td>1. JMIR Res Protoc. 2023 Mar 30;12:e44867. doi...</td>\n",
       "    </tr>\n",
       "    <tr>\n",
       "      <th>7</th>\n",
       "      <td>36990840</td>\n",
       "      <td>1. Clin Breast Cancer. 2023 Mar 6:S1526-8209(2...</td>\n",
       "    </tr>\n",
       "    <tr>\n",
       "      <th>8</th>\n",
       "      <td>36989957</td>\n",
       "      <td>1. Cancer Epidemiol. 2023 Mar 27;84:102353. do...</td>\n",
       "    </tr>\n",
       "    <tr>\n",
       "      <th>9</th>\n",
       "      <td>36989466</td>\n",
       "      <td>1. Jpn J Clin Oncol. 2023 Mar 30:hyad021. doi:...</td>\n",
       "    </tr>\n",
       "  </tbody>\n",
       "</table>\n",
       "</div>"
      ],
      "text/plain": [
       "       PMID                                           Abstract\n",
       "0  37003074  1. Gynecol Oncol. 2023 Mar 30;172:98-105. doi:...\n",
       "1  37002189  1. Jpn J Clin Oncol. 2023 Mar 31:hyad026. doi:...\n",
       "2  37000800  1. PLoS One. 2023 Mar 31;18(3):e0283849. doi: ...\n",
       "3  37000356  1. Ann Surg Oncol. 2023 Mar 31. doi: 10.1245/s...\n",
       "4  36999997  1. Plast Reconstr Surg. 2023 Mar 30. doi: 10.1...\n",
       "5  36996290  1. J Immunol Sci. 2023;7(1):9-27. doi: 10.2924...\n",
       "6  36995739  1. JMIR Res Protoc. 2023 Mar 30;12:e44867. doi...\n",
       "7  36990840  1. Clin Breast Cancer. 2023 Mar 6:S1526-8209(2...\n",
       "8  36989957  1. Cancer Epidemiol. 2023 Mar 27;84:102353. do...\n",
       "9  36989466  1. Jpn J Clin Oncol. 2023 Mar 30:hyad021. doi:..."
      ]
     },
     "execution_count": 5,
     "metadata": {},
     "output_type": "execute_result"
    }
   ],
   "source": [
    "df.head(10)"
   ]
  },
  {
   "cell_type": "code",
   "execution_count": 6,
   "id": "1b9fcd5a",
   "metadata": {},
   "outputs": [
    {
     "data": {
      "text/plain": [
       "9492"
      ]
     },
     "execution_count": 6,
     "metadata": {},
     "output_type": "execute_result"
    }
   ],
   "source": [
    "len(df)"
   ]
  },
  {
   "cell_type": "code",
   "execution_count": 7,
   "id": "9b339fa0",
   "metadata": {},
   "outputs": [
    {
     "name": "stdout",
     "output_type": "stream",
     "text": [
      "DataFrame saved to file\n"
     ]
    }
   ],
   "source": [
    "df.to_csv('breast_cancer_abstracts.txt', sep='\\t', index=False)\n",
    "print(\"DataFrame saved to file\")"
   ]
  },
  {
   "cell_type": "code",
   "execution_count": null,
   "id": "6a9623ba",
   "metadata": {},
   "outputs": [],
   "source": []
  }
 ],
 "metadata": {
  "kernelspec": {
   "display_name": "Python 3 (ipykernel)",
   "language": "python",
   "name": "python3"
  },
  "language_info": {
   "codemirror_mode": {
    "name": "ipython",
    "version": 3
   },
   "file_extension": ".py",
   "mimetype": "text/x-python",
   "name": "python",
   "nbconvert_exporter": "python",
   "pygments_lexer": "ipython3",
   "version": "3.9.7"
  }
 },
 "nbformat": 4,
 "nbformat_minor": 5
}
